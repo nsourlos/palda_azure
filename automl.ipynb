{
  "cells": [
    {
      "cell_type": "markdown",
      "source": [
        "# Automated ML\n",
        "\n",
        "TODO: Import Dependencies. In the cell below, import all the dependencies that you will need to complete the project."
      ],
      "metadata": {}
    },
    {
      "cell_type": "markdown",
      "source": [
        "#### Azure Machine Learning and Pipeline SDK-specific imports"
      ],
      "metadata": {}
    },
    {
      "cell_type": "code",
      "source": [
        "import logging\n",
        "import os\n",
        "import csv\n",
        "\n",
        "from matplotlib import pyplot as plt\n",
        "import numpy as np\n",
        "import pandas as pd\n",
        "from sklearn import datasets\n",
        "import pkg_resources\n",
        "\n",
        "import azureml.core\n",
        "from azureml.core.experiment import Experiment\n",
        "from azureml.core.workspace import Workspace\n",
        "from azureml.train.automl import AutoMLConfig\n",
        "from azureml.core.dataset import Dataset\n",
        "\n",
        "from azureml.pipeline.steps import AutoMLStep\n",
        "\n",
        "# Check core SDK version number\n",
        "print(\"SDK version:\", azureml.core.VERSION)"
      ],
      "outputs": [
        {
          "output_type": "stream",
          "name": "stdout",
          "text": "SDK version: 1.37.0\n"
        }
      ],
      "execution_count": 1,
      "metadata": {
        "gather": {
          "logged": 1643029822891
        },
        "jupyter": {
          "outputs_hidden": false,
          "source_hidden": false
        },
        "nteract": {
          "transient": {
            "deleting": false
          }
        }
      }
    },
    {
      "cell_type": "markdown",
      "source": [
        "### Compute cluster"
      ],
      "metadata": {}
    },
    {
      "cell_type": "code",
      "source": [
        "ws = Workspace.from_config()\r\n",
        "print(ws.name, ws.resource_group, ws.location, ws.subscription_id, sep = '\\n')\r\n",
        "\r\n",
        "# choose a name for experiment\r\n",
        "experiment_name = 'palsy'\r\n",
        "project_folder = './palsy-project'\r\n",
        "\r\n",
        "\r\n",
        "experiment=Experiment(ws, experiment_name)\r\n",
        "print(experiment)"
      ],
      "outputs": [
        {
          "output_type": "stream",
          "name": "stdout",
          "text": "quick-starts-ws-178231\naml-quickstarts-178231\nsouthcentralus\n3e42d11f-d64d-4173-af9b-12ecaa1030b3\nExperiment(Name: palsy,\nWorkspace: quick-starts-ws-178231)\n"
        }
      ],
      "execution_count": 2,
      "metadata": {
        "jupyter": {
          "source_hidden": false,
          "outputs_hidden": false
        },
        "nteract": {
          "transient": {
            "deleting": false
          }
        },
        "gather": {
          "logged": 1643029823598
        }
      }
    },
    {
      "cell_type": "code",
      "source": [
        "from azureml.core.compute import AmlCompute\n",
        "from azureml.core.compute import ComputeTarget\n",
        "from azureml.core.compute_target import ComputeTargetException\n",
        "\n",
        "# NOTE: update the cluster name to match the existing cluster\n",
        "# Choose a name for your CPU cluster\n",
        "amlcompute_cluster_name = \"cpucluster4#\"#auto-ml\"\n",
        "\n",
        "# Verify that cluster does not exist already\n",
        "try:\n",
        "    compute_target = ComputeTarget(workspace=ws, name=amlcompute_cluster_name)\n",
        "    print('Found existing cluster, use it.')\n",
        "except ComputeTargetException:\n",
        "    compute_config = AmlCompute.provisioning_configuration(vm_size='STANDARD_DS3_V2',# for GPU, use \"STANDARD_NC6\"\n",
        "                                                           #vm_priority = 'lowpriority', # optional\n",
        "                                                           max_nodes=4)\n",
        "    compute_target = ComputeTarget.create(ws, amlcompute_cluster_name, compute_config)\n",
        "\n",
        "compute_target.wait_for_completion(show_output=True) #min_node_count = 1, , timeout_in_minutes = 10\n",
        "# For a more detailed view of current AmlCompute status, use get_status()."
      ],
      "outputs": [
        {
          "output_type": "stream",
          "name": "stdout",
          "text": "Found existing cluster, use it.\nSucceeded\nAmlCompute wait for completion finished\n\nMinimum number of nodes requested have been provisioned\n"
        }
      ],
      "execution_count": 3,
      "metadata": {
        "gather": {
          "logged": 1643029833418
        }
      }
    },
    {
      "cell_type": "markdown",
      "source": [
        "## Dataset\n",
        "\n",
        "### Overview\n",
        "TODO: In this markdown cell, give an overview of the dataset you are using. Also mention the task you will be performing.\n",
        "\n",
        "............\n",
        "\n",
        "TODO: Get data. In the cell below, write code to access the data you will be using in this project. Remember that the dataset needs to be external."
      ],
      "metadata": {}
    },
    {
      "cell_type": "code",
      "source": [
        "# ws = Workspace.from_config()\n",
        "# print(ws.name, ws.resource_group, ws.location, ws.subscription_id, sep = '\\n')\n",
        "\n",
        "# # choose a name for experiment\n",
        "# experiment_name = 'palsy'\n",
        "# project_folder = './palsy-project'\n",
        "\n",
        "\n",
        "# experiment=Experiment(ws, experiment_name)\n",
        "# print(experiment)\n",
        "\n",
        "# Try to load the dataset from the Workspace. Otherwise, create it from the file\n",
        "# NOTE: update the key to match the dataset name\n",
        "found = False\n",
        "key = \"bellpalsy\"\n",
        "description_text = \"Datapoints of face\"\n",
        "\n",
        "if key in ws.datasets.keys(): \n",
        "        found = True\n",
        "        dataset = ws.datasets[key] \n",
        "\n",
        "if not found:\n",
        "        # Create AML Dataset and register it into Workspace\n",
        "#         datastore = Datastore.get(ws, datastore_name='palda')\n",
        "#         example_data=datastore\n",
        "        path=\"https://raw.githubusercontent.com/nsourlos/palda_azure/main/palda.csv\"\n",
        "#         example_data = 'https://automlsamplenotebookdata.blob.core.windows.net/automl-sample-notebook-data/bankmarketing_train.csv'\n",
        "        dataset = Dataset.Tabular.from_delimited_files(path=path)#path = [(datastore, 'palda.csv')])#example_data)        \n",
        "        #Register Dataset in Workspace\n",
        "        dataset = dataset.register(workspace=ws,\n",
        "                                   name=key,\n",
        "                                   description=description_text)\n",
        "\n",
        "df=dataset.to_pandas_dataframe()\n",
        "# print(df)\n",
        "df = df.iloc[: , :-1]\n",
        "\n",
        "# df = dataset.to_pandas_dataframe()\n",
        "df.describe()\n",
        "print(df)"
      ],
      "outputs": [
        {
          "output_type": "stream",
          "name": "stdout",
          "text": "     x_1  y_1  x_2  y_2  x_3  y_3  x_4  y_4  x_5  y_5  ...  y_64  x_65  y_65  \\\n0    132  439  115  496  111  566  134  633  177  688  ...   581   588   583   \n1    194  402  186  444  182  486  199  543  230  591  ...   490   542   507   \n2     76  379   78  455   86  559  121  631  161  704  ...   628   654   629   \n3    201  366  203  369  217  415  230  444  249  467  ...   418   487   419   \n4    153  519  157  563  144  614  151  684  166  757  ...   672   520   686   \n..   ...  ...  ...  ...  ...  ...  ...  ...  ...  ...  ...   ...   ...   ...   \n198  227  226  234  257  244  287  254  315  268  340  ...   303   402   303   \n199  131  168  128  184  125  200  123  217  125  233  ...   219   214   226   \n200  132  231  134  254  136  278  139  303  148  327  ...   312   269   312   \n201   62  103   63  116   64  127   66  139   69  151  ...   138   126   141   \n202   -2  378    5  465   20  556   37  650   63  745  ...   660   531   673   \n\n     x_66  y_66  x_67  y_67  x_68  y_68   diagnosis  \n0     539   629   470   624   407   612  peripheral  \n1     515   517   484   520   434   521  peripheral  \n2     628   688   558   711   484   712  peripheral  \n3     444   457   396   461   350   455  peripheral  \n4     460   698   427   703   362   706  peripheral  \n..    ...   ...   ...   ...   ...   ...         ...  \n198   385   318   372   321   359   321     Healthy  \n199   198   226   189   225   181   223     Healthy  \n200   242   325   230   327   216   326     Healthy  \n201   114   146   108   147   102   146     Healthy  \n202   431   723   375   728   318   722     Healthy  \n\n[203 rows x 137 columns]\n"
        }
      ],
      "execution_count": 4,
      "metadata": {
        "gather": {
          "logged": 1643029837454
        },
        "jupyter": {
          "outputs_hidden": false,
          "source_hidden": false
        },
        "nteract": {
          "transient": {
            "deleting": false
          }
        }
      }
    },
    {
      "cell_type": "code",
      "source": [
        "# split df!!!!\n",
        "from sklearn.model_selection import train_test_split\n",
        "x_train,x_test=train_test_split(df,shuffle=True)#,df.iloc[:,-1],#x,y,test_size=0.2,random_state=42)\n",
        "#,y_train,y_test\n",
        "# print(x_train)\n",
        "# print(y_train)\n",
        "x_train.to_csv('x_train.csv',index=False)\n",
        "\n",
        "datastore=ws.get_default_datastore()\n",
        "datastore.upload_files(files=['./x_train.csv'])\n",
        "\n",
        "train=Dataset.Tabular.from_delimited_files([(datastore,'x_train.csv')])"
      ],
      "outputs": [
        {
          "output_type": "stream",
          "name": "stdout",
          "text": "Uploading an estimated of 1 files\nTarget already exists. Skipping upload for x_train.csv\nUploaded 0 files\n"
        }
      ],
      "execution_count": 7,
      "metadata": {
        "gather": {
          "logged": 1643029960692
        }
      }
    },
    {
      "cell_type": "markdown",
      "source": [
        "## AutoML Configuration\n",
        "\n",
        "TODO: Explain why you chose the automl settings and cofiguration you used below."
      ],
      "metadata": {}
    },
    {
      "cell_type": "markdown",
      "source": [
        "You can define outputs for the AutoMLStep using TrainingOutput"
      ],
      "metadata": {}
    },
    {
      "cell_type": "code",
      "source": [
        "# from azureml.pipeline.core import PipelineData, TrainingOutput\n",
        "\n",
        "# ds = ws.get_default_datastore()\n",
        "# metrics_output_name = 'metrics_output'\n",
        "# best_model_output_name = 'best_model_output'\n",
        "\n",
        "# metrics_data = PipelineData(name='metrics_data',\n",
        "#                            datastore=ds,\n",
        "#                            pipeline_output_name=metrics_output_name,\n",
        "#                            training_output=TrainingOutput(type='Metrics'))\n",
        "# model_data = PipelineData(name='model_data',\n",
        "#                            datastore=ds,\n",
        "#                            pipeline_output_name=best_model_output_name,\n",
        "#                            training_output=TrainingOutput(type='Model'))"
      ],
      "outputs": [],
      "execution_count": null,
      "metadata": {
        "gather": {
          "logged": 1643029132876
        }
      }
    },
    {
      "cell_type": "code",
      "source": [
        "# automl_step = AutoMLStep(\n",
        "#     name='automl_module',\n",
        "#     automl_config=automl_config,\n",
        "#     outputs=[metrics_data, model_data],\n",
        "#     allow_reuse=True)"
      ],
      "outputs": [],
      "execution_count": null,
      "metadata": {
        "gather": {
          "logged": 1643029133103
        }
      }
    },
    {
      "cell_type": "code",
      "source": [
        "# from azureml.pipeline.core import Pipeline\n",
        "# pipeline = Pipeline(\n",
        "#     description=\"pipeline_with_automlstep\",\n",
        "#     workspace=ws,    \n",
        "#     steps=[automl_step])"
      ],
      "outputs": [],
      "execution_count": null,
      "metadata": {
        "gather": {
          "logged": 1643029133328
        }
      }
    },
    {
      "cell_type": "code",
      "source": [
        "# TODO: Put your automl settings here\n",
        "#taken from https://docs.microsoft.com/en-us/python/api/azureml-train-automl-client/azureml.train.automl.automlconfig.automlconfig?view=azure-ml-py\n",
        "automl_settings = {\n",
        "    \"experiment_timeout_minutes\": 20,\n",
        "    \"max_concurrent_iterations\": 5,\n",
        "    \"primary_metric\" : 'AUC_weighted',\n",
        "    \"enable_onnx_compatible_models\": True\n",
        "}\n",
        "\n",
        "# TODO: Put your automl config here\n",
        "automl_config = AutoMLConfig(compute_target=compute_target,\n",
        "                             task = \"classification\",\n",
        "                             training_data=train,#df\n",
        "                             label_column_name=\"diagnosis\",   \n",
        "                             path = project_folder,\n",
        "                             enable_early_stopping= True,\n",
        "                             featurization= 'auto',\n",
        "                             debug_log = \"automl_errors.log\",\n",
        "                             **automl_settings\n",
        "                            )"
      ],
      "outputs": [],
      "execution_count": 8,
      "metadata": {
        "gather": {
          "logged": 1643029970641
        },
        "jupyter": {
          "outputs_hidden": false,
          "source_hidden": false
        },
        "nteract": {
          "transient": {
            "deleting": false
          }
        }
      }
    },
    {
      "cell_type": "code",
      "source": [
        "# TODO: Submit your experiment\n",
        "remote_run = experiment.submit(automl_config)#,show_output=True)"
      ],
      "outputs": [
        {
          "output_type": "stream",
          "name": "stdout",
          "text": "Submitting remote run.\n"
        },
        {
          "output_type": "display_data",
          "data": {
            "text/plain": "<IPython.core.display.HTML object>",
            "text/html": "<table style=\"width:100%\"><tr><th>Experiment</th><th>Id</th><th>Type</th><th>Status</th><th>Details Page</th><th>Docs Page</th></tr><tr><td>palsy</td><td>AutoML_a5e54ff3-229c-4909-8560-009383a8d63c</td><td>automl</td><td>NotStarted</td><td><a href=\"https://ml.azure.com/runs/AutoML_a5e54ff3-229c-4909-8560-009383a8d63c?wsid=/subscriptions/3e42d11f-d64d-4173-af9b-12ecaa1030b3/resourcegroups/aml-quickstarts-178231/workspaces/quick-starts-ws-178231&amp;tid=660b3398-b80e-49d2-bc5b-ac1dc93b5254\" target=\"_blank\" rel=\"noopener\">Link to Azure Machine Learning studio</a></td><td><a href=\"https://docs.microsoft.com/en-us/python/api/overview/azure/ml/intro?view=azure-ml-py\" target=\"_blank\" rel=\"noopener\">Link to Documentation</a></td></tr></table>"
          },
          "metadata": {}
        }
      ],
      "execution_count": 9,
      "metadata": {
        "gather": {
          "logged": 1643029981324
        },
        "jupyter": {
          "outputs_hidden": false,
          "source_hidden": false
        },
        "nteract": {
          "transient": {
            "deleting": false
          }
        }
      }
    },
    {
      "cell_type": "markdown",
      "source": [
        "## Run Details\n",
        "\n",
        "OPTIONAL: Write about the different models trained and their performance. Why do you think some models did better than others?\n",
        "\n",
        "TODO: In the cell below, use the `RunDetails` widget to show the different experiments."
      ],
      "metadata": {}
    },
    {
      "cell_type": "code",
      "source": [
        "from azureml.widgets import RunDetails\n",
        "RunDetails(remote_run).show()"
      ],
      "outputs": [
        {
          "output_type": "display_data",
          "data": {
            "text/plain": "_AutoMLWidget(widget_settings={'childWidgetDisplay': 'popup', 'send_telemetry': False, 'log_level': 'INFO', 's…",
            "application/vnd.jupyter.widget-view+json": {
              "version_major": 2,
              "version_minor": 0,
              "model_id": "61f2e1b875bb401d8c39905fb4cb412e"
            }
          },
          "metadata": {}
        },
        {
          "output_type": "display_data",
          "data": {
            "application/aml.mini.widget.v1": "{\"status\": \"Completed\", \"workbench_run_details_uri\": \"https://ml.azure.com/runs/AutoML_a5e54ff3-229c-4909-8560-009383a8d63c?wsid=/subscriptions/3e42d11f-d64d-4173-af9b-12ecaa1030b3/resourcegroups/aml-quickstarts-178231/workspaces/quick-starts-ws-178231&tid=660b3398-b80e-49d2-bc5b-ac1dc93b5254\", \"run_id\": \"AutoML_a5e54ff3-229c-4909-8560-009383a8d63c\", \"run_properties\": {\"run_id\": \"AutoML_a5e54ff3-229c-4909-8560-009383a8d63c\", \"created_utc\": \"2022-01-24T13:12:59.453877Z\", \"properties\": {\"num_iterations\": \"1000\", \"training_type\": \"TrainFull\", \"acquisition_function\": \"EI\", \"primary_metric\": \"AUC_weighted\", \"train_split\": \"0\", \"acquisition_parameter\": \"0\", \"num_cross_validation\": null, \"target\": \"cpucluster4\", \"AMLSettingsJsonString\": \"{\\\"path\\\":null,\\\"name\\\":\\\"palsy\\\",\\\"subscription_id\\\":\\\"3e42d11f-d64d-4173-af9b-12ecaa1030b3\\\",\\\"resource_group\\\":\\\"aml-quickstarts-178231\\\",\\\"workspace_name\\\":\\\"quick-starts-ws-178231\\\",\\\"region\\\":\\\"southcentralus\\\",\\\"compute_target\\\":\\\"cpucluster4\\\",\\\"spark_service\\\":null,\\\"azure_service\\\":\\\"remote\\\",\\\"many_models\\\":false,\\\"pipeline_fetch_max_batch_size\\\":1,\\\"enable_batch_run\\\":true,\\\"enable_run_restructure\\\":false,\\\"start_auxiliary_runs_before_parent_complete\\\":false,\\\"enable_code_generation\\\":false,\\\"iterations\\\":1000,\\\"primary_metric\\\":\\\"AUC_weighted\\\",\\\"task_type\\\":\\\"classification\\\",\\\"positive_label\\\":null,\\\"data_script\\\":null,\\\"test_size\\\":0.0,\\\"test_include_predictions_only\\\":false,\\\"validation_size\\\":0.0,\\\"n_cross_validations\\\":null,\\\"y_min\\\":null,\\\"y_max\\\":null,\\\"num_classes\\\":null,\\\"featurization\\\":\\\"auto\\\",\\\"_ignore_package_version_incompatibilities\\\":false,\\\"is_timeseries\\\":false,\\\"max_cores_per_iteration\\\":1,\\\"max_concurrent_iterations\\\":5,\\\"iteration_timeout_minutes\\\":null,\\\"mem_in_mb\\\":null,\\\"enforce_time_on_windows\\\":false,\\\"experiment_timeout_minutes\\\":20,\\\"experiment_exit_score\\\":null,\\\"whitelist_models\\\":null,\\\"blacklist_algos\\\":[\\\"TensorFlowLinearClassifier\\\",\\\"TensorFlowDNN\\\"],\\\"supported_models\\\":[\\\"LogisticRegression\\\",\\\"SGD\\\",\\\"MultinomialNaiveBayes\\\",\\\"XGBoostClassifier\\\",\\\"TensorFlowDNN\\\",\\\"SVM\\\",\\\"AveragedPerceptronClassifier\\\",\\\"DecisionTree\\\",\\\"RandomForest\\\",\\\"ExtremeRandomTrees\\\",\\\"BernoulliNaiveBayes\\\",\\\"TensorFlowLinearClassifier\\\",\\\"KNN\\\",\\\"GradientBoosting\\\",\\\"LightGBM\\\",\\\"LinearSVM\\\"],\\\"private_models\\\":[\\\"TabnetClassifier\\\"],\\\"auto_blacklist\\\":true,\\\"blacklist_samples_reached\\\":false,\\\"exclude_nan_labels\\\":true,\\\"verbosity\\\":20,\\\"_debug_log\\\":\\\"azureml_automl.log\\\",\\\"show_warnings\\\":false,\\\"model_explainability\\\":true,\\\"service_url\\\":null,\\\"sdk_url\\\":null,\\\"sdk_packages\\\":null,\\\"enable_onnx_compatible_models\\\":true,\\\"enable_split_onnx_featurizer_estimator_models\\\":false,\\\"vm_type\\\":\\\"STANDARD_DS3_V2\\\",\\\"telemetry_verbosity\\\":20,\\\"send_telemetry\\\":true,\\\"enable_dnn\\\":false,\\\"scenario\\\":\\\"SDK-1.13.0\\\",\\\"environment_label\\\":null,\\\"save_mlflow\\\":false,\\\"enable_categorical_indicators\\\":false,\\\"force_text_dnn\\\":false,\\\"enable_feature_sweeping\\\":false,\\\"enable_early_stopping\\\":true,\\\"early_stopping_n_iters\\\":10,\\\"arguments\\\":null,\\\"dataset_id\\\":null,\\\"hyperdrive_config\\\":null,\\\"validation_dataset_id\\\":null,\\\"run_source\\\":null,\\\"metrics\\\":null,\\\"enable_metric_confidence\\\":false,\\\"enable_ensembling\\\":true,\\\"enable_stack_ensembling\\\":false,\\\"ensemble_iterations\\\":15,\\\"enable_tf\\\":false,\\\"enable_subsampling\\\":null,\\\"subsample_seed\\\":null,\\\"enable_nimbusml\\\":false,\\\"enable_streaming\\\":false,\\\"force_streaming\\\":false,\\\"track_child_runs\\\":true,\\\"allowed_private_models\\\":[],\\\"label_column_name\\\":\\\"diagnosis\\\",\\\"weight_column_name\\\":null,\\\"cv_split_column_names\\\":null,\\\"enable_local_managed\\\":false,\\\"_local_managed_run_id\\\":null,\\\"cost_mode\\\":1,\\\"lag_length\\\":0,\\\"metric_operation\\\":\\\"maximize\\\",\\\"preprocess\\\":true}\", \"DataPrepJsonString\": \"{\\\\\\\"training_data\\\\\\\": {\\\\\\\"datasetId\\\\\\\": \\\\\\\"5097cc89-0fce-4840-a7ed-26fdadb2aa90\\\\\\\"}, \\\\\\\"datasets\\\\\\\": 0}\", \"EnableSubsampling\": null, \"runTemplate\": \"AutoML\", \"azureml.runsource\": \"automl\", \"display_task_type\": \"classification\", \"dependencies_versions\": \"{\\\"azureml-widgets\\\": \\\"1.37.0\\\", \\\"azureml-train\\\": \\\"1.37.0\\\", \\\"azureml-train-restclients-hyperdrive\\\": \\\"1.37.0\\\", \\\"azureml-train-core\\\": \\\"1.37.0\\\", \\\"azureml-train-automl\\\": \\\"1.37.0\\\", \\\"azureml-train-automl-runtime\\\": \\\"1.37.0\\\", \\\"azureml-train-automl-client\\\": \\\"1.37.0\\\", \\\"azureml-tensorboard\\\": \\\"1.37.0\\\", \\\"azureml-telemetry\\\": \\\"1.37.0\\\", \\\"azureml-sdk\\\": \\\"1.37.0\\\", \\\"azureml-samples\\\": \\\"0+unknown\\\", \\\"azureml-responsibleai\\\": \\\"1.37.0\\\", \\\"azureml-pipeline\\\": \\\"1.37.0\\\", \\\"azureml-pipeline-steps\\\": \\\"1.37.0\\\", \\\"azureml-pipeline-core\\\": \\\"1.37.0\\\", \\\"azureml-opendatasets\\\": \\\"1.37.0\\\", \\\"azureml-mlflow\\\": \\\"1.37.0\\\", \\\"azureml-interpret\\\": \\\"1.37.0\\\", \\\"azureml-inference-server-http\\\": \\\"0.4.2\\\", \\\"azureml-explain-model\\\": \\\"1.37.0\\\", \\\"azureml-defaults\\\": \\\"1.37.0\\\", \\\"azureml-dataset-runtime\\\": \\\"1.37.0\\\", \\\"azureml-dataprep\\\": \\\"2.25.0\\\", \\\"azureml-dataprep-rslex\\\": \\\"2.1.0\\\", \\\"azureml-dataprep-native\\\": \\\"38.0.0\\\", \\\"azureml-datadrift\\\": \\\"1.37.0\\\", \\\"azureml-core\\\": \\\"1.37.0\\\", \\\"azureml-contrib-services\\\": \\\"1.37.0\\\", \\\"azureml-contrib-server\\\": \\\"1.37.0\\\", \\\"azureml-contrib-reinforcementlearning\\\": \\\"1.37.0\\\", \\\"azureml-contrib-pipeline-steps\\\": \\\"1.37.0\\\", \\\"azureml-contrib-notebook\\\": \\\"1.37.0\\\", \\\"azureml-contrib-fairness\\\": \\\"1.37.0\\\", \\\"azureml-contrib-dataset\\\": \\\"1.37.0\\\", \\\"azureml-contrib-automl-pipeline-steps\\\": \\\"1.37.0\\\", \\\"azureml-cli-common\\\": \\\"1.37.0\\\", \\\"azureml-automl-runtime\\\": \\\"1.37.0\\\", \\\"azureml-automl-dnn-nlp\\\": \\\"1.37.0\\\", \\\"azureml-automl-core\\\": \\\"1.37.0\\\", \\\"azureml-accel-models\\\": \\\"1.37.0\\\"}\", \"_aml_system_scenario_identification\": \"Remote.Parent\", \"ClientType\": \"SDK\", \"environment_cpu_name\": \"AzureML-AutoML\", \"environment_cpu_label\": \"prod\", \"environment_gpu_name\": \"AzureML-AutoML-GPU\", \"environment_gpu_label\": \"prod\", \"root_attribution\": \"automl\", \"attribution\": \"AutoML\", \"Orchestrator\": \"AutoML\", \"CancelUri\": \"https://southcentralus.api.azureml.ms/jasmine/v1.0/subscriptions/3e42d11f-d64d-4173-af9b-12ecaa1030b3/resourceGroups/aml-quickstarts-178231/providers/Microsoft.MachineLearningServices/workspaces/quick-starts-ws-178231/experimentids/85b6baa0-298c-45bc-8c11-6dfb05edfdb8/cancel/AutoML_a5e54ff3-229c-4909-8560-009383a8d63c\", \"ClientSdkVersion\": \"1.37.0\", \"snapshotId\": \"00000000-0000-0000-0000-000000000000\", \"SetupRunId\": \"AutoML_a5e54ff3-229c-4909-8560-009383a8d63c_setup\", \"SetupRunContainerId\": \"dcid.AutoML_a5e54ff3-229c-4909-8560-009383a8d63c_setup\", \"FeaturizationRunJsonPath\": \"featurizer_container.json\", \"FeaturizationRunId\": \"AutoML_a5e54ff3-229c-4909-8560-009383a8d63c_featurize\", \"ProblemInfoJsonString\": \"{\\\"dataset_num_categorical\\\": 0, \\\"is_sparse\\\": false, \\\"subsampling\\\": false, \\\"has_extra_col\\\": true, \\\"dataset_classes\\\": 3, \\\"dataset_features\\\": 136, \\\"dataset_samples\\\": 152, \\\"single_frequency_class_detected\\\": false}\", \"ModelExplainRunId\": \"AutoML_a5e54ff3-229c-4909-8560-009383a8d63c_ModelExplain\"}, \"tags\": {\"model_explain_run\": \"best_run\", \"_aml_system_azureml.automlComponent\": \"AutoML\", \"pipeline_id\": \"\", \"score\": \"\", \"predicted_cost\": \"\", \"fit_time\": \"\", \"training_percent\": \"\", \"iteration\": \"\", \"run_preprocessor\": \"\", \"run_algorithm\": \"\", \"dynamic_whitelisting_iterations\": \"<25>;<30>;<35>;<40>;\", \"_aml_system_azureml.automl_early_exit_message\": \"No scores improved over last 20 iterations, so experiment stopped early. This early stopping behavior can be disabled by setting enable_early_stopping = False in AutoMLConfig for notebook/python SDK runs.\", \"automl_best_child_run_id\": \"AutoML_a5e54ff3-229c-4909-8560-009383a8d63c_44\", \"model_explain_best_run_child_id\": \"AutoML_a5e54ff3-229c-4909-8560-009383a8d63c_44\"}, \"end_time_utc\": \"2022-01-24T13:29:39.839765Z\", \"status\": \"Completed\", \"log_files\": {}, \"log_groups\": [], \"run_duration\": \"0:16:40\", \"run_number\": \"1\", \"run_queued_details\": {\"status\": \"Completed\", \"details\": null}}, \"child_runs\": [{\"run_id\": \"AutoML_a5e54ff3-229c-4909-8560-009383a8d63c_setup\", \"run_number\": 2, \"metric\": null, \"status\": \"Completed\", \"run_type\": \"azureml.scriptrun\", \"training_percent\": null, \"start_time\": \"2022-01-24T13:14:56.523427Z\", \"end_time\": \"2022-01-24T13:16:34.747101Z\", \"created_time\": \"2022-01-24T13:13:12.834669Z\", \"created_time_dt\": \"2022-01-24T13:13:12.834669Z\", \"duration\": \"0:03:21\", \"iteration\": null, \"goal\": null, \"run_name\": \"Completed\", \"run_properties\": null}, {\"run_id\": \"AutoML_a5e54ff3-229c-4909-8560-009383a8d63c_featurize\", \"run_number\": 3, \"metric\": null, \"status\": \"Completed\", \"run_type\": \"automl.featurization\", \"training_percent\": null, \"start_time\": \"2022-01-24T13:16:56.63089Z\", \"end_time\": \"2022-01-24T13:18:06.479596Z\", \"created_time\": \"2022-01-24T13:16:35.171032Z\", \"created_time_dt\": \"2022-01-24T13:16:35.171032Z\", \"duration\": \"0:01:31\", \"iteration\": null, \"goal\": null, \"run_name\": \"Completed\", \"run_properties\": null}, {\"run_id\": \"AutoML_a5e54ff3-229c-4909-8560-009383a8d63c_0\", \"run_number\": 5, \"metric\": null, \"status\": \"Completed\", \"run_type\": null, \"training_percent\": \"100\", \"start_time\": \"2022-01-24T13:18:31.582787Z\", \"end_time\": \"2022-01-24T13:18:44.242658Z\", \"created_time\": \"2022-01-24T13:18:07.906263Z\", \"created_time_dt\": \"2022-01-24T13:18:07.906263Z\", \"duration\": \"0:00:36\", \"iteration\": \"0\", \"goal\": \"AUC_weighted_max\", \"run_name\": \"MaxAbsScaler, LightGBM\", \"run_properties\": \"copy=True\", \"primary_metric\": 0.8417178, \"best_metric\": 0.8417178}, {\"run_id\": \"AutoML_a5e54ff3-229c-4909-8560-009383a8d63c_1\", \"run_number\": 6, \"metric\": null, \"status\": \"Completed\", \"run_type\": null, \"training_percent\": \"100\", \"start_time\": \"2022-01-24T13:18:44.45363Z\", \"end_time\": \"2022-01-24T13:18:59.052344Z\", \"created_time\": \"2022-01-24T13:18:08.518664Z\", \"created_time_dt\": \"2022-01-24T13:18:08.518664Z\", \"duration\": \"0:00:50\", \"iteration\": \"1\", \"goal\": \"AUC_weighted_max\", \"run_name\": \"MaxAbsScaler, XGBoostClassifier\", \"run_properties\": \"copy=True\", \"primary_metric\": 0.88004166, \"best_metric\": 0.88004166}, {\"run_id\": \"AutoML_a5e54ff3-229c-4909-8560-009383a8d63c_2\", \"run_number\": 7, \"metric\": null, \"status\": \"Completed\", \"run_type\": null, \"training_percent\": \"100\", \"start_time\": \"2022-01-24T13:18:59.257762Z\", \"end_time\": \"2022-01-24T13:19:09.859957Z\", \"created_time\": \"2022-01-24T13:18:09.188571Z\", \"created_time_dt\": \"2022-01-24T13:18:09.188571Z\", \"duration\": \"0:01:00\", \"iteration\": \"2\", \"goal\": \"AUC_weighted_max\", \"run_name\": \"MaxAbsScaler, ExtremeRandomTrees\", \"run_properties\": \"copy=True\", \"primary_metric\": 0.85658922, \"best_metric\": 0.88004166}, {\"run_id\": \"AutoML_a5e54ff3-229c-4909-8560-009383a8d63c_3\", \"run_number\": 8, \"metric\": null, \"status\": \"Completed\", \"run_type\": null, \"training_percent\": \"100\", \"start_time\": \"2022-01-24T13:19:10.084634Z\", \"end_time\": \"2022-01-24T13:19:20.840098Z\", \"created_time\": \"2022-01-24T13:18:11.155952Z\", \"created_time_dt\": \"2022-01-24T13:18:11.155952Z\", \"duration\": \"0:01:09\", \"iteration\": \"3\", \"goal\": \"AUC_weighted_max\", \"run_name\": \"MaxAbsScaler, RandomForest\", \"run_properties\": \"copy=True\", \"primary_metric\": 0.83699032, \"best_metric\": 0.88004166}, {\"run_id\": \"AutoML_a5e54ff3-229c-4909-8560-009383a8d63c_worker_0\", \"run_number\": 9, \"metric\": null, \"status\": \"Completed\", \"run_type\": \"azureml.scriptrun\", \"training_percent\": null, \"start_time\": \"2022-01-24T13:18:19.264629Z\", \"end_time\": \"2022-01-24T13:19:40.639402Z\", \"created_time\": \"2022-01-24T13:18:11.559314Z\", \"created_time_dt\": \"2022-01-24T13:18:11.559314Z\", \"duration\": \"0:01:29\", \"iteration\": null, \"goal\": null, \"run_name\": \"Completed\", \"run_properties\": null}, {\"run_id\": \"AutoML_a5e54ff3-229c-4909-8560-009383a8d63c_4\", \"run_number\": 10, \"metric\": null, \"status\": \"Completed\", \"run_type\": null, \"training_percent\": \"100\", \"start_time\": \"2022-01-24T13:21:31.404096Z\", \"end_time\": \"2022-01-24T13:21:43.01381Z\", \"created_time\": \"2022-01-24T13:18:11.791939Z\", \"created_time_dt\": \"2022-01-24T13:18:11.791939Z\", \"duration\": \"0:03:31\", \"iteration\": \"4\", \"goal\": \"AUC_weighted_max\", \"run_name\": \"StandardScalerWrapper, LightGBM\", \"run_properties\": \"\\n    copy=True,\\n    with_mean=False,\\n    with_std=True\\n\", \"primary_metric\": 0.83503183, \"best_metric\": 0.88004166}, {\"run_id\": \"AutoML_a5e54ff3-229c-4909-8560-009383a8d63c_5\", \"run_number\": 11, \"metric\": null, \"status\": \"Completed\", \"run_type\": null, \"training_percent\": \"100\", \"start_time\": \"2022-01-24T13:21:43.228377Z\", \"end_time\": \"2022-01-24T13:21:53.974324Z\", \"created_time\": \"2022-01-24T13:18:12.378744Z\", \"created_time_dt\": \"2022-01-24T13:18:12.378744Z\", \"duration\": \"0:03:41\", \"iteration\": \"5\", \"goal\": \"AUC_weighted_max\", \"run_name\": \"StandardScalerWrapper, KNN\", \"run_properties\": \"\\n    copy=True,\\n    with_mean=True,\\n    with_std=False\\n\", \"primary_metric\": 0.83074958, \"best_metric\": 0.88004166}, {\"run_id\": \"AutoML_a5e54ff3-229c-4909-8560-009383a8d63c_6\", \"run_number\": 12, \"metric\": null, \"status\": \"Completed\", \"run_type\": null, \"training_percent\": \"100\", \"start_time\": \"2022-01-24T13:21:54.184337Z\", \"end_time\": \"2022-01-24T13:22:05.631969Z\", \"created_time\": \"2022-01-24T13:18:13.107959Z\", \"created_time_dt\": \"2022-01-24T13:18:13.107959Z\", \"duration\": \"0:03:52\", \"iteration\": \"6\", \"goal\": \"AUC_weighted_max\", \"run_name\": \"SparseNormalizer, XGBoostClassifier\", \"run_properties\": \"copy=True, norm='max'\", \"primary_metric\": 0.81112866, \"best_metric\": 0.88004166}, {\"run_id\": \"AutoML_a5e54ff3-229c-4909-8560-009383a8d63c_7\", \"run_number\": 13, \"metric\": null, \"status\": \"Completed\", \"run_type\": null, \"training_percent\": \"100\", \"start_time\": \"2022-01-24T13:22:05.85086Z\", \"end_time\": \"2022-01-24T13:22:19.987787Z\", \"created_time\": \"2022-01-24T13:18:13.629338Z\", \"created_time_dt\": \"2022-01-24T13:18:13.629338Z\", \"duration\": \"0:04:06\", \"iteration\": \"7\", \"goal\": \"AUC_weighted_max\", \"run_name\": \"SparseNormalizer, RandomForest\", \"run_properties\": \"copy=True, norm='l2'\", \"primary_metric\": 0.83633143, \"best_metric\": 0.88004166}, {\"run_id\": \"AutoML_a5e54ff3-229c-4909-8560-009383a8d63c_worker_1\", \"run_number\": 14, \"metric\": null, \"status\": \"Completed\", \"run_type\": \"azureml.scriptrun\", \"training_percent\": null, \"start_time\": \"2022-01-24T13:20:25.089007Z\", \"end_time\": \"2022-01-24T13:22:40.016682Z\", \"created_time\": \"2022-01-24T13:18:14.054669Z\", \"created_time_dt\": \"2022-01-24T13:18:14.054669Z\", \"duration\": \"0:04:25\", \"iteration\": null, \"goal\": null, \"run_name\": \"Completed\", \"run_properties\": null}, {\"run_id\": \"AutoML_a5e54ff3-229c-4909-8560-009383a8d63c_8\", \"run_number\": 15, \"metric\": null, \"status\": \"Completed\", \"run_type\": null, \"training_percent\": \"100\", \"start_time\": \"2022-01-24T13:19:58.138762Z\", \"end_time\": \"2022-01-24T13:20:09.5496Z\", \"created_time\": \"2022-01-24T13:18:14.635973Z\", \"created_time_dt\": \"2022-01-24T13:18:14.635973Z\", \"duration\": \"0:01:54\", \"iteration\": \"8\", \"goal\": \"AUC_weighted_max\", \"run_name\": \"RobustScaler, KNN\", \"run_properties\": \"copy=True, quantile_range=[25, 75], with_centering=False,\\n             with_scaling=True\", \"primary_metric\": 0.80522946, \"best_metric\": 0.88004166}, {\"run_id\": \"AutoML_a5e54ff3-229c-4909-8560-009383a8d63c_9\", \"run_number\": 16, \"metric\": null, \"status\": \"Completed\", \"run_type\": null, \"training_percent\": \"100\", \"start_time\": \"2022-01-24T13:20:09.764234Z\", \"end_time\": \"2022-01-24T13:20:22.713069Z\", \"created_time\": \"2022-01-24T13:18:15.445341Z\", \"created_time_dt\": \"2022-01-24T13:18:15.445341Z\", \"duration\": \"0:02:07\", \"iteration\": \"9\", \"goal\": \"AUC_weighted_max\", \"run_name\": \"MinMaxScaler, RandomForest\", \"run_properties\": \"copy=True, feature_range=(0, 1\", \"primary_metric\": 0.84936258, \"best_metric\": 0.88004166}, {\"run_id\": \"AutoML_a5e54ff3-229c-4909-8560-009383a8d63c_10\", \"run_number\": 17, \"metric\": null, \"status\": \"Completed\", \"run_type\": null, \"training_percent\": \"100\", \"start_time\": \"2022-01-24T13:20:22.964312Z\", \"end_time\": \"2022-01-24T13:20:34.043971Z\", \"created_time\": \"2022-01-24T13:18:16.130277Z\", \"created_time_dt\": \"2022-01-24T13:18:16.130277Z\", \"duration\": \"0:02:17\", \"iteration\": \"10\", \"goal\": \"AUC_weighted_max\", \"run_name\": \"StandardScalerWrapper, LogisticRegression\", \"run_properties\": \"\\n    copy=True,\\n    with_mean=True,\\n    with_std=True\\n\", \"primary_metric\": 0.89498927, \"best_metric\": 0.89498927}, {\"run_id\": \"AutoML_a5e54ff3-229c-4909-8560-009383a8d63c_11\", \"run_number\": 18, \"metric\": null, \"status\": \"Completed\", \"run_type\": null, \"training_percent\": \"100\", \"start_time\": \"2022-01-24T13:20:34.279977Z\", \"end_time\": \"2022-01-24T13:20:45.543847Z\", \"created_time\": \"2022-01-24T13:18:16.806507Z\", \"created_time_dt\": \"2022-01-24T13:18:16.806507Z\", \"duration\": \"0:02:28\", \"iteration\": \"11\", \"goal\": \"AUC_weighted_max\", \"run_name\": \"StandardScalerWrapper, SVM\", \"run_properties\": \"\\n    copy=True,\\n    with_mean=True,\\n    with_std=True\\n\", \"primary_metric\": 0.89942243, \"best_metric\": 0.89942243}, {\"run_id\": \"AutoML_a5e54ff3-229c-4909-8560-009383a8d63c_worker_2\", \"run_number\": 19, \"metric\": null, \"status\": \"Completed\", \"run_type\": \"azureml.scriptrun\", \"training_percent\": null, \"start_time\": \"2022-01-24T13:19:45.617365Z\", \"end_time\": \"2022-01-24T13:21:05.19686Z\", \"created_time\": \"2022-01-24T13:18:17.237416Z\", \"created_time_dt\": \"2022-01-24T13:18:17.237416Z\", \"duration\": \"0:02:47\", \"iteration\": null, \"goal\": null, \"run_name\": \"Completed\", \"run_properties\": null}, {\"run_id\": \"AutoML_a5e54ff3-229c-4909-8560-009383a8d63c_12\", \"run_number\": 20, \"metric\": null, \"status\": \"Completed\", \"run_type\": null, \"training_percent\": \"100\", \"start_time\": \"2022-01-24T13:21:31.811734Z\", \"end_time\": \"2022-01-24T13:21:43.184311Z\", \"created_time\": \"2022-01-24T13:18:17.423177Z\", \"created_time_dt\": \"2022-01-24T13:18:17.423177Z\", \"duration\": \"0:03:25\", \"iteration\": \"12\", \"goal\": \"AUC_weighted_max\", \"run_name\": \"StandardScalerWrapper, XGBoostClassifier\", \"run_properties\": \"\\n    copy=True,\\n    with_mean=False,\\n    with_std=False\\n\", \"primary_metric\": 0.8656126, \"best_metric\": 0.89942243}, {\"run_id\": \"AutoML_a5e54ff3-229c-4909-8560-009383a8d63c_13\", \"run_number\": 21, \"metric\": null, \"status\": \"Completed\", \"run_type\": null, \"training_percent\": \"100\", \"start_time\": \"2022-01-24T13:21:43.409743Z\", \"end_time\": \"2022-01-24T13:21:54.84861Z\", \"created_time\": \"2022-01-24T13:18:17.988883Z\", \"created_time_dt\": \"2022-01-24T13:18:17.988883Z\", \"duration\": \"0:03:36\", \"iteration\": \"13\", \"goal\": \"AUC_weighted_max\", \"run_name\": \"SparseNormalizer, KNN\", \"run_properties\": \"copy=True, norm='max'\", \"primary_metric\": 0.77904788, \"best_metric\": 0.89942243}, {\"run_id\": \"AutoML_a5e54ff3-229c-4909-8560-009383a8d63c_14\", \"run_number\": 22, \"metric\": null, \"status\": \"Completed\", \"run_type\": null, \"training_percent\": \"100\", \"start_time\": \"2022-01-24T13:21:55.055279Z\", \"end_time\": \"2022-01-24T13:22:06.798587Z\", \"created_time\": \"2022-01-24T13:18:18.530126Z\", \"created_time_dt\": \"2022-01-24T13:18:18.530126Z\", \"duration\": \"0:03:48\", \"iteration\": \"14\", \"goal\": \"AUC_weighted_max\", \"run_name\": \"RobustScaler, ExtremeRandomTrees\", \"run_properties\": \"copy=True, quantile_range=[10, 90], with_centering=True,\\n             with_scaling=False\", \"primary_metric\": 0.85242887, \"best_metric\": 0.89942243}, {\"run_id\": \"AutoML_a5e54ff3-229c-4909-8560-009383a8d63c_15\", \"run_number\": 23, \"metric\": null, \"status\": \"Completed\", \"run_type\": null, \"training_percent\": \"100\", \"start_time\": \"2022-01-24T13:22:07.029586Z\", \"end_time\": \"2022-01-24T13:22:18.833345Z\", \"created_time\": \"2022-01-24T13:18:19.078282Z\", \"created_time_dt\": \"2022-01-24T13:18:19.078282Z\", \"duration\": \"0:03:59\", \"iteration\": \"15\", \"goal\": \"AUC_weighted_max\", \"run_name\": \"SparseNormalizer, XGBoostClassifier\", \"run_properties\": \"copy=True, norm='max'\", \"primary_metric\": 0.77591592, \"best_metric\": 0.89942243}, {\"run_id\": \"AutoML_a5e54ff3-229c-4909-8560-009383a8d63c_worker_3\", \"run_number\": 24, \"metric\": null, \"status\": \"Completed\", \"run_type\": \"azureml.scriptrun\", \"training_percent\": null, \"start_time\": \"2022-01-24T13:20:22.509369Z\", \"end_time\": \"2022-01-24T13:22:38.99614Z\", \"created_time\": \"2022-01-24T13:18:19.51618Z\", \"created_time_dt\": \"2022-01-24T13:18:19.51618Z\", \"duration\": \"0:04:19\", \"iteration\": null, \"goal\": null, \"run_name\": \"Completed\", \"run_properties\": null}, {\"run_id\": \"AutoML_a5e54ff3-229c-4909-8560-009383a8d63c_16\", \"run_number\": 25, \"metric\": null, \"status\": \"Completed\", \"run_type\": null, \"training_percent\": \"100\", \"start_time\": \"2022-01-24T13:21:21.847703Z\", \"end_time\": \"2022-01-24T13:21:33.454148Z\", \"created_time\": \"2022-01-24T13:18:19.884014Z\", \"created_time_dt\": \"2022-01-24T13:18:19.884014Z\", \"duration\": \"0:03:13\", \"iteration\": \"16\", \"goal\": \"AUC_weighted_max\", \"run_name\": \"MinMaxScaler, ExtremeRandomTrees\", \"run_properties\": \"copy=True, feature_range=(0, 1\", \"primary_metric\": 0.86369704, \"best_metric\": 0.89942243}, {\"run_id\": \"AutoML_a5e54ff3-229c-4909-8560-009383a8d63c_17\", \"run_number\": 26, \"metric\": null, \"status\": \"Completed\", \"run_type\": null, \"training_percent\": \"100\", \"start_time\": \"2022-01-24T13:21:33.690428Z\", \"end_time\": \"2022-01-24T13:21:45.002265Z\", \"created_time\": \"2022-01-24T13:18:20.416831Z\", \"created_time_dt\": \"2022-01-24T13:18:20.416831Z\", \"duration\": \"0:03:24\", \"iteration\": \"17\", \"goal\": \"AUC_weighted_max\", \"run_name\": \"MinMaxScaler, ExtremeRandomTrees\", \"run_properties\": \"copy=True, feature_range=(0, 1\", \"primary_metric\": 0.8713705, \"best_metric\": 0.89942243}, {\"run_id\": \"AutoML_a5e54ff3-229c-4909-8560-009383a8d63c_18\", \"run_number\": 27, \"metric\": null, \"status\": \"Completed\", \"run_type\": null, \"training_percent\": \"100\", \"start_time\": \"2022-01-24T13:21:45.218497Z\", \"end_time\": \"2022-01-24T13:21:56.344533Z\", \"created_time\": \"2022-01-24T13:18:20.897698Z\", \"created_time_dt\": \"2022-01-24T13:18:20.897698Z\", \"duration\": \"0:03:35\", \"iteration\": \"18\", \"goal\": \"AUC_weighted_max\", \"run_name\": \"SparseNormalizer, LightGBM\", \"run_properties\": \"copy=True, norm='l1'\", \"primary_metric\": 0.83472666, \"best_metric\": 0.89942243}, {\"run_id\": \"AutoML_a5e54ff3-229c-4909-8560-009383a8d63c_19\", \"run_number\": 28, \"metric\": null, \"status\": \"Completed\", \"run_type\": null, \"training_percent\": \"100\", \"start_time\": \"2022-01-24T13:21:56.547588Z\", \"end_time\": \"2022-01-24T13:22:14.472324Z\", \"created_time\": \"2022-01-24T13:18:21.432372Z\", \"created_time_dt\": \"2022-01-24T13:18:21.432372Z\", \"duration\": \"0:03:53\", \"iteration\": \"19\", \"goal\": \"AUC_weighted_max\", \"run_name\": \"MaxAbsScaler, ExtremeRandomTrees\", \"run_properties\": \"copy=True\", \"primary_metric\": 0.8649305, \"best_metric\": 0.89942243}, {\"run_id\": \"AutoML_a5e54ff3-229c-4909-8560-009383a8d63c_worker_4\", \"run_number\": 29, \"metric\": null, \"status\": \"Completed\", \"run_type\": \"azureml.scriptrun\", \"training_percent\": null, \"start_time\": \"2022-01-24T13:21:07.4163Z\", \"end_time\": \"2022-01-24T13:22:34.359423Z\", \"created_time\": \"2022-01-24T13:18:21.845615Z\", \"created_time_dt\": \"2022-01-24T13:18:21.845615Z\", \"duration\": \"0:04:12\", \"iteration\": null, \"goal\": null, \"run_name\": \"Completed\", \"run_properties\": null}, {\"run_id\": \"AutoML_a5e54ff3-229c-4909-8560-009383a8d63c_20\", \"run_number\": 30, \"metric\": null, \"status\": \"Completed\", \"run_type\": \"azureml.scriptrun\", \"training_percent\": \"100\", \"start_time\": \"2022-01-24T13:22:43.806104Z\", \"end_time\": \"2022-01-24T13:24:21.495761Z\", \"created_time\": \"2022-01-24T13:22:09.093815Z\", \"created_time_dt\": \"2022-01-24T13:22:09.093815Z\", \"duration\": \"0:02:12\", \"iteration\": \"20\", \"goal\": \"AUC_weighted_max\", \"run_name\": \"StandardScalerWrapper, XGBoostClassifier\", \"run_properties\": \"\\n    copy=True,\\n    with_mean=False,\\n    with_std=False\\n\", \"primary_metric\": 0.84456466, \"best_metric\": 0.89942243}, {\"run_id\": \"AutoML_a5e54ff3-229c-4909-8560-009383a8d63c_21\", \"run_number\": 31, \"metric\": null, \"status\": \"Completed\", \"run_type\": \"azureml.scriptrun\", \"training_percent\": \"100\", \"start_time\": \"2022-01-24T13:22:38.372116Z\", \"end_time\": \"2022-01-24T13:23:23.027198Z\", \"created_time\": \"2022-01-24T13:22:09.142016Z\", \"created_time_dt\": \"2022-01-24T13:22:09.142016Z\", \"duration\": \"0:01:13\", \"iteration\": \"21\", \"goal\": \"AUC_weighted_max\", \"run_name\": \"StandardScalerWrapper, RandomForest\", \"run_properties\": \"\\n    copy=True,\\n    with_mean=False,\\n    with_std=False\\n\", \"primary_metric\": 0.84230371, \"best_metric\": 0.89942243}, {\"run_id\": \"AutoML_a5e54ff3-229c-4909-8560-009383a8d63c_22\", \"run_number\": 32, \"metric\": null, \"status\": \"Completed\", \"run_type\": \"azureml.scriptrun\", \"training_percent\": \"100\", \"start_time\": \"2022-01-24T13:23:10.661597Z\", \"end_time\": \"2022-01-24T13:23:55.463497Z\", \"created_time\": \"2022-01-24T13:23:03.805974Z\", \"created_time_dt\": \"2022-01-24T13:23:03.805974Z\", \"duration\": \"0:00:51\", \"iteration\": \"22\", \"goal\": \"AUC_weighted_max\", \"run_name\": \"MaxAbsScaler, LightGBM\", \"run_properties\": \"copy=True\", \"primary_metric\": 0.84393075, \"best_metric\": 0.89942243}, {\"run_id\": \"AutoML_a5e54ff3-229c-4909-8560-009383a8d63c_24\", \"run_number\": 33, \"metric\": null, \"status\": \"Completed\", \"run_type\": \"azureml.scriptrun\", \"training_percent\": \"100\", \"start_time\": \"2022-01-24T13:23:09.632504Z\", \"end_time\": \"2022-01-24T13:23:57.337056Z\", \"created_time\": \"2022-01-24T13:23:03.839576Z\", \"created_time_dt\": \"2022-01-24T13:23:03.839576Z\", \"duration\": \"0:00:53\", \"iteration\": \"24\", \"goal\": \"AUC_weighted_max\", \"run_name\": \"StandardScalerWrapper, ExtremeRandomTrees\", \"run_properties\": \"\\n    copy=True,\\n    with_mean=False,\\n    with_std=True\\n\", \"primary_metric\": 0.86051497, \"best_metric\": 0.89942243}, {\"run_id\": \"AutoML_a5e54ff3-229c-4909-8560-009383a8d63c_23\", \"run_number\": 34, \"metric\": null, \"status\": \"Completed\", \"run_type\": \"azureml.scriptrun\", \"training_percent\": \"100\", \"start_time\": \"2022-01-24T13:23:25.744942Z\", \"end_time\": \"2022-01-24T13:24:06.83285Z\", \"created_time\": \"2022-01-24T13:23:03.849657Z\", \"created_time_dt\": \"2022-01-24T13:23:03.849657Z\", \"duration\": \"0:01:02\", \"iteration\": \"23\", \"goal\": \"AUC_weighted_max\", \"run_name\": \"MaxAbsScaler, LogisticRegression\", \"run_properties\": \"copy=True\", \"primary_metric\": 0.89507386, \"best_metric\": 0.89942243}, {\"run_id\": \"AutoML_a5e54ff3-229c-4909-8560-009383a8d63c_25\", \"run_number\": 35, \"metric\": null, \"status\": \"Completed\", \"run_type\": \"azureml.scriptrun\", \"training_percent\": \"100\", \"start_time\": \"2022-01-24T13:23:59.576923Z\", \"end_time\": \"2022-01-24T13:24:41.771453Z\", \"created_time\": \"2022-01-24T13:23:26.610524Z\", \"created_time_dt\": \"2022-01-24T13:23:26.610524Z\", \"duration\": \"0:01:15\", \"iteration\": \"25\", \"goal\": \"AUC_weighted_max\", \"run_name\": \"SparseNormalizer, SVM\", \"run_properties\": \"copy=True, norm='l1'\", \"primary_metric\": 0.92270001, \"best_metric\": 0.92270001}, {\"run_id\": \"AutoML_a5e54ff3-229c-4909-8560-009383a8d63c_26\", \"run_number\": 36, \"metric\": null, \"status\": \"Completed\", \"run_type\": \"azureml.scriptrun\", \"training_percent\": \"100\", \"start_time\": \"2022-01-24T13:24:02.998574Z\", \"end_time\": \"2022-01-24T13:24:47.688478Z\", \"created_time\": \"2022-01-24T13:23:58.536325Z\", \"created_time_dt\": \"2022-01-24T13:23:58.536325Z\", \"duration\": \"0:00:49\", \"iteration\": \"26\", \"goal\": \"AUC_weighted_max\", \"run_name\": \"MinMaxScaler, LogisticRegression\", \"run_properties\": \"copy=True, feature_range=(0, 1\", \"primary_metric\": 0.83992044, \"best_metric\": 0.92270001}, {\"run_id\": \"AutoML_a5e54ff3-229c-4909-8560-009383a8d63c_27\", \"run_number\": 37, \"metric\": null, \"status\": \"Completed\", \"run_type\": \"azureml.scriptrun\", \"training_percent\": \"100\", \"start_time\": \"2022-01-24T13:24:12.170875Z\", \"end_time\": \"2022-01-24T13:24:54.401423Z\", \"created_time\": \"2022-01-24T13:24:01.19042Z\", \"created_time_dt\": \"2022-01-24T13:24:01.19042Z\", \"duration\": \"0:00:53\", \"iteration\": \"27\", \"goal\": \"AUC_weighted_max\", \"run_name\": \"StandardScalerWrapper, LogisticRegression\", \"run_properties\": \"\\n    copy=True,\\n    with_mean=True,\\n    with_std=True\\n\", \"primary_metric\": 0.83331086, \"best_metric\": 0.92270001}, {\"run_id\": \"AutoML_a5e54ff3-229c-4909-8560-009383a8d63c_28\", \"run_number\": 38, \"metric\": null, \"status\": \"Completed\", \"run_type\": \"azureml.scriptrun\", \"training_percent\": \"100\", \"start_time\": \"2022-01-24T13:24:24.277208Z\", \"end_time\": \"2022-01-24T13:25:08.032958Z\", \"created_time\": \"2022-01-24T13:24:08.570944Z\", \"created_time_dt\": \"2022-01-24T13:24:08.570944Z\", \"duration\": \"0:00:59\", \"iteration\": \"28\", \"goal\": \"AUC_weighted_max\", \"run_name\": \"MaxAbsScaler, LogisticRegression\", \"run_properties\": \"copy=True\", \"primary_metric\": 0.83977593, \"best_metric\": 0.92270001}, {\"run_id\": \"AutoML_a5e54ff3-229c-4909-8560-009383a8d63c_29\", \"run_number\": 39, \"metric\": null, \"status\": \"Completed\", \"run_type\": \"azureml.scriptrun\", \"training_percent\": \"100\", \"start_time\": \"2022-01-24T13:24:44.447362Z\", \"end_time\": \"2022-01-24T13:25:29.996994Z\", \"created_time\": \"2022-01-24T13:24:23.251416Z\", \"created_time_dt\": \"2022-01-24T13:24:23.251416Z\", \"duration\": \"0:01:06\", \"iteration\": \"29\", \"goal\": \"AUC_weighted_max\", \"run_name\": \"MinMaxScaler, LogisticRegression\", \"run_properties\": \"copy=True, feature_range=(0, 1\", \"primary_metric\": 0.83988697, \"best_metric\": 0.92270001}, {\"run_id\": \"AutoML_a5e54ff3-229c-4909-8560-009383a8d63c_30\", \"run_number\": 40, \"metric\": null, \"status\": \"Completed\", \"run_type\": \"azureml.scriptrun\", \"training_percent\": \"100\", \"start_time\": \"2022-01-24T13:24:57.623795Z\", \"end_time\": \"2022-01-24T13:26:19.457375Z\", \"created_time\": \"2022-01-24T13:24:44.593422Z\", \"created_time_dt\": \"2022-01-24T13:24:44.593422Z\", \"duration\": \"0:01:34\", \"iteration\": \"30\", \"goal\": \"AUC_weighted_max\", \"run_name\": \"PCA, SVM\", \"run_properties\": \"copy=True, iterated_power='auto', n_components=0.01, random_state=None,\\n    svd_solver='auto', tol=0.0, whiten=True\", \"primary_metric\": 0.55088498, \"best_metric\": 0.92270001}, {\"run_id\": \"AutoML_a5e54ff3-229c-4909-8560-009383a8d63c_31\", \"run_number\": 41, \"metric\": null, \"status\": \"Completed\", \"run_type\": \"azureml.scriptrun\", \"training_percent\": \"100\", \"start_time\": \"2022-01-24T13:25:01.622162Z\", \"end_time\": \"2022-01-24T13:25:51.149003Z\", \"created_time\": \"2022-01-24T13:24:56.327123Z\", \"created_time_dt\": \"2022-01-24T13:24:56.327123Z\", \"duration\": \"0:00:54\", \"iteration\": \"31\", \"goal\": \"AUC_weighted_max\", \"run_name\": \"StandardScalerWrapper, GradientBoosting\", \"run_properties\": \"\\n    copy=True,\\n    with_mean=True,\\n    with_std=False\\n\", \"primary_metric\": 0.8899255, \"best_metric\": 0.92270001}, {\"run_id\": \"AutoML_a5e54ff3-229c-4909-8560-009383a8d63c_32\", \"run_number\": 42, \"metric\": null, \"status\": \"Completed\", \"run_type\": \"azureml.scriptrun\", \"training_percent\": \"100\", \"start_time\": \"2022-01-24T13:25:10.611202Z\", \"end_time\": \"2022-01-24T13:25:53.68485Z\", \"created_time\": \"2022-01-24T13:24:56.397478Z\", \"created_time_dt\": \"2022-01-24T13:24:56.397478Z\", \"duration\": \"0:00:57\", \"iteration\": \"32\", \"goal\": \"AUC_weighted_max\", \"run_name\": \"StandardScalerWrapper, SVM\", \"run_properties\": \"\\n    copy=True,\\n    with_mean=False,\\n    with_std=True\\n\", \"primary_metric\": 0.81418341, \"best_metric\": 0.92270001}, {\"run_id\": \"AutoML_a5e54ff3-229c-4909-8560-009383a8d63c_33\", \"run_number\": 43, \"metric\": null, \"status\": \"Completed\", \"run_type\": \"azureml.scriptrun\", \"training_percent\": \"100\", \"start_time\": \"2022-01-24T13:25:34.969697Z\", \"end_time\": \"2022-01-24T13:26:37.377739Z\", \"created_time\": \"2022-01-24T13:25:09.974314Z\", \"created_time_dt\": \"2022-01-24T13:25:09.974314Z\", \"duration\": \"0:01:27\", \"iteration\": \"33\", \"goal\": \"AUC_weighted_max\", \"run_name\": \"MaxAbsScaler, GradientBoosting\", \"run_properties\": \"copy=True\", \"primary_metric\": 0.87077464, \"best_metric\": 0.92270001}, {\"run_id\": \"AutoML_a5e54ff3-229c-4909-8560-009383a8d63c_34\", \"run_number\": 44, \"metric\": null, \"status\": \"Completed\", \"run_type\": \"azureml.scriptrun\", \"training_percent\": \"100\", \"start_time\": \"2022-01-24T13:25:56.768593Z\", \"end_time\": \"2022-01-24T13:27:00.036419Z\", \"created_time\": \"2022-01-24T13:25:32.045628Z\", \"created_time_dt\": \"2022-01-24T13:25:32.045628Z\", \"duration\": \"0:01:27\", \"iteration\": \"34\", \"goal\": \"AUC_weighted_max\", \"run_name\": \"RobustScaler, GradientBoosting\", \"run_properties\": \"copy=True, quantile_range=[25, 75], with_centering=True,\\n             with_scaling=True\", \"primary_metric\": 0.8801742, \"best_metric\": 0.92270001}, {\"run_id\": \"AutoML_a5e54ff3-229c-4909-8560-009383a8d63c_35\", \"run_number\": 45, \"metric\": null, \"status\": \"Completed\", \"run_type\": \"azureml.scriptrun\", \"training_percent\": \"100\", \"start_time\": \"2022-01-24T13:26:01.709658Z\", \"end_time\": \"2022-01-24T13:26:48.666065Z\", \"created_time\": \"2022-01-24T13:25:54.870534Z\", \"created_time_dt\": \"2022-01-24T13:25:54.870534Z\", \"duration\": \"0:00:53\", \"iteration\": \"35\", \"goal\": \"AUC_weighted_max\", \"run_name\": \"MaxAbsScaler, SVM\", \"run_properties\": \"copy=True\", \"primary_metric\": 0.8356246, \"best_metric\": 0.92270001}, {\"run_id\": \"AutoML_a5e54ff3-229c-4909-8560-009383a8d63c_36\", \"run_number\": 46, \"metric\": null, \"status\": \"Completed\", \"run_type\": \"azureml.scriptrun\", \"training_percent\": \"100\", \"start_time\": \"2022-01-24T13:26:22.2897Z\", \"end_time\": \"2022-01-24T13:27:06.725624Z\", \"created_time\": \"2022-01-24T13:25:58.073104Z\", \"created_time_dt\": \"2022-01-24T13:25:58.073104Z\", \"duration\": \"0:01:08\", \"iteration\": \"36\", \"goal\": \"AUC_weighted_max\", \"run_name\": \"RobustScaler, SVM\", \"run_properties\": \"copy=True, quantile_range=[25, 75], with_centering=True,\\n             with_scaling=True\", \"primary_metric\": 0.89097472, \"best_metric\": 0.92270001}, {\"run_id\": \"AutoML_a5e54ff3-229c-4909-8560-009383a8d63c_37\", \"run_number\": 47, \"metric\": null, \"status\": \"Canceled\", \"run_type\": \"azureml.scriptrun\", \"training_percent\": \"100\", \"start_time\": \"2022-01-24T13:26:42.458248Z\", \"end_time\": \"2022-01-24T13:27:54.615636Z\", \"created_time\": \"2022-01-24T13:26:21.70379Z\", \"created_time_dt\": \"2022-01-24T13:26:21.70379Z\", \"duration\": \"0:01:32\", \"iteration\": \"37\", \"goal\": \"AUC_weighted_max\", \"run_name\": \"MaxAbsScaler, GradientBoosting\", \"run_properties\": \"copy=True\", \"primary_metric\": 0.88533823, \"best_metric\": 0.92270001}, {\"run_id\": \"AutoML_a5e54ff3-229c-4909-8560-009383a8d63c_38\", \"run_number\": 48, \"metric\": null, \"status\": \"Completed\", \"run_type\": \"azureml.scriptrun\", \"training_percent\": \"100\", \"start_time\": \"2022-01-24T13:26:52.225717Z\", \"end_time\": \"2022-01-24T13:27:42.823821Z\", \"created_time\": \"2022-01-24T13:26:39.44608Z\", \"created_time_dt\": \"2022-01-24T13:26:39.44608Z\", \"duration\": \"0:01:03\", \"iteration\": \"38\", \"goal\": \"AUC_weighted_max\", \"run_name\": \"StandardScalerWrapper, XGBoostClassifier\", \"run_properties\": \"\\n    copy=True,\\n    with_mean=False,\\n    with_std=False\\n\", \"primary_metric\": 0.86922199, \"best_metric\": 0.92270001}, {\"run_id\": \"AutoML_a5e54ff3-229c-4909-8560-009383a8d63c_39\", \"run_number\": 49, \"metric\": null, \"status\": \"Completed\", \"run_type\": \"azureml.scriptrun\", \"training_percent\": \"100\", \"start_time\": \"2022-01-24T13:27:05.818236Z\", \"end_time\": \"2022-01-24T13:27:47.377996Z\", \"created_time\": \"2022-01-24T13:26:50.724957Z\", \"created_time_dt\": \"2022-01-24T13:26:50.724957Z\", \"duration\": \"0:00:56\", \"iteration\": \"39\", \"goal\": \"AUC_weighted_max\", \"run_name\": \"StandardScalerWrapper, SVM\", \"run_properties\": \"\\n    copy=True,\\n    with_mean=False,\\n    with_std=True\\n\", \"primary_metric\": 0.82266804, \"best_metric\": 0.92270001}, {\"run_id\": \"AutoML_a5e54ff3-229c-4909-8560-009383a8d63c_40\", \"run_number\": 50, \"metric\": null, \"status\": \"Completed\", \"run_type\": \"azureml.scriptrun\", \"training_percent\": \"100\", \"start_time\": \"2022-01-24T13:27:09.843298Z\", \"end_time\": \"2022-01-24T13:27:53.40283Z\", \"created_time\": \"2022-01-24T13:27:03.563883Z\", \"created_time_dt\": \"2022-01-24T13:27:03.563883Z\", \"duration\": \"0:00:49\", \"iteration\": \"40\", \"goal\": \"AUC_weighted_max\", \"run_name\": \"StandardScalerWrapper, SVM\", \"run_properties\": \"\\n    copy=True,\\n    with_mean=False,\\n    with_std=False\\n\", \"primary_metric\": 0.71573619, \"best_metric\": 0.92270001}, {\"run_id\": \"AutoML_a5e54ff3-229c-4909-8560-009383a8d63c_41\", \"run_number\": 51, \"metric\": null, \"status\": \"Canceled\", \"run_type\": \"azureml.scriptrun\", \"training_percent\": \"100\", \"start_time\": \"2022-01-24T13:27:52.385783Z\", \"end_time\": \"2022-01-24T13:27:54.723158Z\", \"created_time\": \"2022-01-24T13:27:08.85871Z\", \"created_time_dt\": \"2022-01-24T13:27:08.85871Z\", \"duration\": \"0:00:45\", \"iteration\": \"41\", \"goal\": null, \"run_name\": \"Canceled\", \"run_properties\": null}, {\"run_id\": \"AutoML_a5e54ff3-229c-4909-8560-009383a8d63c_42\", \"run_number\": 52, \"metric\": null, \"status\": \"Canceled\", \"run_type\": \"azureml.scriptrun\", \"training_percent\": \"100\", \"start_time\": \"2022-01-24T13:27:54.337508Z\", \"end_time\": \"2022-01-24T13:27:54.667669Z\", \"created_time\": \"2022-01-24T13:27:45.086037Z\", \"created_time_dt\": \"2022-01-24T13:27:45.086037Z\", \"duration\": \"0:00:09\", \"iteration\": \"42\", \"goal\": null, \"run_name\": \"Canceled\", \"run_properties\": null}, {\"run_id\": \"AutoML_a5e54ff3-229c-4909-8560-009383a8d63c_43\", \"run_number\": 53, \"metric\": null, \"status\": \"Canceled\", \"run_type\": \"azureml.scriptrun\", \"training_percent\": \"100\", \"start_time\": \"2022-01-24T13:27:50.538862Z\", \"end_time\": \"2022-01-24T13:27:54.596745Z\", \"created_time\": \"2022-01-24T13:27:50.538862Z\", \"created_time_dt\": \"2022-01-24T13:27:50.538862Z\", \"duration\": \"0:00:04\", \"iteration\": \"43\", \"goal\": null, \"run_name\": \"Canceled\", \"run_properties\": null}, {\"run_id\": \"AutoML_a5e54ff3-229c-4909-8560-009383a8d63c_44\", \"run_number\": 54, \"metric\": null, \"status\": \"Completed\", \"run_type\": \"azureml.scriptrun\", \"training_percent\": \"100\", \"start_time\": \"2022-01-24T13:28:09.207347Z\", \"end_time\": \"2022-01-24T13:29:37.711182Z\", \"created_time\": \"2022-01-24T13:27:55.670173Z\", \"created_time_dt\": \"2022-01-24T13:27:55.670173Z\", \"duration\": \"0:01:42\", \"iteration\": \"44\", \"goal\": \"AUC_weighted_max\", \"run_name\": \"VotingEnsemble\", \"run_properties\": \"\\n    estimators=[('25', Pipeline(\\n        memory=None,\\n        steps=[('sparsenormalizer', Normalizer(\\n            copy=True,\\n            norm='l1'\\n        \", \"primary_metric\": 0.9346075, \"best_metric\": 0.9346075}], \"children_metrics\": {\"categories\": [0], \"series\": {\"recall_score_micro\": [{\"categories\": [\"0\", \"1\", \"2\", \"3\", \"4\", \"5\", \"6\", \"7\", \"8\", \"9\", \"10\", \"11\", \"12\", \"13\", \"14\", \"15\", \"16\", \"17\", \"18\", \"19\", \"20\", \"21\", \"22\", \"23\", \"24\", \"25\", \"26\", \"27\", \"28\", \"29\", \"30\", \"31\", \"32\", \"33\", \"34\", \"35\", \"36\", \"37\", \"38\", \"39\", \"40\", \"44\"], \"mode\": \"markers\", \"name\": \"recall_score_micro\", \"stepped\": false, \"type\": \"scatter\", \"data\": [0.705, 0.7699999999999999, 0.71125, 0.7308333333333332, 0.7441666666666666, 0.7316666666666667, 0.6908333333333333, 0.7183333333333334, 0.7383333333333333, 0.6979166666666667, 0.8012499999999999, 0.7770833333333332, 0.7441666666666666, 0.67875, 0.6962499999999999, 0.6791666666666667, 0.7508333333333332, 0.7237500000000001, 0.6979166666666667, 0.75, 0.7516666666666667, 0.7570833333333333, 0.7579166666666668, 0.7354166666666667, 0.7370833333333333, 0.7908333333333333, 0.7579166666666667, 0.75125, 0.75125, 0.7579166666666667, 0.5545833333333332, 0.75625, 0.7775000000000001, 0.7566666666666666, 0.7570833333333333, 0.6941666666666666, 0.7770833333333333, 0.7629166666666667, 0.7433333333333334, 0.7775000000000001, 0.5741666666666667, 0.79]}, {\"categories\": [\"0\", \"1\", \"2\", \"3\", \"4\", \"5\", \"6\", \"7\", \"8\", \"9\", \"10\", \"11\", \"12\", \"13\", \"14\", \"15\", \"16\", \"17\", \"18\", \"19\", \"20\", \"21\", \"22\", \"23\", \"24\", \"25\", \"26\", \"27\", \"28\", \"29\", \"30\", \"31\", \"32\", \"33\", \"34\", \"35\", \"36\", \"37\", \"38\", \"39\", \"40\", \"44\"], \"mode\": \"lines\", \"name\": \"recall_score_micro_max\", \"stepped\": true, \"type\": \"scatter\", \"data\": [0.705, 0.7699999999999999, 0.7699999999999999, 0.7699999999999999, 0.7699999999999999, 0.7699999999999999, 0.7699999999999999, 0.7699999999999999, 0.7699999999999999, 0.7699999999999999, 0.8012499999999999, 0.8012499999999999, 0.8012499999999999, 0.8012499999999999, 0.8012499999999999, 0.8012499999999999, 0.8012499999999999, 0.8012499999999999, 0.8012499999999999, 0.8012499999999999, 0.8012499999999999, 0.8012499999999999, 0.8012499999999999, 0.8012499999999999, 0.8012499999999999, 0.8012499999999999, 0.8012499999999999, 0.8012499999999999, 0.8012499999999999, 0.8012499999999999, 0.8012499999999999, 0.8012499999999999, 0.8012499999999999, 0.8012499999999999, 0.8012499999999999, 0.8012499999999999, 0.8012499999999999, 0.8012499999999999, 0.8012499999999999, 0.8012499999999999, 0.8012499999999999, 0.8012499999999999]}], \"AUC_micro\": [{\"categories\": [\"0\", \"1\", \"2\", \"3\", \"4\", \"5\", \"6\", \"7\", \"8\", \"9\", \"10\", \"11\", \"12\", \"13\", \"14\", \"15\", \"16\", \"17\", \"18\", \"19\", \"20\", \"21\", \"22\", \"23\", \"24\", \"25\", \"26\", \"27\", \"28\", \"29\", \"30\", \"31\", \"32\", \"33\", \"34\", \"35\", \"36\", \"37\", \"38\", \"39\", \"40\", \"44\"], \"mode\": \"markers\", \"name\": \"AUC_micro\", \"stepped\": false, \"type\": \"scatter\", \"data\": [0.88846875, 0.9097421875, 0.8956467013888888, 0.8751783854166666, 0.878743923611111, 0.8814887152777778, 0.8233003472222222, 0.8511067708333332, 0.8791284722222222, 0.87241015625, 0.9256822916666667, 0.9185095486111111, 0.890650173611111, 0.8148398437500001, 0.8738289930555554, 0.8063498263888889, 0.9030885416666665, 0.8988836805555556, 0.846439236111111, 0.9096684027777778, 0.8877413194444446, 0.8967148437500001, 0.8716458333333333, 0.9010763888888889, 0.8968802083333334, 0.9407517361111113, 0.8738949652777777, 0.8784678819444445, 0.8755381944444445, 0.8768984375000001, 0.6966822916666667, 0.9132508680555554, 0.8973567708333332, 0.9092170138888889, 0.9146579861111113, 0.8231223958333332, 0.9162534722222222, 0.912220486111111, 0.9010755208333334, 0.9011345486111111, 0.7422039930555556, 0.9418567708333334]}, {\"categories\": [\"0\", \"1\", \"2\", \"3\", \"4\", \"5\", \"6\", \"7\", \"8\", \"9\", \"10\", \"11\", \"12\", \"13\", \"14\", \"15\", \"16\", \"17\", \"18\", \"19\", \"20\", \"21\", \"22\", \"23\", \"24\", \"25\", \"26\", \"27\", \"28\", \"29\", \"30\", \"31\", \"32\", \"33\", \"34\", \"35\", \"36\", \"37\", \"38\", \"39\", \"40\", \"44\"], \"mode\": \"lines\", \"name\": \"AUC_micro_max\", \"stepped\": true, \"type\": \"scatter\", \"data\": [0.88846875, 0.9097421875, 0.9097421875, 0.9097421875, 0.9097421875, 0.9097421875, 0.9097421875, 0.9097421875, 0.9097421875, 0.9097421875, 0.9256822916666667, 0.9256822916666667, 0.9256822916666667, 0.9256822916666667, 0.9256822916666667, 0.9256822916666667, 0.9256822916666667, 0.9256822916666667, 0.9256822916666667, 0.9256822916666667, 0.9256822916666667, 0.9256822916666667, 0.9256822916666667, 0.9256822916666667, 0.9256822916666667, 0.9407517361111113, 0.9407517361111113, 0.9407517361111113, 0.9407517361111113, 0.9407517361111113, 0.9407517361111113, 0.9407517361111113, 0.9407517361111113, 0.9407517361111113, 0.9407517361111113, 0.9407517361111113, 0.9407517361111113, 0.9407517361111113, 0.9407517361111113, 0.9407517361111113, 0.9407517361111113, 0.9418567708333334]}], \"f1_score_weighted\": [{\"categories\": [\"0\", \"1\", \"2\", \"3\", \"4\", \"5\", \"6\", \"7\", \"8\", \"9\", \"10\", \"11\", \"12\", \"13\", \"14\", \"15\", \"16\", \"17\", \"18\", \"19\", \"20\", \"21\", \"22\", \"23\", \"24\", \"25\", \"26\", \"27\", \"28\", \"29\", \"30\", \"31\", \"32\", \"33\", \"34\", \"35\", \"36\", \"37\", \"38\", \"39\", \"40\", \"44\"], \"mode\": \"markers\", \"name\": \"f1_score_weighted\", \"stepped\": false, \"type\": \"scatter\", \"data\": [0.6942999338624338, 0.7492616275480053, 0.6881949944620223, 0.7315267582148388, 0.7028664953324395, 0.6682027540008088, 0.6662419540741908, 0.6994507290954658, 0.6771609069589617, 0.6945941973116895, 0.8089215694149905, 0.7269216039951335, 0.7172093837535014, 0.6421408839636057, 0.7193288786377021, 0.6431980954775073, 0.7242143032620975, 0.7078599972152604, 0.6741809149456208, 0.7194433112395574, 0.7093808671262231, 0.7399121058679883, 0.7122848737949357, 0.7563958398269544, 0.7184467840667531, 0.7392135832004254, 0.6951545588278998, 0.6888350521678359, 0.6889649180593117, 0.6951949375524891, 0.44139683193215806, 0.7463791189890261, 0.716224941031409, 0.7370866755292064, 0.7384567669172932, 0.6117770217535664, 0.7287778131454603, 0.748025005323767, 0.71794415336985, 0.716224941031409, 0.45613251425665613, 0.7470896799279153]}, {\"categories\": [\"0\", \"1\", \"2\", \"3\", \"4\", \"5\", \"6\", \"7\", \"8\", \"9\", \"10\", \"11\", \"12\", \"13\", \"14\", \"15\", \"16\", \"17\", \"18\", \"19\", \"20\", \"21\", \"22\", \"23\", \"24\", \"25\", \"26\", \"27\", \"28\", \"29\", \"30\", \"31\", \"32\", \"33\", \"34\", \"35\", \"36\", \"37\", \"38\", \"39\", \"40\", \"44\"], \"mode\": \"lines\", \"name\": \"f1_score_weighted_max\", \"stepped\": true, \"type\": \"scatter\", \"data\": [0.6942999338624338, 0.7492616275480053, 0.7492616275480053, 0.7492616275480053, 0.7492616275480053, 0.7492616275480053, 0.7492616275480053, 0.7492616275480053, 0.7492616275480053, 0.7492616275480053, 0.8089215694149905, 0.8089215694149905, 0.8089215694149905, 0.8089215694149905, 0.8089215694149905, 0.8089215694149905, 0.8089215694149905, 0.8089215694149905, 0.8089215694149905, 0.8089215694149905, 0.8089215694149905, 0.8089215694149905, 0.8089215694149905, 0.8089215694149905, 0.8089215694149905, 0.8089215694149905, 0.8089215694149905, 0.8089215694149905, 0.8089215694149905, 0.8089215694149905, 0.8089215694149905, 0.8089215694149905, 0.8089215694149905, 0.8089215694149905, 0.8089215694149905, 0.8089215694149905, 0.8089215694149905, 0.8089215694149905, 0.8089215694149905, 0.8089215694149905, 0.8089215694149905, 0.8089215694149905]}], \"weighted_accuracy\": [{\"categories\": [\"0\", \"1\", \"2\", \"3\", \"4\", \"5\", \"6\", \"7\", \"8\", \"9\", \"10\", \"11\", \"12\", \"13\", \"14\", \"15\", \"16\", \"17\", \"18\", \"19\", \"20\", \"21\", \"22\", \"23\", \"24\", \"25\", \"26\", \"27\", \"28\", \"29\", \"30\", \"31\", \"32\", \"33\", \"34\", \"35\", \"36\", \"37\", \"38\", \"39\", \"40\", \"44\"], \"mode\": \"markers\", \"name\": \"weighted_accuracy\", \"stepped\": false, \"type\": \"scatter\", \"data\": [0.728384965981139, 0.8095397882101061, 0.7641047568072252, 0.7601588448567892, 0.7969547774518299, 0.8230974127372068, 0.7373970841292168, 0.7633987714442518, 0.8275917947596785, 0.7473140942742755, 0.814079367411009, 0.8423305856139063, 0.7946167416428007, 0.7387946059137073, 0.6917286133799905, 0.7274312445289564, 0.7995234670099312, 0.7738642960226405, 0.7499612679526905, 0.7903326740650207, 0.8004890047401748, 0.7988952519840479, 0.8094439386951088, 0.7261641798891619, 0.7683075674889401, 0.850742759370424, 0.8270658252074968, 0.8150183420155372, 0.8231054291678929, 0.8270658252074968, 0.6935047723043877, 0.7841081857073389, 0.8459821808160296, 0.8022115300577936, 0.8003429161973145, 0.7828450459524754, 0.8424084585697411, 0.8017074636287216, 0.7832361293221776, 0.8459821808160296, 0.7077613025989112, 0.8435853528365229]}, {\"categories\": [\"0\", \"1\", \"2\", \"3\", \"4\", \"5\", \"6\", \"7\", \"8\", \"9\", \"10\", \"11\", \"12\", \"13\", \"14\", \"15\", \"16\", \"17\", \"18\", \"19\", \"20\", \"21\", \"22\", \"23\", \"24\", \"25\", \"26\", \"27\", \"28\", \"29\", \"30\", \"31\", \"32\", \"33\", \"34\", \"35\", \"36\", \"37\", \"38\", \"39\", \"40\", \"44\"], \"mode\": \"lines\", \"name\": \"weighted_accuracy_max\", \"stepped\": true, \"type\": \"scatter\", \"data\": [0.728384965981139, 0.8095397882101061, 0.8095397882101061, 0.8095397882101061, 0.8095397882101061, 0.8230974127372068, 0.8230974127372068, 0.8230974127372068, 0.8275917947596785, 0.8275917947596785, 0.8275917947596785, 0.8423305856139063, 0.8423305856139063, 0.8423305856139063, 0.8423305856139063, 0.8423305856139063, 0.8423305856139063, 0.8423305856139063, 0.8423305856139063, 0.8423305856139063, 0.8423305856139063, 0.8423305856139063, 0.8423305856139063, 0.8423305856139063, 0.8423305856139063, 0.850742759370424, 0.850742759370424, 0.850742759370424, 0.850742759370424, 0.850742759370424, 0.850742759370424, 0.850742759370424, 0.850742759370424, 0.850742759370424, 0.850742759370424, 0.850742759370424, 0.850742759370424, 0.850742759370424, 0.850742759370424, 0.850742759370424, 0.850742759370424, 0.850742759370424]}], \"log_loss\": [{\"categories\": [\"0\", \"1\", \"2\", \"3\", \"4\", \"5\", \"6\", \"7\", \"8\", \"9\", \"10\", \"11\", \"12\", \"13\", \"14\", \"15\", \"16\", \"17\", \"18\", \"19\", \"20\", \"21\", \"22\", \"23\", \"24\", \"25\", \"26\", \"27\", \"28\", \"29\", \"30\", \"31\", \"32\", \"33\", \"34\", \"35\", \"36\", \"37\", \"38\", \"39\", \"40\", \"44\"], \"mode\": \"markers\", \"name\": \"log_loss\", \"stepped\": false, \"type\": \"scatter\", \"data\": [0.8821341932544084, 0.6932800802624017, 0.795494646317286, 1.684251420576866, 0.6814798099198539, 1.2587079285559177, 0.8396437352364625, 0.7600085038274302, 1.262851122698646, 0.7389565391786082, 2.063471337505312, 0.5992543882852682, 0.721445961597668, 1.6534529281444303, 0.6503749735982254, 0.8665471980340296, 0.5974264112906453, 1.0210837139093636, 0.7588978938708932, 0.576192691147719, 0.6503463765761873, 0.6345666235634411, 0.7185623056924235, 0.9793608467529173, 0.6255421766469753, 0.486438313137429, 0.7732581902280612, 0.7925598215010352, 0.7599136559050615, 0.7782288968942075, 1.192468119119816, 0.7367098694241233, 0.593510301432261, 1.1218040400144624, 0.7400668757276605, 1.0010959445674332, 0.5837330380885034, 1.1252178193601898, 0.7234613786132883, 0.5913419414904465, 1.0597398432695762, 0.5278540710135106]}, {\"categories\": [\"0\", \"1\", \"2\", \"3\", \"4\", \"5\", \"6\", \"7\", \"8\", \"9\", \"10\", \"11\", \"12\", \"13\", \"14\", \"15\", \"16\", \"17\", \"18\", \"19\", \"20\", \"21\", \"22\", \"23\", \"24\", \"25\", \"26\", \"27\", \"28\", \"29\", \"30\", \"31\", \"32\", \"33\", \"34\", \"35\", \"36\", \"37\", \"38\", \"39\", \"40\", \"44\"], \"mode\": \"lines\", \"name\": \"log_loss_min\", \"stepped\": true, \"type\": \"scatter\", \"data\": [0.8821341932544084, 0.6932800802624017, 0.6932800802624017, 0.6932800802624017, 0.6814798099198539, 0.6814798099198539, 0.6814798099198539, 0.6814798099198539, 0.6814798099198539, 0.6814798099198539, 0.6814798099198539, 0.5992543882852682, 0.5992543882852682, 0.5992543882852682, 0.5992543882852682, 0.5992543882852682, 0.5974264112906453, 0.5974264112906453, 0.5974264112906453, 0.576192691147719, 0.576192691147719, 0.576192691147719, 0.576192691147719, 0.576192691147719, 0.576192691147719, 0.486438313137429, 0.486438313137429, 0.486438313137429, 0.486438313137429, 0.486438313137429, 0.486438313137429, 0.486438313137429, 0.486438313137429, 0.486438313137429, 0.486438313137429, 0.486438313137429, 0.486438313137429, 0.486438313137429, 0.486438313137429, 0.486438313137429, 0.486438313137429, 0.486438313137429]}], \"precision_score_micro\": [{\"categories\": [\"0\", \"1\", \"2\", \"3\", \"4\", \"5\", \"6\", \"7\", \"8\", \"9\", \"10\", \"11\", \"12\", \"13\", \"14\", \"15\", \"16\", \"17\", \"18\", \"19\", \"20\", \"21\", \"22\", \"23\", \"24\", \"25\", \"26\", \"27\", \"28\", \"29\", \"30\", \"31\", \"32\", \"33\", \"34\", \"35\", \"36\", \"37\", \"38\", \"39\", \"40\", \"44\"], \"mode\": \"markers\", \"name\": \"precision_score_micro\", \"stepped\": false, \"type\": \"scatter\", \"data\": [0.705, 0.7699999999999999, 0.71125, 0.7308333333333332, 0.7441666666666666, 0.7316666666666667, 0.6908333333333333, 0.7183333333333334, 0.7383333333333333, 0.6979166666666667, 0.8012499999999999, 0.7770833333333332, 0.7441666666666666, 0.67875, 0.6962499999999999, 0.6791666666666667, 0.7508333333333332, 0.7237500000000001, 0.6979166666666667, 0.75, 0.7516666666666667, 0.7570833333333333, 0.7579166666666668, 0.7354166666666667, 0.7370833333333333, 0.7908333333333333, 0.7579166666666667, 0.75125, 0.75125, 0.7579166666666667, 0.5545833333333332, 0.75625, 0.7775000000000001, 0.7566666666666666, 0.7570833333333333, 0.6941666666666666, 0.7770833333333333, 0.7629166666666667, 0.7433333333333334, 0.7775000000000001, 0.5741666666666667, 0.79]}, {\"categories\": [\"0\", \"1\", \"2\", \"3\", \"4\", \"5\", \"6\", \"7\", \"8\", \"9\", \"10\", \"11\", \"12\", \"13\", \"14\", \"15\", \"16\", \"17\", \"18\", \"19\", \"20\", \"21\", \"22\", \"23\", \"24\", \"25\", \"26\", \"27\", \"28\", \"29\", \"30\", \"31\", \"32\", \"33\", \"34\", \"35\", \"36\", \"37\", \"38\", \"39\", \"40\", \"44\"], \"mode\": \"lines\", \"name\": \"precision_score_micro_max\", \"stepped\": true, \"type\": \"scatter\", \"data\": [0.705, 0.7699999999999999, 0.7699999999999999, 0.7699999999999999, 0.7699999999999999, 0.7699999999999999, 0.7699999999999999, 0.7699999999999999, 0.7699999999999999, 0.7699999999999999, 0.8012499999999999, 0.8012499999999999, 0.8012499999999999, 0.8012499999999999, 0.8012499999999999, 0.8012499999999999, 0.8012499999999999, 0.8012499999999999, 0.8012499999999999, 0.8012499999999999, 0.8012499999999999, 0.8012499999999999, 0.8012499999999999, 0.8012499999999999, 0.8012499999999999, 0.8012499999999999, 0.8012499999999999, 0.8012499999999999, 0.8012499999999999, 0.8012499999999999, 0.8012499999999999, 0.8012499999999999, 0.8012499999999999, 0.8012499999999999, 0.8012499999999999, 0.8012499999999999, 0.8012499999999999, 0.8012499999999999, 0.8012499999999999, 0.8012499999999999, 0.8012499999999999, 0.8012499999999999]}], \"norm_macro_recall\": [{\"categories\": [\"0\", \"1\", \"2\", \"3\", \"4\", \"5\", \"6\", \"7\", \"8\", \"9\", \"10\", \"11\", \"12\", \"13\", \"14\", \"15\", \"16\", \"17\", \"18\", \"19\", \"20\", \"21\", \"22\", \"23\", \"24\", \"25\", \"26\", \"27\", \"28\", \"29\", \"30\", \"31\", \"32\", \"33\", \"34\", \"35\", \"36\", \"37\", \"38\", \"39\", \"40\", \"44\"], \"mode\": \"markers\", \"name\": \"norm_macro_recall\", \"stepped\": false, \"type\": \"scatter\", \"data\": [0.4939682539682539, 0.5227777777777778, 0.42323412698412693, 0.4938492063492064, 0.468095238095238, 0.3726190476190476, 0.3937896825396825, 0.4506746031746031, 0.38511904761904764, 0.4250396825396825, 0.6528174603174602, 0.4750198412698413, 0.46394841269841275, 0.35763888888888884, 0.5292460317460318, 0.37380952380952376, 0.4925992063492063, 0.4392460317460317, 0.4106746031746032, 0.5375396825396825, 0.4820436507936507, 0.5268849206349207, 0.4910119047619047, 0.6231150793650794, 0.5321626984126984, 0.5106944444444445, 0.45712301587301585, 0.45351190476190484, 0.4446230158730159, 0.45712301587301585, 0.038095238095238085, 0.5401388888888888, 0.4777380952380953, 0.5000793650793651, 0.5039682539682538, 0.32896825396825397, 0.4757142857142857, 0.5272222222222223, 0.47625, 0.4777380952380953, 0.06642857142857142, 0.527797619047619]}, {\"categories\": [\"0\", \"1\", \"2\", \"3\", \"4\", \"5\", \"6\", \"7\", \"8\", \"9\", \"10\", \"11\", \"12\", \"13\", \"14\", \"15\", \"16\", \"17\", \"18\", \"19\", \"20\", \"21\", \"22\", \"23\", \"24\", \"25\", \"26\", \"27\", \"28\", \"29\", \"30\", \"31\", \"32\", \"33\", \"34\", \"35\", \"36\", \"37\", \"38\", \"39\", \"40\", \"44\"], \"mode\": \"lines\", \"name\": \"norm_macro_recall_max\", \"stepped\": true, \"type\": \"scatter\", \"data\": [0.4939682539682539, 0.5227777777777778, 0.5227777777777778, 0.5227777777777778, 0.5227777777777778, 0.5227777777777778, 0.5227777777777778, 0.5227777777777778, 0.5227777777777778, 0.5227777777777778, 0.6528174603174602, 0.6528174603174602, 0.6528174603174602, 0.6528174603174602, 0.6528174603174602, 0.6528174603174602, 0.6528174603174602, 0.6528174603174602, 0.6528174603174602, 0.6528174603174602, 0.6528174603174602, 0.6528174603174602, 0.6528174603174602, 0.6528174603174602, 0.6528174603174602, 0.6528174603174602, 0.6528174603174602, 0.6528174603174602, 0.6528174603174602, 0.6528174603174602, 0.6528174603174602, 0.6528174603174602, 0.6528174603174602, 0.6528174603174602, 0.6528174603174602, 0.6528174603174602, 0.6528174603174602, 0.6528174603174602, 0.6528174603174602, 0.6528174603174602, 0.6528174603174602, 0.6528174603174602]}], \"accuracy\": [{\"categories\": [\"0\", \"1\", \"2\", \"3\", \"4\", \"5\", \"6\", \"7\", \"8\", \"9\", \"10\", \"11\", \"12\", \"13\", \"14\", \"15\", \"16\", \"17\", \"18\", \"19\", \"20\", \"21\", \"22\", \"23\", \"24\", \"25\", \"26\", \"27\", \"28\", \"29\", \"30\", \"31\", \"32\", \"33\", \"34\", \"35\", \"36\", \"37\", \"38\", \"39\", \"40\", \"44\"], \"mode\": \"markers\", \"name\": \"accuracy\", \"stepped\": false, \"type\": \"scatter\", \"data\": [0.705, 0.7699999999999999, 0.71125, 0.7308333333333332, 0.7441666666666666, 0.7316666666666667, 0.6908333333333333, 0.7183333333333334, 0.7383333333333333, 0.6979166666666667, 0.8012499999999999, 0.7770833333333332, 0.7441666666666666, 0.67875, 0.6962499999999999, 0.6791666666666667, 0.7508333333333332, 0.7237500000000001, 0.6979166666666667, 0.75, 0.7516666666666667, 0.7570833333333333, 0.7579166666666668, 0.7354166666666667, 0.7370833333333333, 0.7908333333333333, 0.7579166666666667, 0.75125, 0.75125, 0.7579166666666667, 0.5545833333333332, 0.75625, 0.7775000000000001, 0.7566666666666666, 0.7570833333333333, 0.6941666666666666, 0.7770833333333333, 0.7629166666666667, 0.7433333333333334, 0.7775000000000001, 0.5741666666666667, 0.79]}, {\"categories\": [\"0\", \"1\", \"2\", \"3\", \"4\", \"5\", \"6\", \"7\", \"8\", \"9\", \"10\", \"11\", \"12\", \"13\", \"14\", \"15\", \"16\", \"17\", \"18\", \"19\", \"20\", \"21\", \"22\", \"23\", \"24\", \"25\", \"26\", \"27\", \"28\", \"29\", \"30\", \"31\", \"32\", \"33\", \"34\", \"35\", \"36\", \"37\", \"38\", \"39\", \"40\", \"44\"], \"mode\": \"lines\", \"name\": \"accuracy_max\", \"stepped\": true, \"type\": \"scatter\", \"data\": [0.705, 0.7699999999999999, 0.7699999999999999, 0.7699999999999999, 0.7699999999999999, 0.7699999999999999, 0.7699999999999999, 0.7699999999999999, 0.7699999999999999, 0.7699999999999999, 0.8012499999999999, 0.8012499999999999, 0.8012499999999999, 0.8012499999999999, 0.8012499999999999, 0.8012499999999999, 0.8012499999999999, 0.8012499999999999, 0.8012499999999999, 0.8012499999999999, 0.8012499999999999, 0.8012499999999999, 0.8012499999999999, 0.8012499999999999, 0.8012499999999999, 0.8012499999999999, 0.8012499999999999, 0.8012499999999999, 0.8012499999999999, 0.8012499999999999, 0.8012499999999999, 0.8012499999999999, 0.8012499999999999, 0.8012499999999999, 0.8012499999999999, 0.8012499999999999, 0.8012499999999999, 0.8012499999999999, 0.8012499999999999, 0.8012499999999999, 0.8012499999999999, 0.8012499999999999]}], \"recall_score_macro\": [{\"categories\": [\"0\", \"1\", \"2\", \"3\", \"4\", \"5\", \"6\", \"7\", \"8\", \"9\", \"10\", \"11\", \"12\", \"13\", \"14\", \"15\", \"16\", \"17\", \"18\", \"19\", \"20\", \"21\", \"22\", \"23\", \"24\", \"25\", \"26\", \"27\", \"28\", \"29\", \"30\", \"31\", \"32\", \"33\", \"34\", \"35\", \"36\", \"37\", \"38\", \"39\", \"40\", \"44\"], \"mode\": \"markers\", \"name\": \"recall_score_macro\", \"stepped\": false, \"type\": \"scatter\", \"data\": [0.633015873015873, 0.6837037037037037, 0.5895634920634921, 0.6329365079365079, 0.6472486772486772, 0.5873015873015873, 0.599563492063492, 0.6337830687830687, 0.5956349206349206, 0.6185449735449734, 0.724100529100529, 0.6546428571428572, 0.6463359788359788, 0.5736111111111111, 0.6491269841269841, 0.589021164021164, 0.6283994708994709, 0.6307936507936508, 0.5700793650793651, 0.6935449735449736, 0.6583994708994709, 0.64755291005291, 0.6625264550264551, 0.7080026455026455, 0.6899603174603175, 0.6737962962962963, 0.6380820105820105, 0.637526455026455, 0.6297486772486772, 0.6380820105820105, 0.3753968253968254, 0.6600925925925926, 0.6536772486772487, 0.6389417989417989, 0.673941798941799, 0.5582010582010581, 0.6551058201058201, 0.6570370370370371, 0.6573148148148149, 0.6536772486772487, 0.3942857142857143, 0.6870502645502646]}, {\"categories\": [\"0\", \"1\", \"2\", \"3\", \"4\", \"5\", \"6\", \"7\", \"8\", \"9\", \"10\", \"11\", \"12\", \"13\", \"14\", \"15\", \"16\", \"17\", \"18\", \"19\", \"20\", \"21\", \"22\", \"23\", \"24\", \"25\", \"26\", \"27\", \"28\", \"29\", \"30\", \"31\", \"32\", \"33\", \"34\", \"35\", \"36\", \"37\", \"38\", \"39\", \"40\", \"44\"], \"mode\": \"lines\", \"name\": \"recall_score_macro_max\", \"stepped\": true, \"type\": \"scatter\", \"data\": [0.633015873015873, 0.6837037037037037, 0.6837037037037037, 0.6837037037037037, 0.6837037037037037, 0.6837037037037037, 0.6837037037037037, 0.6837037037037037, 0.6837037037037037, 0.6837037037037037, 0.724100529100529, 0.724100529100529, 0.724100529100529, 0.724100529100529, 0.724100529100529, 0.724100529100529, 0.724100529100529, 0.724100529100529, 0.724100529100529, 0.724100529100529, 0.724100529100529, 0.724100529100529, 0.724100529100529, 0.724100529100529, 0.724100529100529, 0.724100529100529, 0.724100529100529, 0.724100529100529, 0.724100529100529, 0.724100529100529, 0.724100529100529, 0.724100529100529, 0.724100529100529, 0.724100529100529, 0.724100529100529, 0.724100529100529, 0.724100529100529, 0.724100529100529, 0.724100529100529, 0.724100529100529, 0.724100529100529, 0.724100529100529]}], \"matthews_correlation\": [{\"categories\": [\"0\", \"1\", \"2\", \"3\", \"4\", \"5\", \"6\", \"7\", \"8\", \"9\", \"10\", \"11\", \"12\", \"13\", \"14\", \"15\", \"16\", \"17\", \"18\", \"19\", \"20\", \"21\", \"22\", \"23\", \"24\", \"25\", \"26\", \"27\", \"28\", \"29\", \"30\", \"31\", \"32\", \"33\", \"34\", \"35\", \"36\", \"37\", \"38\", \"39\", \"40\", \"44\"], \"mode\": \"markers\", \"name\": \"matthews_correlation\", \"stepped\": false, \"type\": \"scatter\", \"data\": [0.5059015594041794, 0.6214283081379788, 0.5336070690490569, 0.5501067053815732, 0.5803006025442905, 0.5640585704337227, 0.5048199438097807, 0.5421972570630427, 0.5784557855096718, 0.5073679644671973, 0.6682871408655371, 0.6389149548160233, 0.5681457377513945, 0.476399365334808, 0.518351803048967, 0.47415412636921894, 0.5894055414334642, 0.5297113607704098, 0.5010711020381641, 0.5844137190092602, 0.6017744645257519, 0.5922507125183675, 0.6062881837693602, 0.5916906154304679, 0.5664829561245254, 0.6647040007251827, 0.6067647342394326, 0.597172780691697, 0.5932254367530234, 0.6082223186456769, 0.13048817178558128, 0.6079896111020708, 0.6411597707514479, 0.5872081438443548, 0.5906587283433792, 0.4605354119423438, 0.6427839865123761, 0.5981570839051178, 0.5725800489458207, 0.6411597707514479, 0.1411163859253791, 0.6693261447222267]}, {\"categories\": [\"0\", \"1\", \"2\", \"3\", \"4\", \"5\", \"6\", \"7\", \"8\", \"9\", \"10\", \"11\", \"12\", \"13\", \"14\", \"15\", \"16\", \"17\", \"18\", \"19\", \"20\", \"21\", \"22\", \"23\", \"24\", \"25\", \"26\", \"27\", \"28\", \"29\", \"30\", \"31\", \"32\", \"33\", \"34\", \"35\", \"36\", \"37\", \"38\", \"39\", \"40\", \"44\"], \"mode\": \"lines\", \"name\": \"matthews_correlation_max\", \"stepped\": true, \"type\": \"scatter\", \"data\": [0.5059015594041794, 0.6214283081379788, 0.6214283081379788, 0.6214283081379788, 0.6214283081379788, 0.6214283081379788, 0.6214283081379788, 0.6214283081379788, 0.6214283081379788, 0.6214283081379788, 0.6682871408655371, 0.6682871408655371, 0.6682871408655371, 0.6682871408655371, 0.6682871408655371, 0.6682871408655371, 0.6682871408655371, 0.6682871408655371, 0.6682871408655371, 0.6682871408655371, 0.6682871408655371, 0.6682871408655371, 0.6682871408655371, 0.6682871408655371, 0.6682871408655371, 0.6682871408655371, 0.6682871408655371, 0.6682871408655371, 0.6682871408655371, 0.6682871408655371, 0.6682871408655371, 0.6682871408655371, 0.6682871408655371, 0.6682871408655371, 0.6682871408655371, 0.6682871408655371, 0.6682871408655371, 0.6682871408655371, 0.6682871408655371, 0.6682871408655371, 0.6682871408655371, 0.6693261447222267]}], \"precision_score_macro\": [{\"categories\": [\"0\", \"1\", \"2\", \"3\", \"4\", \"5\", \"6\", \"7\", \"8\", \"9\", \"10\", \"11\", \"12\", \"13\", \"14\", \"15\", \"16\", \"17\", \"18\", \"19\", \"20\", \"21\", \"22\", \"23\", \"24\", \"25\", \"26\", \"27\", \"28\", \"29\", \"30\", \"31\", \"32\", \"33\", \"34\", \"35\", \"36\", \"37\", \"38\", \"39\", \"40\", \"44\"], \"mode\": \"markers\", \"name\": \"precision_score_macro\", \"stepped\": false, \"type\": \"scatter\", \"data\": [0.619110149110149, 0.6714550264550264, 0.5776936026936026, 0.6371127946127947, 0.6182352832352832, 0.5826978576978576, 0.6041419691419692, 0.622029822029822, 0.5841630591630591, 0.6872883597883598, 0.7161471861471862, 0.5966744366744366, 0.6122306397306396, 0.5300554075554076, 0.6528306878306879, 0.5444011081511081, 0.6100360750360749, 0.6420568320568321, 0.5309307359307359, 0.6466366041366042, 0.5968602693602693, 0.649004329004329, 0.607099567099567, 0.6865873015873016, 0.6421705146705146, 0.5932744107744107, 0.5583514633514635, 0.5468146668146668, 0.5513817663817664, 0.5554726754726755, 0.3014224664224664, 0.6549915824915825, 0.5791378991378991, 0.6413720538720538, 0.6556433381433381, 0.4762758537758538, 0.6097720797720797, 0.6471079846079846, 0.6161261423761424, 0.5791378991378991, 0.29571123321123316, 0.6366786916786916]}, {\"categories\": [\"0\", \"1\", \"2\", \"3\", \"4\", \"5\", \"6\", \"7\", \"8\", \"9\", \"10\", \"11\", \"12\", \"13\", \"14\", \"15\", \"16\", \"17\", \"18\", \"19\", \"20\", \"21\", \"22\", \"23\", \"24\", \"25\", \"26\", \"27\", \"28\", \"29\", \"30\", \"31\", \"32\", \"33\", \"34\", \"35\", \"36\", \"37\", \"38\", \"39\", \"40\", \"44\"], \"mode\": \"lines\", \"name\": \"precision_score_macro_max\", \"stepped\": true, \"type\": \"scatter\", \"data\": [0.619110149110149, 0.6714550264550264, 0.6714550264550264, 0.6714550264550264, 0.6714550264550264, 0.6714550264550264, 0.6714550264550264, 0.6714550264550264, 0.6714550264550264, 0.6872883597883598, 0.7161471861471862, 0.7161471861471862, 0.7161471861471862, 0.7161471861471862, 0.7161471861471862, 0.7161471861471862, 0.7161471861471862, 0.7161471861471862, 0.7161471861471862, 0.7161471861471862, 0.7161471861471862, 0.7161471861471862, 0.7161471861471862, 0.7161471861471862, 0.7161471861471862, 0.7161471861471862, 0.7161471861471862, 0.7161471861471862, 0.7161471861471862, 0.7161471861471862, 0.7161471861471862, 0.7161471861471862, 0.7161471861471862, 0.7161471861471862, 0.7161471861471862, 0.7161471861471862, 0.7161471861471862, 0.7161471861471862, 0.7161471861471862, 0.7161471861471862, 0.7161471861471862, 0.7161471861471862]}], \"f1_score_micro\": [{\"categories\": [\"0\", \"1\", \"2\", \"3\", \"4\", \"5\", \"6\", \"7\", \"8\", \"9\", \"10\", \"11\", \"12\", \"13\", \"14\", \"15\", \"16\", \"17\", \"18\", \"19\", \"20\", \"21\", \"22\", \"23\", \"24\", \"25\", \"26\", \"27\", \"28\", \"29\", \"30\", \"31\", \"32\", \"33\", \"34\", \"35\", \"36\", \"37\", \"38\", \"39\", \"40\", \"44\"], \"mode\": \"markers\", \"name\": \"f1_score_micro\", \"stepped\": false, \"type\": \"scatter\", \"data\": [0.705, 0.7699999999999999, 0.71125, 0.7308333333333332, 0.7441666666666668, 0.7316666666666668, 0.6908333333333334, 0.7183333333333334, 0.7383333333333335, 0.6979166666666667, 0.8012499999999999, 0.7770833333333333, 0.7441666666666666, 0.67875, 0.69625, 0.6791666666666668, 0.7508333333333335, 0.7237500000000001, 0.6979166666666667, 0.75, 0.7516666666666667, 0.7570833333333333, 0.7579166666666668, 0.7354166666666667, 0.7370833333333333, 0.7908333333333333, 0.7579166666666668, 0.75125, 0.75125, 0.7579166666666668, 0.5545833333333332, 0.75625, 0.7775000000000001, 0.7566666666666666, 0.7570833333333334, 0.6941666666666666, 0.7770833333333333, 0.7629166666666667, 0.7433333333333334, 0.7775000000000001, 0.5741666666666667, 0.79]}, {\"categories\": [\"0\", \"1\", \"2\", \"3\", \"4\", \"5\", \"6\", \"7\", \"8\", \"9\", \"10\", \"11\", \"12\", \"13\", \"14\", \"15\", \"16\", \"17\", \"18\", \"19\", \"20\", \"21\", \"22\", \"23\", \"24\", \"25\", \"26\", \"27\", \"28\", \"29\", \"30\", \"31\", \"32\", \"33\", \"34\", \"35\", \"36\", \"37\", \"38\", \"39\", \"40\", \"44\"], \"mode\": \"lines\", \"name\": \"f1_score_micro_max\", \"stepped\": true, \"type\": \"scatter\", \"data\": [0.705, 0.7699999999999999, 0.7699999999999999, 0.7699999999999999, 0.7699999999999999, 0.7699999999999999, 0.7699999999999999, 0.7699999999999999, 0.7699999999999999, 0.7699999999999999, 0.8012499999999999, 0.8012499999999999, 0.8012499999999999, 0.8012499999999999, 0.8012499999999999, 0.8012499999999999, 0.8012499999999999, 0.8012499999999999, 0.8012499999999999, 0.8012499999999999, 0.8012499999999999, 0.8012499999999999, 0.8012499999999999, 0.8012499999999999, 0.8012499999999999, 0.8012499999999999, 0.8012499999999999, 0.8012499999999999, 0.8012499999999999, 0.8012499999999999, 0.8012499999999999, 0.8012499999999999, 0.8012499999999999, 0.8012499999999999, 0.8012499999999999, 0.8012499999999999, 0.8012499999999999, 0.8012499999999999, 0.8012499999999999, 0.8012499999999999, 0.8012499999999999, 0.8012499999999999]}], \"AUC_weighted\": [{\"categories\": [\"0\", \"1\", \"2\", \"3\", \"4\", \"5\", \"6\", \"7\", \"8\", \"9\", \"10\", \"11\", \"12\", \"13\", \"14\", \"15\", \"16\", \"17\", \"18\", \"19\", \"20\", \"21\", \"22\", \"23\", \"24\", \"25\", \"26\", \"27\", \"28\", \"29\", \"30\", \"31\", \"32\", \"33\", \"34\", \"35\", \"36\", \"37\", \"38\", \"39\", \"40\", \"44\"], \"mode\": \"markers\", \"name\": \"AUC_weighted\", \"stepped\": false, \"type\": \"scatter\", \"data\": [0.8417177984052984, 0.8800416574166574, 0.8565892186517188, 0.8369903152403152, 0.8350318339068339, 0.8307495837495837, 0.8111286606911607, 0.8363314324564325, 0.8052294557294557, 0.849362581862582, 0.8949892746142748, 0.8994224294224296, 0.8656126003626005, 0.7790478826728827, 0.8524288697413697, 0.7759159197284198, 0.8636970390720391, 0.8713704952454953, 0.8347266622266621, 0.8649305000555, 0.8445646575646576, 0.8423037113349613, 0.8439307451807452, 0.8950738636363637, 0.8605149665149666, 0.9227000083250083, 0.8399204406704406, 0.8333108558108557, 0.8397759324009323, 0.8398869671994671, 0.5508849784474784, 0.889925495800496, 0.8141834138084137, 0.8707746373996373, 0.8801741984866986, 0.8356246045621045, 0.8909747150997152, 0.8853382312132313, 0.8692219863469864, 0.8226680402930404, 0.7157361943611944, 0.9346075036075037]}, {\"categories\": [\"0\", \"1\", \"2\", \"3\", \"4\", \"5\", \"6\", \"7\", \"8\", \"9\", \"10\", \"11\", \"12\", \"13\", \"14\", \"15\", \"16\", \"17\", \"18\", \"19\", \"20\", \"21\", \"22\", \"23\", \"24\", \"25\", \"26\", \"27\", \"28\", \"29\", \"30\", \"31\", \"32\", \"33\", \"34\", \"35\", \"36\", \"37\", \"38\", \"39\", \"40\", \"44\"], \"mode\": \"lines\", \"name\": \"AUC_weighted_max\", \"stepped\": true, \"type\": \"scatter\", \"data\": [0.8417177984052984, 0.8800416574166574, 0.8800416574166574, 0.8800416574166574, 0.8800416574166574, 0.8800416574166574, 0.8800416574166574, 0.8800416574166574, 0.8800416574166574, 0.8800416574166574, 0.8949892746142748, 0.8994224294224296, 0.8994224294224296, 0.8994224294224296, 0.8994224294224296, 0.8994224294224296, 0.8994224294224296, 0.8994224294224296, 0.8994224294224296, 0.8994224294224296, 0.8994224294224296, 0.8994224294224296, 0.8994224294224296, 0.8994224294224296, 0.8994224294224296, 0.9227000083250083, 0.9227000083250083, 0.9227000083250083, 0.9227000083250083, 0.9227000083250083, 0.9227000083250083, 0.9227000083250083, 0.9227000083250083, 0.9227000083250083, 0.9227000083250083, 0.9227000083250083, 0.9227000083250083, 0.9227000083250083, 0.9227000083250083, 0.9227000083250083, 0.9227000083250083, 0.9346075036075037]}], \"average_precision_score_micro\": [{\"categories\": [\"0\", \"1\", \"2\", \"3\", \"4\", \"5\", \"6\", \"7\", \"8\", \"9\", \"10\", \"11\", \"12\", \"13\", \"14\", \"15\", \"16\", \"17\", \"18\", \"19\", \"20\", \"21\", \"22\", \"23\", \"24\", \"25\", \"26\", \"27\", \"28\", \"29\", \"30\", \"31\", \"32\", \"33\", \"34\", \"35\", \"36\", \"37\", \"38\", \"39\", \"40\", \"44\"], \"mode\": \"markers\", \"name\": \"average_precision_score_micro\", \"stepped\": false, \"type\": \"scatter\", \"data\": [0.8321791932515019, 0.8528469409163447, 0.836830970026541, 0.789800696892595, 0.8142091561848075, 0.8209771966196318, 0.7429732159854815, 0.7781927047781627, 0.8059073258901778, 0.8090124550702452, 0.8613405518789075, 0.8675854833043969, 0.8244952471054928, 0.7245530705715145, 0.796093652013035, 0.7046374815148315, 0.839862122451164, 0.833602913874393, 0.7638150740851163, 0.8528012333327109, 0.8213497582383738, 0.8278206356181219, 0.7972458792418701, 0.8255544185487025, 0.8306478176999919, 0.9002807382945764, 0.8055643005461139, 0.8042571095129596, 0.7959423056378047, 0.8088673404259106, 0.5349095065223665, 0.8603268624295737, 0.833862214283015, 0.8584909876980833, 0.8630052048680825, 0.7459486083386287, 0.8717673062589059, 0.8625524255707449, 0.8389389801738693, 0.8361266103458339, 0.6330742714696838, 0.901551734055559]}, {\"categories\": [\"0\", \"1\", \"2\", \"3\", \"4\", \"5\", \"6\", \"7\", \"8\", \"9\", \"10\", \"11\", \"12\", \"13\", \"14\", \"15\", \"16\", \"17\", \"18\", \"19\", \"20\", \"21\", \"22\", \"23\", \"24\", \"25\", \"26\", \"27\", \"28\", \"29\", \"30\", \"31\", \"32\", \"33\", \"34\", \"35\", \"36\", \"37\", \"38\", \"39\", \"40\", \"44\"], \"mode\": \"lines\", \"name\": \"average_precision_score_micro_max\", \"stepped\": true, \"type\": \"scatter\", \"data\": [0.8321791932515019, 0.8528469409163447, 0.8528469409163447, 0.8528469409163447, 0.8528469409163447, 0.8528469409163447, 0.8528469409163447, 0.8528469409163447, 0.8528469409163447, 0.8528469409163447, 0.8613405518789075, 0.8675854833043969, 0.8675854833043969, 0.8675854833043969, 0.8675854833043969, 0.8675854833043969, 0.8675854833043969, 0.8675854833043969, 0.8675854833043969, 0.8675854833043969, 0.8675854833043969, 0.8675854833043969, 0.8675854833043969, 0.8675854833043969, 0.8675854833043969, 0.9002807382945764, 0.9002807382945764, 0.9002807382945764, 0.9002807382945764, 0.9002807382945764, 0.9002807382945764, 0.9002807382945764, 0.9002807382945764, 0.9002807382945764, 0.9002807382945764, 0.9002807382945764, 0.9002807382945764, 0.9002807382945764, 0.9002807382945764, 0.9002807382945764, 0.9002807382945764, 0.901551734055559]}], \"average_precision_score_weighted\": [{\"categories\": [\"0\", \"1\", \"2\", \"3\", \"4\", \"5\", \"6\", \"7\", \"8\", \"9\", \"10\", \"11\", \"12\", \"13\", \"14\", \"15\", \"16\", \"17\", \"18\", \"19\", \"20\", \"21\", \"22\", \"23\", \"24\", \"25\", \"26\", \"27\", \"28\", \"29\", \"30\", \"31\", \"32\", \"33\", \"34\", \"35\", \"36\", \"37\", \"38\", \"39\", \"40\", \"44\"], \"mode\": \"markers\", \"name\": \"average_precision_score_weighted\", \"stepped\": false, \"type\": \"scatter\", \"data\": [0.8342497953435455, 0.8572278473840974, 0.8355609477328226, 0.8146236130767381, 0.8163248441373441, 0.8207712576775077, 0.784681921088171, 0.8270001769064269, 0.7852878672253673, 0.8279432754745253, 0.8665999625374626, 0.8810133963258963, 0.8437720115532615, 0.7563247822779072, 0.8221509774947273, 0.7493744079994079, 0.8452547105672107, 0.8533473158785659, 0.8077258297258296, 0.8365059257871756, 0.8213766268453769, 0.8210607725607725, 0.830952752109002, 0.871718453999704, 0.8445090372590371, 0.8914189236689237, 0.8198269681707181, 0.802744227994228, 0.8130040133477634, 0.8181915133477634, 0.6088105916074665, 0.8688304033929034, 0.783409025002775, 0.8530770687645688, 0.8582353028915527, 0.8187542324573573, 0.8631126477688978, 0.866989707052207, 0.8451904646279648, 0.7966617907555407, 0.7090596735440486, 0.9144777722277724]}, {\"categories\": [\"0\", \"1\", \"2\", \"3\", \"4\", \"5\", \"6\", \"7\", \"8\", \"9\", \"10\", \"11\", \"12\", \"13\", \"14\", \"15\", \"16\", \"17\", \"18\", \"19\", \"20\", \"21\", \"22\", \"23\", \"24\", \"25\", \"26\", \"27\", \"28\", \"29\", \"30\", \"31\", \"32\", \"33\", \"34\", \"35\", \"36\", \"37\", \"38\", \"39\", \"40\", \"44\"], \"mode\": \"lines\", \"name\": \"average_precision_score_weighted_max\", \"stepped\": true, \"type\": \"scatter\", \"data\": [0.8342497953435455, 0.8572278473840974, 0.8572278473840974, 0.8572278473840974, 0.8572278473840974, 0.8572278473840974, 0.8572278473840974, 0.8572278473840974, 0.8572278473840974, 0.8572278473840974, 0.8665999625374626, 0.8810133963258963, 0.8810133963258963, 0.8810133963258963, 0.8810133963258963, 0.8810133963258963, 0.8810133963258963, 0.8810133963258963, 0.8810133963258963, 0.8810133963258963, 0.8810133963258963, 0.8810133963258963, 0.8810133963258963, 0.8810133963258963, 0.8810133963258963, 0.8914189236689237, 0.8914189236689237, 0.8914189236689237, 0.8914189236689237, 0.8914189236689237, 0.8914189236689237, 0.8914189236689237, 0.8914189236689237, 0.8914189236689237, 0.8914189236689237, 0.8914189236689237, 0.8914189236689237, 0.8914189236689237, 0.8914189236689237, 0.8914189236689237, 0.8914189236689237, 0.9144777722277724]}], \"AUC_macro\": [{\"categories\": [\"0\", \"1\", \"2\", \"3\", \"4\", \"5\", \"6\", \"7\", \"8\", \"9\", \"10\", \"11\", \"12\", \"13\", \"14\", \"15\", \"16\", \"17\", \"18\", \"19\", \"20\", \"21\", \"22\", \"23\", \"24\", \"25\", \"26\", \"27\", \"28\", \"29\", \"30\", \"31\", \"32\", \"33\", \"34\", \"35\", \"36\", \"37\", \"38\", \"39\", \"40\", \"44\"], \"mode\": \"markers\", \"name\": \"AUC_macro\", \"stepped\": false, \"type\": \"scatter\", \"data\": [0.8340570571403905, 0.8711133126133126, 0.8462846998680333, 0.8355285177785177, 0.8237811139477806, 0.8152657342657343, 0.789908958325625, 0.8178549660216327, 0.7943163441496774, 0.8444832944832946, 0.8873908252241585, 0.88005439005439, 0.8524691913025245, 0.7670682095682096, 0.839374548291215, 0.7386493321493321, 0.8512629900963233, 0.8704134014134015, 0.8127968944635612, 0.8581587116587116, 0.834698801198801, 0.8356674297924298, 0.8427807069473736, 0.8811578884078886, 0.8575534897201564, 0.9185995177661846, 0.8008196001529335, 0.8077129660462992, 0.80558514325181, 0.8020016742516743, 0.5593462494295827, 0.8771336749670082, 0.7845119756786423, 0.8653175158175159, 0.8724113509946843, 0.8265176151009485, 0.8666055487722154, 0.8849873028206362, 0.8623819760486426, 0.8072281915615249, 0.7168188108188109, 0.9222360109026777]}, {\"categories\": [\"0\", \"1\", \"2\", \"3\", \"4\", \"5\", \"6\", \"7\", \"8\", \"9\", \"10\", \"11\", \"12\", \"13\", \"14\", \"15\", \"16\", \"17\", \"18\", \"19\", \"20\", \"21\", \"22\", \"23\", \"24\", \"25\", \"26\", \"27\", \"28\", \"29\", \"30\", \"31\", \"32\", \"33\", \"34\", \"35\", \"36\", \"37\", \"38\", \"39\", \"40\", \"44\"], \"mode\": \"lines\", \"name\": \"AUC_macro_max\", \"stepped\": true, \"type\": \"scatter\", \"data\": [0.8340570571403905, 0.8711133126133126, 0.8711133126133126, 0.8711133126133126, 0.8711133126133126, 0.8711133126133126, 0.8711133126133126, 0.8711133126133126, 0.8711133126133126, 0.8711133126133126, 0.8873908252241585, 0.8873908252241585, 0.8873908252241585, 0.8873908252241585, 0.8873908252241585, 0.8873908252241585, 0.8873908252241585, 0.8873908252241585, 0.8873908252241585, 0.8873908252241585, 0.8873908252241585, 0.8873908252241585, 0.8873908252241585, 0.8873908252241585, 0.8873908252241585, 0.9185995177661846, 0.9185995177661846, 0.9185995177661846, 0.9185995177661846, 0.9185995177661846, 0.9185995177661846, 0.9185995177661846, 0.9185995177661846, 0.9185995177661846, 0.9185995177661846, 0.9185995177661846, 0.9185995177661846, 0.9185995177661846, 0.9185995177661846, 0.9185995177661846, 0.9185995177661846, 0.9222360109026777]}], \"f1_score_macro\": [{\"categories\": [\"0\", \"1\", \"2\", \"3\", \"4\", \"5\", \"6\", \"7\", \"8\", \"9\", \"10\", \"11\", \"12\", \"13\", \"14\", \"15\", \"16\", \"17\", \"18\", \"19\", \"20\", \"21\", \"22\", \"23\", \"24\", \"25\", \"26\", \"27\", \"28\", \"29\", \"30\", \"31\", \"32\", \"33\", \"34\", \"35\", \"36\", \"37\", \"38\", \"39\", \"40\", \"44\"], \"mode\": \"markers\", \"name\": \"f1_score_macro\", \"stepped\": false, \"type\": \"scatter\", \"data\": [0.6017857142857143, 0.6511280054081912, 0.554710579238443, 0.6146866595163809, 0.6111478448165755, 0.548743750951989, 0.5585906661564556, 0.5964565454039137, 0.5587870409952791, 0.6122101708634216, 0.708606184264079, 0.6105272614096144, 0.6090773707143676, 0.531471557201467, 0.6316264726558845, 0.5355262275850511, 0.5931773715906844, 0.6112809802283486, 0.5291660518131106, 0.6398810116611975, 0.6088734443804104, 0.6258657138068903, 0.6161042718318261, 0.6688908193629557, 0.6408442486306264, 0.6206675780359991, 0.5786993119601817, 0.5704179688336372, 0.5704592674043475, 0.576492405805907, 0.2898893176067089, 0.6352287046172496, 0.5998584893267893, 0.6145801320569122, 0.6463263551034449, 0.49320645305199085, 0.6118092244872431, 0.6319612757383656, 0.6181822864098405, 0.5998584893267893, 0.30695673362149334, 0.6450005320903154]}, {\"categories\": [\"0\", \"1\", \"2\", \"3\", \"4\", \"5\", \"6\", \"7\", \"8\", \"9\", \"10\", \"11\", \"12\", \"13\", \"14\", \"15\", \"16\", \"17\", \"18\", \"19\", \"20\", \"21\", \"22\", \"23\", \"24\", \"25\", \"26\", \"27\", \"28\", \"29\", \"30\", \"31\", \"32\", \"33\", \"34\", \"35\", \"36\", \"37\", \"38\", \"39\", \"40\", \"44\"], \"mode\": \"lines\", \"name\": \"f1_score_macro_max\", \"stepped\": true, \"type\": \"scatter\", \"data\": [0.6017857142857143, 0.6511280054081912, 0.6511280054081912, 0.6511280054081912, 0.6511280054081912, 0.6511280054081912, 0.6511280054081912, 0.6511280054081912, 0.6511280054081912, 0.6511280054081912, 0.708606184264079, 0.708606184264079, 0.708606184264079, 0.708606184264079, 0.708606184264079, 0.708606184264079, 0.708606184264079, 0.708606184264079, 0.708606184264079, 0.708606184264079, 0.708606184264079, 0.708606184264079, 0.708606184264079, 0.708606184264079, 0.708606184264079, 0.708606184264079, 0.708606184264079, 0.708606184264079, 0.708606184264079, 0.708606184264079, 0.708606184264079, 0.708606184264079, 0.708606184264079, 0.708606184264079, 0.708606184264079, 0.708606184264079, 0.708606184264079, 0.708606184264079, 0.708606184264079, 0.708606184264079, 0.708606184264079, 0.708606184264079]}], \"precision_score_weighted\": [{\"categories\": [\"0\", \"1\", \"2\", \"3\", \"4\", \"5\", \"6\", \"7\", \"8\", \"9\", \"10\", \"11\", \"12\", \"13\", \"14\", \"15\", \"16\", \"17\", \"18\", \"19\", \"20\", \"21\", \"22\", \"23\", \"24\", \"25\", \"26\", \"27\", \"28\", \"29\", \"30\", \"31\", \"32\", \"33\", \"34\", \"35\", \"36\", \"37\", \"38\", \"39\", \"40\", \"44\"], \"mode\": \"markers\", \"name\": \"precision_score_weighted\", \"stepped\": false, \"type\": \"scatter\", \"data\": [0.7316886123136124, 0.7762738095238094, 0.7231060606060605, 0.770684644059644, 0.6972055537055537, 0.6727847430347431, 0.7253803973803975, 0.732372594997595, 0.6751290653790655, 0.7606349206349206, 0.8367117604617604, 0.7006706811706811, 0.7254579124579124, 0.6400579235579235, 0.7753700396825397, 0.6549533892033893, 0.7506767075517076, 0.7358060828060828, 0.685088924963925, 0.7398896705146706, 0.6969978956228956, 0.7636416546416547, 0.6997242664742664, 0.8203769841269842, 0.7394082792207792, 0.7056153198653199, 0.6688875291375291, 0.6645671828171829, 0.6635844988344989, 0.6692814685314685, 0.43632142857142864, 0.7790823713323713, 0.6849308191808191, 0.7624187710437711, 0.7540108225108224, 0.5714915524290525, 0.7113575498575498, 0.7676564454064454, 0.7281841029341029, 0.6849308191808191, 0.42058142551892547, 0.7277613035113035]}, {\"categories\": [\"0\", \"1\", \"2\", \"3\", \"4\", \"5\", \"6\", \"7\", \"8\", \"9\", \"10\", \"11\", \"12\", \"13\", \"14\", \"15\", \"16\", \"17\", \"18\", \"19\", \"20\", \"21\", \"22\", \"23\", \"24\", \"25\", \"26\", \"27\", \"28\", \"29\", \"30\", \"31\", \"32\", \"33\", \"34\", \"35\", \"36\", \"37\", \"38\", \"39\", \"40\", \"44\"], \"mode\": \"lines\", \"name\": \"precision_score_weighted_max\", \"stepped\": true, \"type\": \"scatter\", \"data\": [0.7316886123136124, 0.7762738095238094, 0.7762738095238094, 0.7762738095238094, 0.7762738095238094, 0.7762738095238094, 0.7762738095238094, 0.7762738095238094, 0.7762738095238094, 0.7762738095238094, 0.8367117604617604, 0.8367117604617604, 0.8367117604617604, 0.8367117604617604, 0.8367117604617604, 0.8367117604617604, 0.8367117604617604, 0.8367117604617604, 0.8367117604617604, 0.8367117604617604, 0.8367117604617604, 0.8367117604617604, 0.8367117604617604, 0.8367117604617604, 0.8367117604617604, 0.8367117604617604, 0.8367117604617604, 0.8367117604617604, 0.8367117604617604, 0.8367117604617604, 0.8367117604617604, 0.8367117604617604, 0.8367117604617604, 0.8367117604617604, 0.8367117604617604, 0.8367117604617604, 0.8367117604617604, 0.8367117604617604, 0.8367117604617604, 0.8367117604617604, 0.8367117604617604, 0.8367117604617604]}], \"average_precision_score_macro\": [{\"categories\": [\"0\", \"1\", \"2\", \"3\", \"4\", \"5\", \"6\", \"7\", \"8\", \"9\", \"10\", \"11\", \"12\", \"13\", \"14\", \"15\", \"16\", \"17\", \"18\", \"19\", \"20\", \"21\", \"22\", \"23\", \"24\", \"25\", \"26\", \"27\", \"28\", \"29\", \"30\", \"31\", \"32\", \"33\", \"34\", \"35\", \"36\", \"37\", \"38\", \"39\", \"40\", \"44\"], \"mode\": \"markers\", \"name\": \"average_precision_score_macro\", \"stepped\": false, \"type\": \"scatter\", \"data\": [0.7792817039295215, 0.7915588010607852, 0.7568581670754291, 0.741503511773353, 0.7399833024852867, 0.7488649550038439, 0.6969504895824341, 0.756666454687288, 0.7152271082826639, 0.7633946648956569, 0.804455045248696, 0.8172452584158932, 0.7823709156804395, 0.6821526366050177, 0.7459250165986278, 0.6533039006848529, 0.7784116914464138, 0.7940374666852842, 0.7250482417347497, 0.7653775569301363, 0.7496554124887458, 0.7611008006910784, 0.7909600261584389, 0.8115836689765261, 0.8003447787515248, 0.8312165248405327, 0.7283647767209274, 0.7172271147796941, 0.7208274792520826, 0.7267493066530765, 0.5494923619883937, 0.8081591051144624, 0.7030767625966037, 0.7942324455747073, 0.7897197692078646, 0.735061677923781, 0.7859463376130043, 0.8151371263583564, 0.7825947157633666, 0.7268322969652334, 0.636298605017851, 0.8567569737361405]}, {\"categories\": [\"0\", \"1\", \"2\", \"3\", \"4\", \"5\", \"6\", \"7\", \"8\", \"9\", \"10\", \"11\", \"12\", \"13\", \"14\", \"15\", \"16\", \"17\", \"18\", \"19\", \"20\", \"21\", \"22\", \"23\", \"24\", \"25\", \"26\", \"27\", \"28\", \"29\", \"30\", \"31\", \"32\", \"33\", \"34\", \"35\", \"36\", \"37\", \"38\", \"39\", \"40\", \"44\"], \"mode\": \"lines\", \"name\": \"average_precision_score_macro_max\", \"stepped\": true, \"type\": \"scatter\", \"data\": [0.7792817039295215, 0.7915588010607852, 0.7915588010607852, 0.7915588010607852, 0.7915588010607852, 0.7915588010607852, 0.7915588010607852, 0.7915588010607852, 0.7915588010607852, 0.7915588010607852, 0.804455045248696, 0.8172452584158932, 0.8172452584158932, 0.8172452584158932, 0.8172452584158932, 0.8172452584158932, 0.8172452584158932, 0.8172452584158932, 0.8172452584158932, 0.8172452584158932, 0.8172452584158932, 0.8172452584158932, 0.8172452584158932, 0.8172452584158932, 0.8172452584158932, 0.8312165248405327, 0.8312165248405327, 0.8312165248405327, 0.8312165248405327, 0.8312165248405327, 0.8312165248405327, 0.8312165248405327, 0.8312165248405327, 0.8312165248405327, 0.8312165248405327, 0.8312165248405327, 0.8312165248405327, 0.8312165248405327, 0.8312165248405327, 0.8312165248405327, 0.8312165248405327, 0.8567569737361405]}], \"recall_score_weighted\": [{\"categories\": [\"0\", \"1\", \"2\", \"3\", \"4\", \"5\", \"6\", \"7\", \"8\", \"9\", \"10\", \"11\", \"12\", \"13\", \"14\", \"15\", \"16\", \"17\", \"18\", \"19\", \"20\", \"21\", \"22\", \"23\", \"24\", \"25\", \"26\", \"27\", \"28\", \"29\", \"30\", \"31\", \"32\", \"33\", \"34\", \"35\", \"36\", \"37\", \"38\", \"39\", \"40\", \"44\"], \"mode\": \"markers\", \"name\": \"recall_score_weighted\", \"stepped\": false, \"type\": \"scatter\", \"data\": [0.705, 0.7699999999999999, 0.71125, 0.7308333333333332, 0.7441666666666666, 0.7316666666666667, 0.6908333333333333, 0.7183333333333334, 0.7383333333333333, 0.6979166666666667, 0.8012499999999999, 0.7770833333333332, 0.7441666666666666, 0.67875, 0.6962499999999999, 0.6791666666666667, 0.7508333333333332, 0.7237500000000001, 0.6979166666666667, 0.75, 0.7516666666666667, 0.7570833333333333, 0.7579166666666668, 0.7354166666666667, 0.7370833333333333, 0.7908333333333333, 0.7579166666666667, 0.75125, 0.75125, 0.7579166666666667, 0.5545833333333332, 0.75625, 0.7775000000000001, 0.7566666666666666, 0.7570833333333333, 0.6941666666666666, 0.7770833333333333, 0.7629166666666667, 0.7433333333333334, 0.7775000000000001, 0.5741666666666667, 0.79]}, {\"categories\": [\"0\", \"1\", \"2\", \"3\", \"4\", \"5\", \"6\", \"7\", \"8\", \"9\", \"10\", \"11\", \"12\", \"13\", \"14\", \"15\", \"16\", \"17\", \"18\", \"19\", \"20\", \"21\", \"22\", \"23\", \"24\", \"25\", \"26\", \"27\", \"28\", \"29\", \"30\", \"31\", \"32\", \"33\", \"34\", \"35\", \"36\", \"37\", \"38\", \"39\", \"40\", \"44\"], \"mode\": \"lines\", \"name\": \"recall_score_weighted_max\", \"stepped\": true, \"type\": \"scatter\", \"data\": [0.705, 0.7699999999999999, 0.7699999999999999, 0.7699999999999999, 0.7699999999999999, 0.7699999999999999, 0.7699999999999999, 0.7699999999999999, 0.7699999999999999, 0.7699999999999999, 0.8012499999999999, 0.8012499999999999, 0.8012499999999999, 0.8012499999999999, 0.8012499999999999, 0.8012499999999999, 0.8012499999999999, 0.8012499999999999, 0.8012499999999999, 0.8012499999999999, 0.8012499999999999, 0.8012499999999999, 0.8012499999999999, 0.8012499999999999, 0.8012499999999999, 0.8012499999999999, 0.8012499999999999, 0.8012499999999999, 0.8012499999999999, 0.8012499999999999, 0.8012499999999999, 0.8012499999999999, 0.8012499999999999, 0.8012499999999999, 0.8012499999999999, 0.8012499999999999, 0.8012499999999999, 0.8012499999999999, 0.8012499999999999, 0.8012499999999999, 0.8012499999999999, 0.8012499999999999]}], \"balanced_accuracy\": [{\"categories\": [\"0\", \"1\", \"2\", \"3\", \"4\", \"5\", \"6\", \"7\", \"8\", \"9\", \"10\", \"11\", \"12\", \"13\", \"14\", \"15\", \"16\", \"17\", \"18\", \"19\", \"20\", \"21\", \"22\", \"23\", \"24\", \"25\", \"26\", \"27\", \"28\", \"29\", \"30\", \"31\", \"32\", \"33\", \"34\", \"35\", \"36\", \"37\", \"38\", \"39\", \"40\", \"44\"], \"mode\": \"markers\", \"name\": \"balanced_accuracy\", \"stepped\": false, \"type\": \"scatter\", \"data\": [0.633015873015873, 0.6837037037037037, 0.5895634920634921, 0.6329365079365079, 0.6472486772486772, 0.5873015873015873, 0.599563492063492, 0.6337830687830687, 0.5956349206349206, 0.6185449735449734, 0.724100529100529, 0.6546428571428572, 0.6463359788359788, 0.5736111111111111, 0.6491269841269841, 0.589021164021164, 0.6283994708994709, 0.6307936507936508, 0.5700793650793651, 0.6935449735449736, 0.6583994708994709, 0.64755291005291, 0.6625264550264551, 0.7080026455026455, 0.6899603174603175, 0.6737962962962963, 0.6380820105820105, 0.637526455026455, 0.6297486772486772, 0.6380820105820105, 0.3753968253968254, 0.6600925925925926, 0.6536772486772487, 0.6389417989417989, 0.673941798941799, 0.5582010582010581, 0.6551058201058201, 0.6570370370370371, 0.6573148148148149, 0.6536772486772487, 0.3942857142857143, 0.6870502645502646]}, {\"categories\": [\"0\", \"1\", \"2\", \"3\", \"4\", \"5\", \"6\", \"7\", \"8\", \"9\", \"10\", \"11\", \"12\", \"13\", \"14\", \"15\", \"16\", \"17\", \"18\", \"19\", \"20\", \"21\", \"22\", \"23\", \"24\", \"25\", \"26\", \"27\", \"28\", \"29\", \"30\", \"31\", \"32\", \"33\", \"34\", \"35\", \"36\", \"37\", \"38\", \"39\", \"40\", \"44\"], \"mode\": \"lines\", \"name\": \"balanced_accuracy_max\", \"stepped\": true, \"type\": \"scatter\", \"data\": [0.633015873015873, 0.6837037037037037, 0.6837037037037037, 0.6837037037037037, 0.6837037037037037, 0.6837037037037037, 0.6837037037037037, 0.6837037037037037, 0.6837037037037037, 0.6837037037037037, 0.724100529100529, 0.724100529100529, 0.724100529100529, 0.724100529100529, 0.724100529100529, 0.724100529100529, 0.724100529100529, 0.724100529100529, 0.724100529100529, 0.724100529100529, 0.724100529100529, 0.724100529100529, 0.724100529100529, 0.724100529100529, 0.724100529100529, 0.724100529100529, 0.724100529100529, 0.724100529100529, 0.724100529100529, 0.724100529100529, 0.724100529100529, 0.724100529100529, 0.724100529100529, 0.724100529100529, 0.724100529100529, 0.724100529100529, 0.724100529100529, 0.724100529100529, 0.724100529100529, 0.724100529100529, 0.724100529100529, 0.724100529100529]}]}, \"metricName\": null, \"primaryMetricName\": \"AUC_weighted\", \"showLegend\": false}, \"run_metrics\": [{\"name\": \"experiment_status\", \"run_id\": \"AutoML_a5e54ff3-229c-4909-8560-009383a8d63c\", \"categories\": [0, 1, 2, 3, 4, 5, 6, 7, 8, 9, 10, 11, 12, 13], \"series\": [{\"data\": [\"DatasetEvaluation\", \"FeaturesGeneration\", \"DatasetFeaturization\", \"DatasetFeaturizationCompleted\", \"DatasetCrossValidationSplit\", \"ModelSelection\", \"BestRunExplainModel\", \"ModelExplanationDataSetSetup\", \"PickSurrogateModel\", \"EngineeredFeatureExplanations\", \"EngineeredFeatureExplanations\", \"RawFeaturesExplanations\", \"RawFeaturesExplanations\", \"BestRunExplainModel\"]}]}, {\"name\": \"experiment_status_description\", \"run_id\": \"AutoML_a5e54ff3-229c-4909-8560-009383a8d63c\", \"categories\": [0, 1, 2, 3, 4, 5, 6, 7, 8, 9, 10, 11, 12, 13], \"series\": [{\"data\": [\"Gathering dataset statistics.\", \"Generating features for the dataset.\", \"Beginning to fit featurizers and featurize the dataset.\", \"Completed fit featurizers and featurizing the dataset.\", \"Generating individually featurized CV splits.\", \"Beginning model selection.\", \"Best run model explanations started\", \"Model explanations data setup completed\", \"Choosing LightGBM as the surrogate model for explanations\", \"Computation of engineered features started\", \"Computation of engineered features completed\", \"Computation of raw features started\", \"Computation of raw features completed\", \"Best run model explanations completed\"]}]}, {\"name\": \"f1_score_macro\", \"run_id\": \"AutoML_a5e54ff3-229c-4909-8560-009383a8d63c\", \"categories\": [0], \"series\": [{\"data\": [0.6450005320903154]}]}, {\"name\": \"average_precision_score_weighted\", \"run_id\": \"AutoML_a5e54ff3-229c-4909-8560-009383a8d63c\", \"categories\": [0], \"series\": [{\"data\": [0.9144777722277724]}]}, {\"name\": \"AUC_micro\", \"run_id\": \"AutoML_a5e54ff3-229c-4909-8560-009383a8d63c\", \"categories\": [0], \"series\": [{\"data\": [0.9418567708333334]}]}, {\"name\": \"average_precision_score_macro\", \"run_id\": \"AutoML_a5e54ff3-229c-4909-8560-009383a8d63c\", \"categories\": [0], \"series\": [{\"data\": [0.8567569737361405]}]}, {\"name\": \"accuracy\", \"run_id\": \"AutoML_a5e54ff3-229c-4909-8560-009383a8d63c\", \"categories\": [0], \"series\": [{\"data\": [0.79]}]}, {\"name\": \"norm_macro_recall\", \"run_id\": \"AutoML_a5e54ff3-229c-4909-8560-009383a8d63c\", \"categories\": [0], \"series\": [{\"data\": [0.527797619047619]}]}, {\"name\": \"weighted_accuracy\", \"run_id\": \"AutoML_a5e54ff3-229c-4909-8560-009383a8d63c\", \"categories\": [0], \"series\": [{\"data\": [0.8435853528365229]}]}, {\"name\": \"balanced_accuracy\", \"run_id\": \"AutoML_a5e54ff3-229c-4909-8560-009383a8d63c\", \"categories\": [0], \"series\": [{\"data\": [0.6870502645502646]}]}, {\"name\": \"recall_score_weighted\", \"run_id\": \"AutoML_a5e54ff3-229c-4909-8560-009383a8d63c\", \"categories\": [0], \"series\": [{\"data\": [0.79]}]}, {\"name\": \"log_loss\", \"run_id\": \"AutoML_a5e54ff3-229c-4909-8560-009383a8d63c\", \"categories\": [0], \"series\": [{\"data\": [0.5278540710135106]}]}, {\"name\": \"precision_score_micro\", \"run_id\": \"AutoML_a5e54ff3-229c-4909-8560-009383a8d63c\", \"categories\": [0], \"series\": [{\"data\": [0.79]}]}, {\"name\": \"precision_score_weighted\", \"run_id\": \"AutoML_a5e54ff3-229c-4909-8560-009383a8d63c\", \"categories\": [0], \"series\": [{\"data\": [0.7277613035113035]}]}, {\"name\": \"AUC_macro\", \"run_id\": \"AutoML_a5e54ff3-229c-4909-8560-009383a8d63c\", \"categories\": [0], \"series\": [{\"data\": [0.9222360109026777]}]}, {\"name\": \"precision_score_macro\", \"run_id\": \"AutoML_a5e54ff3-229c-4909-8560-009383a8d63c\", \"categories\": [0], \"series\": [{\"data\": [0.6366786916786916]}]}, {\"name\": \"recall_score_micro\", \"run_id\": \"AutoML_a5e54ff3-229c-4909-8560-009383a8d63c\", \"categories\": [0], \"series\": [{\"data\": [0.79]}]}, {\"name\": \"f1_score_weighted\", \"run_id\": \"AutoML_a5e54ff3-229c-4909-8560-009383a8d63c\", \"categories\": [0], \"series\": [{\"data\": [0.7470896799279153]}]}, {\"name\": \"matthews_correlation\", \"run_id\": \"AutoML_a5e54ff3-229c-4909-8560-009383a8d63c\", \"categories\": [0], \"series\": [{\"data\": [0.6693261447222267]}]}, {\"name\": \"AUC_weighted\", \"run_id\": \"AutoML_a5e54ff3-229c-4909-8560-009383a8d63c\", \"categories\": [0], \"series\": [{\"data\": [0.9346075036075037]}]}, {\"name\": \"average_precision_score_micro\", \"run_id\": \"AutoML_a5e54ff3-229c-4909-8560-009383a8d63c\", \"categories\": [0], \"series\": [{\"data\": [0.901551734055559]}]}, {\"name\": \"f1_score_micro\", \"run_id\": \"AutoML_a5e54ff3-229c-4909-8560-009383a8d63c\", \"categories\": [0], \"series\": [{\"data\": [0.79]}]}, {\"name\": \"recall_score_macro\", \"run_id\": \"AutoML_a5e54ff3-229c-4909-8560-009383a8d63c\", \"categories\": [0], \"series\": [{\"data\": [0.6870502645502646]}]}], \"run_logs\": \"\\nRun is completed.\", \"graph\": {}, \"widget_settings\": {\"childWidgetDisplay\": \"popup\", \"send_telemetry\": false, \"log_level\": \"INFO\", \"sdk_version\": \"1.37.0\"}, \"loading\": false}"
          },
          "metadata": {}
        },
        {
          "output_type": "stream",
          "name": "stderr",
          "text": "WARNING:urllib3.connectionpool:Retrying (Retry(total=2, connect=2, read=3, redirect=None, status=None)) after connection broken by 'NewConnectionError('<urllib3.connection.HTTPSConnection object at 0x7f106c1bd748>: Failed to establish a new connection: [Errno 111] Connection refused',)': /history/v1.0/subscriptions/3e42d11f-d64d-4173-af9b-12ecaa1030b3/resourceGroups/aml-quickstarts-178231/providers/Microsoft.MachineLearningServices/workspaces/quick-starts-ws-178231/experiments/palsy/runs/HD_ff211e2f-fdbc-4c60-ae55-ccda0be69174_1\n"
        }
      ],
      "execution_count": 10,
      "metadata": {
        "gather": {
          "logged": 1643029987392
        },
        "jupyter": {
          "outputs_hidden": false,
          "source_hidden": false
        },
        "nteract": {
          "transient": {
            "deleting": false
          }
        }
      }
    },
    {
      "cell_type": "code",
      "source": [
        "remote_run.wait_for_completion(show_output=True)"
      ],
      "outputs": [
        {
          "output_type": "display_data",
          "data": {
            "text/plain": "<IPython.core.display.HTML object>",
            "text/html": "<table style=\"width:100%\"><tr><th>Experiment</th><th>Id</th><th>Type</th><th>Status</th><th>Details Page</th><th>Docs Page</th></tr><tr><td>palsy</td><td>AutoML_a5e54ff3-229c-4909-8560-009383a8d63c</td><td>automl</td><td>NotStarted</td><td><a href=\"https://ml.azure.com/runs/AutoML_a5e54ff3-229c-4909-8560-009383a8d63c?wsid=/subscriptions/3e42d11f-d64d-4173-af9b-12ecaa1030b3/resourcegroups/aml-quickstarts-178231/workspaces/quick-starts-ws-178231&amp;tid=660b3398-b80e-49d2-bc5b-ac1dc93b5254\" target=\"_blank\" rel=\"noopener\">Link to Azure Machine Learning studio</a></td><td><a href=\"https://docs.microsoft.com/en-us/python/api/overview/azure/ml/intro?view=azure-ml-py\" target=\"_blank\" rel=\"noopener\">Link to Documentation</a></td></tr></table>"
          },
          "metadata": {}
        },
        {
          "output_type": "stream",
          "name": "stdout",
          "text": "\nCurrent status: FeaturesGeneration. Generating features for the dataset.\nCurrent status: DatasetCrossValidationSplit. Generating individually featurized CV splits.\nCurrent status: ModelSelection. Beginning model selection.\n\n********************************************************************************************\nDATA GUARDRAILS: \n\nTYPE:         Cross validation\nSTATUS:       DONE\nDESCRIPTION:  Each iteration of the trained model was validated through cross-validation.\n              \nDETAILS:      \n+------------------------------+\n|Number of folds               |\n+==============================+\n|10                            |\n+------------------------------+\n\n********************************************************************************************\n\nTYPE:         Class balancing detection\nSTATUS:       PASSED\nDESCRIPTION:  Your inputs were analyzed, and all classes are balanced in your training data.\n              Learn more about imbalanced data: https://aka.ms/AutomatedMLImbalancedData\n\n********************************************************************************************\n\nTYPE:         Missing feature values imputation\nSTATUS:       PASSED\nDESCRIPTION:  No feature missing values were detected in the training data.\n              Learn more about missing value imputation: https://aka.ms/AutomatedMLFeaturization\n\n********************************************************************************************\n\nTYPE:         High cardinality feature detection\nSTATUS:       PASSED\nDESCRIPTION:  Your inputs were analyzed, and no high cardinality features were detected.\n              Learn more about high cardinality feature handling: https://aka.ms/AutomatedMLFeaturization\n\n********************************************************************************************\n\n********************************************************************************************\nITER: The iteration being evaluated.\nPIPELINE: A summary description of the pipeline being evaluated.\nDURATION: Time taken for the current iteration.\nMETRIC: The result of computing score on the fitted pipeline.\nBEST: The best observed score thus far.\n********************************************************************************************\n\n ITER   PIPELINE                                       DURATION            METRIC      BEST\n    0   MaxAbsScaler LightGBM                          0:00:13             0.8417    0.8417\n    1   MaxAbsScaler XGBoostClassifier                 0:00:15             0.8800    0.8800\n    2   MaxAbsScaler ExtremeRandomTrees                0:00:11             0.8566    0.8800\n    3   MaxAbsScaler RandomForest                      0:00:11             0.8370    0.8800\n    8   RobustScaler KNN                               0:00:11             0.8052    0.8800\n    9   MinMaxScaler RandomForest                      0:00:13             0.8494    0.8800\n   10   StandardScalerWrapper LogisticRegression       0:00:11             0.8950    0.8950\n   11   StandardScalerWrapper SVM                      0:00:11             0.8994    0.8994\n   12   StandardScalerWrapper XGBoostClassifier        0:00:11             0.8656    0.8994\n    4   StandardScalerWrapper LightGBM                 0:00:12             0.8350    0.8994\n   13   SparseNormalizer KNN                           0:00:11             0.7790    0.8994\n    5   StandardScalerWrapper KNN                      0:00:11             0.8307    0.8994\n    6   SparseNormalizer XGBoostClassifier             0:00:11             0.8111    0.8994\n   14   RobustScaler ExtremeRandomTrees                0:00:12             0.8524    0.8994\n   15   SparseNormalizer XGBoostClassifier             0:00:12             0.7759    0.8994\n   16   MinMaxScaler ExtremeRandomTrees                0:00:12             0.8637    0.8994\n   17   MinMaxScaler ExtremeRandomTrees                0:00:11             0.8714    0.8994\n    7   SparseNormalizer RandomForest                  0:00:14             0.8363    0.8994\n   18   SparseNormalizer LightGBM                      0:00:11             0.8347    0.8994\n   19   MaxAbsScaler ExtremeRandomTrees                0:00:18             0.8649    0.8994\n   21   StandardScalerWrapper RandomForest             0:00:45             0.8423    0.8994\n   22   MaxAbsScaler LightGBM                          0:00:45             0.8439    0.8994\n   23   MaxAbsScaler LogisticRegression                0:00:41             0.8951    0.8994\n   24   StandardScalerWrapper ExtremeRandomTrees       0:00:48             0.8605    0.8994\n   20   StandardScalerWrapper XGBoostClassifier        0:01:38             0.8446    0.8994\n   25   SparseNormalizer SVM                           0:00:42             0.9227    0.9227\n   26   MinMaxScaler LogisticRegression                0:00:45             0.8399    0.9227\n   27   StandardScalerWrapper LogisticRegression       0:00:42             0.8333    0.9227\n   28   MaxAbsScaler LogisticRegression                0:00:44             0.8398    0.9227\n   29   MinMaxScaler LogisticRegression                0:00:46             0.8399    0.9227\n   31   StandardScalerWrapper GradientBoosting         0:00:50             0.8899    0.9227\n   32   StandardScalerWrapper SVM                      0:00:43             0.8142    0.9227\n   30   PCA SVM                                        0:01:22             0.5509    0.9227\n   33   MaxAbsScaler GradientBoosting                  0:01:02             0.8708    0.9227\n   35   MaxAbsScaler SVM                               0:00:47             0.8356    0.9227\n   34   RobustScaler GradientBoosting                  0:01:03             0.8802    0.9227\n   36   RobustScaler SVM                               0:00:44             0.8910    0.9227\n   38   StandardScalerWrapper XGBoostClassifier        0:00:51             0.8692    0.9227\n   37   MaxAbsScaler GradientBoosting                  0:01:12             0.8853    0.9227\n   39   StandardScalerWrapper SVM                      0:00:42             0.8227    0.9227\n   40   StandardScalerWrapper SVM                      0:00:44             0.7157    0.9227\n   41                                                  0:00:02                nan    0.9227\n   42                                                  0:00:00                nan    0.9227\n   43                                                  0:00:04                nan    0.9227\n   44    VotingEnsemble                                0:01:29             0.9346    0.9346\n"
        },
        {
          "output_type": "execute_result",
          "execution_count": 11,
          "data": {
            "text/plain": "{'runId': 'AutoML_a5e54ff3-229c-4909-8560-009383a8d63c',\n 'target': 'cpucluster4',\n 'status': 'Completed',\n 'startTimeUtc': '2022-01-24T13:13:14.444031Z',\n 'endTimeUtc': '2022-01-24T13:29:39.839765Z',\n 'services': {},\n 'warnings': [{'source': 'JasmineService',\n   'message': 'No scores improved over last 20 iterations, so experiment stopped early. This early stopping behavior can be disabled by setting enable_early_stopping = False in AutoMLConfig for notebook/python SDK runs.'}],\n 'properties': {'num_iterations': '1000',\n  'training_type': 'TrainFull',\n  'acquisition_function': 'EI',\n  'primary_metric': 'AUC_weighted',\n  'train_split': '0',\n  'acquisition_parameter': '0',\n  'num_cross_validation': None,\n  'target': 'cpucluster4',\n  'AMLSettingsJsonString': '{\"path\":null,\"name\":\"palsy\",\"subscription_id\":\"3e42d11f-d64d-4173-af9b-12ecaa1030b3\",\"resource_group\":\"aml-quickstarts-178231\",\"workspace_name\":\"quick-starts-ws-178231\",\"region\":\"southcentralus\",\"compute_target\":\"cpucluster4\",\"spark_service\":null,\"azure_service\":\"remote\",\"many_models\":false,\"pipeline_fetch_max_batch_size\":1,\"enable_batch_run\":true,\"enable_run_restructure\":false,\"start_auxiliary_runs_before_parent_complete\":false,\"enable_code_generation\":false,\"iterations\":1000,\"primary_metric\":\"AUC_weighted\",\"task_type\":\"classification\",\"positive_label\":null,\"data_script\":null,\"test_size\":0.0,\"test_include_predictions_only\":false,\"validation_size\":0.0,\"n_cross_validations\":null,\"y_min\":null,\"y_max\":null,\"num_classes\":null,\"featurization\":\"auto\",\"_ignore_package_version_incompatibilities\":false,\"is_timeseries\":false,\"max_cores_per_iteration\":1,\"max_concurrent_iterations\":5,\"iteration_timeout_minutes\":null,\"mem_in_mb\":null,\"enforce_time_on_windows\":false,\"experiment_timeout_minutes\":20,\"experiment_exit_score\":null,\"whitelist_models\":null,\"blacklist_algos\":[\"TensorFlowLinearClassifier\",\"TensorFlowDNN\"],\"supported_models\":[\"LogisticRegression\",\"SGD\",\"MultinomialNaiveBayes\",\"XGBoostClassifier\",\"TensorFlowDNN\",\"SVM\",\"AveragedPerceptronClassifier\",\"DecisionTree\",\"RandomForest\",\"ExtremeRandomTrees\",\"BernoulliNaiveBayes\",\"TensorFlowLinearClassifier\",\"KNN\",\"GradientBoosting\",\"LightGBM\",\"LinearSVM\"],\"private_models\":[\"TabnetClassifier\"],\"auto_blacklist\":true,\"blacklist_samples_reached\":false,\"exclude_nan_labels\":true,\"verbosity\":20,\"_debug_log\":\"azureml_automl.log\",\"show_warnings\":false,\"model_explainability\":true,\"service_url\":null,\"sdk_url\":null,\"sdk_packages\":null,\"enable_onnx_compatible_models\":true,\"enable_split_onnx_featurizer_estimator_models\":false,\"vm_type\":\"STANDARD_DS3_V2\",\"telemetry_verbosity\":20,\"send_telemetry\":true,\"enable_dnn\":false,\"scenario\":\"SDK-1.13.0\",\"environment_label\":null,\"save_mlflow\":false,\"enable_categorical_indicators\":false,\"force_text_dnn\":false,\"enable_feature_sweeping\":false,\"enable_early_stopping\":true,\"early_stopping_n_iters\":10,\"arguments\":null,\"dataset_id\":null,\"hyperdrive_config\":null,\"validation_dataset_id\":null,\"run_source\":null,\"metrics\":null,\"enable_metric_confidence\":false,\"enable_ensembling\":true,\"enable_stack_ensembling\":false,\"ensemble_iterations\":15,\"enable_tf\":false,\"enable_subsampling\":null,\"subsample_seed\":null,\"enable_nimbusml\":false,\"enable_streaming\":false,\"force_streaming\":false,\"track_child_runs\":true,\"allowed_private_models\":[],\"label_column_name\":\"diagnosis\",\"weight_column_name\":null,\"cv_split_column_names\":null,\"enable_local_managed\":false,\"_local_managed_run_id\":null,\"cost_mode\":1,\"lag_length\":0,\"metric_operation\":\"maximize\",\"preprocess\":true}',\n  'DataPrepJsonString': '{\\\\\"training_data\\\\\": {\\\\\"datasetId\\\\\": \\\\\"5097cc89-0fce-4840-a7ed-26fdadb2aa90\\\\\"}, \\\\\"datasets\\\\\": 0}',\n  'EnableSubsampling': None,\n  'runTemplate': 'AutoML',\n  'azureml.runsource': 'automl',\n  'display_task_type': 'classification',\n  'dependencies_versions': '{\"azureml-widgets\": \"1.37.0\", \"azureml-train\": \"1.37.0\", \"azureml-train-restclients-hyperdrive\": \"1.37.0\", \"azureml-train-core\": \"1.37.0\", \"azureml-train-automl\": \"1.37.0\", \"azureml-train-automl-runtime\": \"1.37.0\", \"azureml-train-automl-client\": \"1.37.0\", \"azureml-tensorboard\": \"1.37.0\", \"azureml-telemetry\": \"1.37.0\", \"azureml-sdk\": \"1.37.0\", \"azureml-samples\": \"0+unknown\", \"azureml-responsibleai\": \"1.37.0\", \"azureml-pipeline\": \"1.37.0\", \"azureml-pipeline-steps\": \"1.37.0\", \"azureml-pipeline-core\": \"1.37.0\", \"azureml-opendatasets\": \"1.37.0\", \"azureml-mlflow\": \"1.37.0\", \"azureml-interpret\": \"1.37.0\", \"azureml-inference-server-http\": \"0.4.2\", \"azureml-explain-model\": \"1.37.0\", \"azureml-defaults\": \"1.37.0\", \"azureml-dataset-runtime\": \"1.37.0\", \"azureml-dataprep\": \"2.25.0\", \"azureml-dataprep-rslex\": \"2.1.0\", \"azureml-dataprep-native\": \"38.0.0\", \"azureml-datadrift\": \"1.37.0\", \"azureml-core\": \"1.37.0\", \"azureml-contrib-services\": \"1.37.0\", \"azureml-contrib-server\": \"1.37.0\", \"azureml-contrib-reinforcementlearning\": \"1.37.0\", \"azureml-contrib-pipeline-steps\": \"1.37.0\", \"azureml-contrib-notebook\": \"1.37.0\", \"azureml-contrib-fairness\": \"1.37.0\", \"azureml-contrib-dataset\": \"1.37.0\", \"azureml-contrib-automl-pipeline-steps\": \"1.37.0\", \"azureml-cli-common\": \"1.37.0\", \"azureml-automl-runtime\": \"1.37.0\", \"azureml-automl-dnn-nlp\": \"1.37.0\", \"azureml-automl-core\": \"1.37.0\", \"azureml-accel-models\": \"1.37.0\"}',\n  '_aml_system_scenario_identification': 'Remote.Parent',\n  'ClientType': 'SDK',\n  'environment_cpu_name': 'AzureML-AutoML',\n  'environment_cpu_label': 'prod',\n  'environment_gpu_name': 'AzureML-AutoML-GPU',\n  'environment_gpu_label': 'prod',\n  'root_attribution': 'automl',\n  'attribution': 'AutoML',\n  'Orchestrator': 'AutoML',\n  'CancelUri': 'https://southcentralus.api.azureml.ms/jasmine/v1.0/subscriptions/3e42d11f-d64d-4173-af9b-12ecaa1030b3/resourceGroups/aml-quickstarts-178231/providers/Microsoft.MachineLearningServices/workspaces/quick-starts-ws-178231/experimentids/85b6baa0-298c-45bc-8c11-6dfb05edfdb8/cancel/AutoML_a5e54ff3-229c-4909-8560-009383a8d63c',\n  'ClientSdkVersion': '1.37.0',\n  'snapshotId': '00000000-0000-0000-0000-000000000000',\n  'SetupRunId': 'AutoML_a5e54ff3-229c-4909-8560-009383a8d63c_setup',\n  'SetupRunContainerId': 'dcid.AutoML_a5e54ff3-229c-4909-8560-009383a8d63c_setup',\n  'FeaturizationRunJsonPath': 'featurizer_container.json',\n  'FeaturizationRunId': 'AutoML_a5e54ff3-229c-4909-8560-009383a8d63c_featurize',\n  'ProblemInfoJsonString': '{\"dataset_num_categorical\": 0, \"is_sparse\": false, \"subsampling\": false, \"has_extra_col\": true, \"dataset_classes\": 3, \"dataset_features\": 136, \"dataset_samples\": 152, \"single_frequency_class_detected\": false}',\n  'ModelExplainRunId': 'AutoML_a5e54ff3-229c-4909-8560-009383a8d63c_ModelExplain'},\n 'inputDatasets': [{'dataset': {'id': '5097cc89-0fce-4840-a7ed-26fdadb2aa90'}, 'consumptionDetails': {'type': 'RunInput', 'inputName': 'training_data', 'mechanism': 'Direct'}}],\n 'outputDatasets': [],\n 'logFiles': {},\n 'submittedBy': 'ODL_User 178231'}"
          },
          "metadata": {}
        }
      ],
      "execution_count": 11,
      "metadata": {
        "gather": {
          "logged": 1643030992206
        }
      }
    },
    {
      "cell_type": "markdown",
      "source": [
        "## Best Model\n",
        "\n",
        "TODO: In the cell below, get the best model from the automl experiments and display all the properties of the model.\n",
        "\n"
      ],
      "metadata": {}
    },
    {
      "cell_type": "code",
      "source": [
        "# Retrieve and save your best automl model.\n",
        "\n",
        "### YOUR CODE HERE ###\n",
        "remote_run.get_metrics()\n",
        "\n",
        "import onnxmltools\n",
        "best_run, fitted_model = remote_run.get_output(return_onnx_model=True)\n",
        "# Taken from https://docs.microsoft.com/en-us/azure/machine-learning/tutorial-auto-train-models\n",
        "\n",
        "onnxmltools.utils.save_model(fitted_model, './best_automl.onnx')"
      ],
      "outputs": [
        {
          "output_type": "stream",
          "name": "stderr",
          "text": "2022-01-24:13:47:02,933 INFO     [modeling_bert.py:226] Better speed can be achieved with apex installed from https://www.github.com/nvidia/apex .\n2022-01-24:13:47:02,955 INFO     [modeling_xlnet.py:339] Better speed can be achieved with apex installed from https://www.github.com/nvidia/apex .\n"
        },
        {
          "output_type": "error",
          "ename": "FileNotFoundError",
          "evalue": "Directory does not exist /mnt/batch/tasks/shared/LS_root/mounts/clusters/notebook178231/code/Users/odl_user_178231/outputs",
          "traceback": [
            "\u001b[0;31m---------------------------------------------------------------------------\u001b[0m",
            "\u001b[0;31mFileNotFoundError\u001b[0m                         Traceback (most recent call last)",
            "\u001b[0;32m<ipython-input-12-105a4ae75bec>\u001b[0m in \u001b[0;36m<module>\u001b[0;34m\u001b[0m\n\u001b[1;32m      9\u001b[0m \u001b[0;31m# Taken from https://docs.microsoft.com/en-us/azure/machine-learning/tutorial-auto-train-models\u001b[0m\u001b[0;34m\u001b[0m\u001b[0;34m\u001b[0m\u001b[0;34m\u001b[0m\u001b[0m\n\u001b[1;32m     10\u001b[0m \u001b[0;34m\u001b[0m\u001b[0m\n\u001b[0;32m---> 11\u001b[0;31m \u001b[0monnxmltools\u001b[0m\u001b[0;34m.\u001b[0m\u001b[0mutils\u001b[0m\u001b[0;34m.\u001b[0m\u001b[0msave_model\u001b[0m\u001b[0;34m(\u001b[0m\u001b[0mfitted_model\u001b[0m\u001b[0;34m,\u001b[0m \u001b[0;34m'./outputs/best_automl.onnx'\u001b[0m\u001b[0;34m)\u001b[0m\u001b[0;34m\u001b[0m\u001b[0;34m\u001b[0m\u001b[0m\n\u001b[0m",
            "\u001b[0;32m/anaconda/envs/azureml_py36/lib/python3.6/site-packages/onnxmltools/utils/main.py\u001b[0m in \u001b[0;36msave_model\u001b[0;34m(model, file_path)\u001b[0m\n\u001b[1;32m     50\u001b[0m     \u001b[0mdirectory\u001b[0m \u001b[0;34m=\u001b[0m \u001b[0mos\u001b[0m\u001b[0;34m.\u001b[0m\u001b[0mpath\u001b[0m\u001b[0;34m.\u001b[0m\u001b[0mdirname\u001b[0m\u001b[0;34m(\u001b[0m\u001b[0mos\u001b[0m\u001b[0;34m.\u001b[0m\u001b[0mpath\u001b[0m\u001b[0;34m.\u001b[0m\u001b[0mabspath\u001b[0m\u001b[0;34m(\u001b[0m\u001b[0mfile_path\u001b[0m\u001b[0;34m)\u001b[0m\u001b[0;34m)\u001b[0m\u001b[0;34m\u001b[0m\u001b[0;34m\u001b[0m\u001b[0m\n\u001b[1;32m     51\u001b[0m     \u001b[0;32mif\u001b[0m \u001b[0;32mnot\u001b[0m \u001b[0mpath\u001b[0m\u001b[0;34m.\u001b[0m\u001b[0mexists\u001b[0m\u001b[0;34m(\u001b[0m\u001b[0mdirectory\u001b[0m\u001b[0;34m)\u001b[0m\u001b[0;34m:\u001b[0m\u001b[0;34m\u001b[0m\u001b[0;34m\u001b[0m\u001b[0m\n\u001b[0;32m---> 52\u001b[0;31m         \u001b[0;32mraise\u001b[0m \u001b[0mFileNotFoundError\u001b[0m\u001b[0;34m(\u001b[0m\u001b[0;34m\"Directory does not exist {0}\"\u001b[0m\u001b[0;34m.\u001b[0m\u001b[0mformat\u001b[0m\u001b[0;34m(\u001b[0m\u001b[0mdirectory\u001b[0m\u001b[0;34m)\u001b[0m\u001b[0;34m)\u001b[0m\u001b[0;34m\u001b[0m\u001b[0;34m\u001b[0m\u001b[0m\n\u001b[0m\u001b[1;32m     53\u001b[0m     \u001b[0;32mwith\u001b[0m \u001b[0mopen\u001b[0m\u001b[0;34m(\u001b[0m\u001b[0mfile_path\u001b[0m\u001b[0;34m,\u001b[0m \u001b[0;34m'wb'\u001b[0m\u001b[0;34m)\u001b[0m \u001b[0;32mas\u001b[0m \u001b[0mf\u001b[0m\u001b[0;34m:\u001b[0m\u001b[0;34m\u001b[0m\u001b[0;34m\u001b[0m\u001b[0m\n\u001b[1;32m     54\u001b[0m         \u001b[0mf\u001b[0m\u001b[0;34m.\u001b[0m\u001b[0mwrite\u001b[0m\u001b[0;34m(\u001b[0m\u001b[0mmodel\u001b[0m\u001b[0;34m.\u001b[0m\u001b[0mSerializeToString\u001b[0m\u001b[0;34m(\u001b[0m\u001b[0;34m)\u001b[0m\u001b[0;34m)\u001b[0m\u001b[0;34m\u001b[0m\u001b[0;34m\u001b[0m\u001b[0m\n",
            "\u001b[0;31mFileNotFoundError\u001b[0m: Directory does not exist /mnt/batch/tasks/shared/LS_root/mounts/clusters/notebook178231/code/Users/odl_user_178231/outputs"
          ]
        }
      ],
      "execution_count": 12,
      "metadata": {
        "gather": {
          "logged": 1598431425670
        },
        "jupyter": {
          "outputs_hidden": false,
          "source_hidden": false
        },
        "nteract": {
          "transient": {
            "deleting": false
          }
        }
      }
    },
    {
      "cell_type": "code",
      "source": [
        "#TODO: Save the best model"
      ],
      "outputs": [],
      "execution_count": null,
      "metadata": {
        "gather": {
          "logged": 1598431426111
        },
        "jupyter": {
          "outputs_hidden": false,
          "source_hidden": false
        },
        "nteract": {
          "transient": {
            "deleting": false
          }
        }
      }
    },
    {
      "cell_type": "markdown",
      "source": [
        "## Model Deployment\n",
        "\n",
        "Remember you have to deploy only one of the two models you trained but you still need to register both the models. Perform the steps in the rest of this notebook only if you wish to deploy this model.\n",
        "\n",
        "TODO: In the cell below, register the model, create an inference config and deploy the model as a web service."
      ],
      "metadata": {}
    },
    {
      "cell_type": "code",
      "source": [
        "from azureml.core.model import Model\n",
        "\n",
        "model = Model.register(workspace = ws,\n",
        "                        model_name = \"palda_dataset\",\n",
        "                        model_path = \"./best_automl.onnx\",\n",
        "                        description = \"Best AutoML Model\",)"
      ],
      "outputs": [
        {
          "output_type": "stream",
          "name": "stdout",
          "text": "Registering model palda_dataset\n"
        }
      ],
      "execution_count": 14,
      "metadata": {
        "gather": {
          "logged": 1643032253482
        }
      }
    },
    {
      "cell_type": "code",
      "source": [
        "model=remote_run.register_model(model_name = \"palda_dataset\",\r\n",
        "                        description = \"Best AutoML Model\",)\r\n",
        "                        #taken from jwood803 github"
      ],
      "outputs": [],
      "execution_count": 22,
      "metadata": {
        "jupyter": {
          "source_hidden": false,
          "outputs_hidden": false
        },
        "nteract": {
          "transient": {
            "deleting": false
          }
        },
        "gather": {
          "logged": 1643036688442
        }
      }
    },
    {
      "cell_type": "code",
      "source": [
        "#taken from https://docs.microsoft.com/en-us/python/api/azureml-core/azureml.core.model.inferenceconfig?view=azure-ml-py\n",
        "#and from https://stackoverflow.com/questions/66437607/how-to-create-azure-ml-inference-config-and-deployment-config-class-objects-from\n",
        "\n",
        "from azureml.core.environment import Environment\n",
        "from azureml.automl.core.shared import constants\n",
        "best_run.download_file(constants.CONDA_ENV_FILE_PATH, 'myenv.yml')\n",
        "myenv = Environment.from_conda_specification(name=\"myenv\", file_path=\"myenv.yml\") #environment instance creation\n",
        "#we need these otherwise we will get error on non-known environment to run\n",
        "\n",
        "script_file_name = 'inference/score.py'\n",
        "best_run.download_file('outputs/scoring_file_v_1_0_0.py', 'inference/score.py') #this exists before we run the commands in the cells above\n",
        "\n",
        "\n",
        "\n",
        "\n",
        "from azureml.core.model import InferenceConfig\n",
        "from azureml.core.webservice import AciWebservice\n",
        "from azureml.core.webservice import Webservice\n",
        "from azureml.core.model import Model\n",
        "from azureml.core.environment import Environment\n",
        "\n",
        "inference_config = InferenceConfig(entry_script=script_file_name, environment=myenv)\n",
        "\n",
        "aciconfig = AciWebservice.deploy_configuration(cpu_cores = 1, \n",
        "                                               memory_gb = 1, \n",
        "                                               description = 'palsy classification service')\n",
        "\n",
        "aci_service_name = 'palsy-classification2'\n",
        "aci_service = Model.deploy(ws, aci_service_name, [model], inference_config, aciconfig)\n",
        "aci_service.wait_for_deployment(show_output=True)\n",
        "\n",
        "\n",
        "\n",
        "# InferenceConfig(entry_script=)\n"
      ],
      "outputs": [
        {
          "output_type": "stream",
          "name": "stdout",
          "text": "Tips: You can try get_logs(): https://aka.ms/debugimage#dockerlog or local deployment: https://aka.ms/debugimage#debug-locally to debug if deployment takes longer than 10 minutes.\nRunning\n2022-01-24 15:05:44+00:00 Creating Container Registry if not exists.\n2022-01-24 15:05:44+00:00 Registering the environment.\n2022-01-24 15:05:46+00:00 Use the existing image.\n2022-01-24 15:05:46+00:00 Generating deployment configuration.\n2022-01-24 15:05:46+00:00 Submitting deployment to compute.\n2022-01-24 15:05:49+00:00 Checking the status of deployment palsy-classification2..\n2022-01-24 15:10:08+00:00 Checking the status of inference endpoint palsy-classification2.\nSucceeded\nACI service creation operation finished, operation \"Succeeded\"\n"
        }
      ],
      "execution_count": 24,
      "metadata": {
        "gather": {
          "logged": 1643037012353
        }
      }
    },
    {
      "cell_type": "code",
      "source": [
        "# published_pipeline = remote_run.publish_pipeline(\n",
        "#     name=\"palda\", description=\"palsy dataset\", version=\"1.0\")\n",
        "\n",
        "# published_pipeline"
      ],
      "outputs": [],
      "execution_count": null,
      "metadata": {
        "gather": {
          "logged": 1598431435189
        },
        "jupyter": {
          "outputs_hidden": false,
          "source_hidden": false
        },
        "nteract": {
          "transient": {
            "deleting": false
          }
        }
      }
    },
    {
      "cell_type": "code",
      "source": [
        "# from azureml.core.authentication import InteractiveLoginAuthentication\n",
        "\n",
        "# interactive_auth = InteractiveLoginAuthentication()\n",
        "# auth_header = interactive_auth.get_authentication_header()\n",
        "\n"
      ],
      "outputs": [],
      "execution_count": null,
      "metadata": {}
    },
    {
      "cell_type": "code",
      "source": [
        "# import requests\n",
        "\n",
        "# rest_endpoint = published_pipeline.endpoint\n",
        "# response = requests.post(rest_endpoint, \n",
        "#                          headers=auth_header, \n",
        "#                          json={\"ExperimentName\": \"pipeline-rest-endpoint\"}\n",
        "#                         )"
      ],
      "outputs": [],
      "execution_count": null,
      "metadata": {}
    },
    {
      "cell_type": "code",
      "source": [
        "# try:\n",
        "#     response.raise_for_status()\n",
        "# except Exception:    \n",
        "#     raise Exception(\"Received bad response from the endpoint: {}\\n\"\n",
        "#                     \"Response Code: {}\\n\"\n",
        "#                     \"Headers: {}\\n\"\n",
        "#                     \"Content: {}\".format(rest_endpoint, response.status_code, response.headers, response.content))\n",
        "\n",
        "# run_id = response.json().get('Id')\n",
        "# print('Submitted pipeline run: ', run_id)"
      ],
      "outputs": [],
      "execution_count": null,
      "metadata": {}
    },
    {
      "cell_type": "code",
      "source": [],
      "outputs": [],
      "execution_count": null,
      "metadata": {}
    },
    {
      "cell_type": "code",
      "source": [],
      "outputs": [],
      "execution_count": null,
      "metadata": {}
    },
    {
      "cell_type": "markdown",
      "source": [
        "TODO: In the cell below, send a request to the web service you deployed to test it."
      ],
      "metadata": {
        "collapsed": true,
        "gather": {
          "logged": 1598431657736
        },
        "jupyter": {
          "outputs_hidden": false,
          "source_hidden": false
        },
        "nteract": {
          "transient": {
            "deleting": false
          }
        }
      }
    },
    {
      "cell_type": "code",
      "source": [
        "# print(\"Key: \" + aci_service.get_keys()[0]) #[0]\n"
      ],
      "outputs": [
        {
          "output_type": "stream",
          "name": "stderr",
          "text": "2022-01-24:15:27:33,25 ERROR    [_azureml_exception.py:273] Received bad response from Model Management Service:\nResponse Code: 400\nHeaders: {'Date': 'Mon, 24 Jan 2022 15:27:33 GMT', 'Content-Type': 'application/json', 'Transfer-Encoding': 'chunked', 'Connection': 'keep-alive', 'x-ms-client-request-id': '45c5fe1b-a5b4-4371-ac88-00d533f75af6', 'x-ms-client-session-id': 'c9511016-310e-4a3b-a4c8-553d6cd35f66', 'api-supported-versions': '1.0, 2018-03-01-preview, 2018-11-19', 'Strict-Transport-Security': 'max-age=15724800; includeSubDomains; preload', 'X-Content-Type-Options': 'nosniff', 'x-request-time': '0.097'}\nContent: b'{\"code\":\"BadRequest\",\"statusCode\":400,\"message\":\"The request is invalid.\",\"details\":[{\"code\":\"AuthDisabled\",\"message\":\"Authentication is disabled (authEnabled set to false). Enable service authentication to list/regenerate keys. Subscription: 3e42d11f-d64d-4173-af9b-12ecaa1030b3, ResourceGroup: aml-quickstarts-178231, Workspace: quick-starts-ws-178231, ACR: /subscriptions/3e42d11f-d64d-4173-af9b-12ecaa1030b3/resourceGroups/aml-quickstarts-178231/providers/Microsoft.ContainerRegistry/registries/cd8617183a2e44378e809ed0c5877274\"}],\"correlation\":{\"RequestId\":\"45c5fe1b-a5b4-4371-ac88-00d533f75af6\"}}'\n\n"
        },
        {
          "output_type": "error",
          "ename": "WebserviceException",
          "evalue": "WebserviceException:\n\tMessage: Received bad response from Model Management Service:\nResponse Code: 400\nHeaders: {'Date': 'Mon, 24 Jan 2022 15:27:33 GMT', 'Content-Type': 'application/json', 'Transfer-Encoding': 'chunked', 'Connection': 'keep-alive', 'x-ms-client-request-id': '45c5fe1b-a5b4-4371-ac88-00d533f75af6', 'x-ms-client-session-id': 'c9511016-310e-4a3b-a4c8-553d6cd35f66', 'api-supported-versions': '1.0, 2018-03-01-preview, 2018-11-19', 'Strict-Transport-Security': 'max-age=15724800; includeSubDomains; preload', 'X-Content-Type-Options': 'nosniff', 'x-request-time': '0.097'}\nContent: b'{\"code\":\"BadRequest\",\"statusCode\":400,\"message\":\"The request is invalid.\",\"details\":[{\"code\":\"AuthDisabled\",\"message\":\"Authentication is disabled (authEnabled set to false). Enable service authentication to list/regenerate keys. Subscription: 3e42d11f-d64d-4173-af9b-12ecaa1030b3, ResourceGroup: aml-quickstarts-178231, Workspace: quick-starts-ws-178231, ACR: /subscriptions/3e42d11f-d64d-4173-af9b-12ecaa1030b3/resourceGroups/aml-quickstarts-178231/providers/Microsoft.ContainerRegistry/registries/cd8617183a2e44378e809ed0c5877274\"}],\"correlation\":{\"RequestId\":\"45c5fe1b-a5b4-4371-ac88-00d533f75af6\"}}'\n\tInnerException None\n\tErrorResponse \n{\n    \"error\": {\n        \"message\": \"Received bad response from Model Management Service:\\nResponse Code: 400\\nHeaders: {'Date': 'Mon, 24 Jan 2022 15:27:33 GMT', 'Content-Type': 'application/json', 'Transfer-Encoding': 'chunked', 'Connection': 'keep-alive', 'x-ms-client-request-id': '45c5fe1b-a5b4-4371-ac88-00d533f75af6', 'x-ms-client-session-id': 'c9511016-310e-4a3b-a4c8-553d6cd35f66', 'api-supported-versions': '1.0, 2018-03-01-preview, 2018-11-19', 'Strict-Transport-Security': 'max-age=15724800; includeSubDomains; preload', 'X-Content-Type-Options': 'nosniff', 'x-request-time': '0.097'}\\nContent: b'{\\\"code\\\":\\\"BadRequest\\\",\\\"statusCode\\\":400,\\\"message\\\":\\\"The request is invalid.\\\",\\\"details\\\":[{\\\"code\\\":\\\"AuthDisabled\\\",\\\"message\\\":\\\"Authentication is disabled (authEnabled set to false). Enable service authentication to list/regenerate keys. Subscription: 3e42d11f-d64d-4173-af9b-12ecaa1030b3, ResourceGroup: aml-quickstarts-178231, Workspace: quick-starts-ws-178231, ACR: /subscriptions/3e42d11f-d64d-4173-af9b-12ecaa1030b3/resourceGroups/aml-quickstarts-178231/providers/Microsoft.ContainerRegistry/registries/cd8617183a2e44378e809ed0c5877274\\\"}],\\\"correlation\\\":{\\\"RequestId\\\":\\\"45c5fe1b-a5b4-4371-ac88-00d533f75af6\\\"}}'\"\n    }\n}",
          "traceback": [
            "\u001b[0;31m---------------------------------------------------------------------------\u001b[0m",
            "\u001b[0;31mHTTPError\u001b[0m                                 Traceback (most recent call last)",
            "\u001b[0;32m/anaconda/envs/azureml_py36/lib/python3.6/site-packages/azureml/core/webservice/webservice.py\u001b[0m in \u001b[0;36mget_keys\u001b[0;34m(self)\u001b[0m\n\u001b[1;32m   1283\u001b[0m             \u001b[0mresp\u001b[0m \u001b[0;34m=\u001b[0m \u001b[0mClientBase\u001b[0m\u001b[0;34m.\u001b[0m\u001b[0m_execute_func\u001b[0m\u001b[0;34m(\u001b[0m\u001b[0mget_requests_session\u001b[0m\u001b[0;34m(\u001b[0m\u001b[0;34m)\u001b[0m\u001b[0;34m.\u001b[0m\u001b[0mpost\u001b[0m\u001b[0;34m,\u001b[0m \u001b[0mlist_keys_url\u001b[0m\u001b[0;34m,\u001b[0m \u001b[0mparams\u001b[0m\u001b[0;34m=\u001b[0m\u001b[0mparams\u001b[0m\u001b[0;34m,\u001b[0m \u001b[0mheaders\u001b[0m\u001b[0;34m=\u001b[0m\u001b[0mheaders\u001b[0m\u001b[0;34m)\u001b[0m\u001b[0;34m\u001b[0m\u001b[0;34m\u001b[0m\u001b[0m\n\u001b[0;32m-> 1284\u001b[0;31m             \u001b[0mresp\u001b[0m\u001b[0;34m.\u001b[0m\u001b[0mraise_for_status\u001b[0m\u001b[0;34m(\u001b[0m\u001b[0;34m)\u001b[0m\u001b[0;34m\u001b[0m\u001b[0;34m\u001b[0m\u001b[0m\n\u001b[0m\u001b[1;32m   1285\u001b[0m         \u001b[0;32mexcept\u001b[0m \u001b[0mrequests\u001b[0m\u001b[0;34m.\u001b[0m\u001b[0mexceptions\u001b[0m\u001b[0;34m.\u001b[0m\u001b[0mHTTPError\u001b[0m\u001b[0;34m:\u001b[0m\u001b[0;34m\u001b[0m\u001b[0;34m\u001b[0m\u001b[0m\n",
            "\u001b[0;32m/anaconda/envs/azureml_py36/lib/python3.6/site-packages/requests/models.py\u001b[0m in \u001b[0;36mraise_for_status\u001b[0;34m(self)\u001b[0m\n\u001b[1;32m    952\u001b[0m         \u001b[0;32mif\u001b[0m \u001b[0mhttp_error_msg\u001b[0m\u001b[0;34m:\u001b[0m\u001b[0;34m\u001b[0m\u001b[0;34m\u001b[0m\u001b[0m\n\u001b[0;32m--> 953\u001b[0;31m             \u001b[0;32mraise\u001b[0m \u001b[0mHTTPError\u001b[0m\u001b[0;34m(\u001b[0m\u001b[0mhttp_error_msg\u001b[0m\u001b[0;34m,\u001b[0m \u001b[0mresponse\u001b[0m\u001b[0;34m=\u001b[0m\u001b[0mself\u001b[0m\u001b[0;34m)\u001b[0m\u001b[0;34m\u001b[0m\u001b[0;34m\u001b[0m\u001b[0m\n\u001b[0m\u001b[1;32m    954\u001b[0m \u001b[0;34m\u001b[0m\u001b[0m\n",
            "\u001b[0;31mHTTPError\u001b[0m: 400 Client Error: Bad Request for url: https://southcentralus.modelmanagement.azureml.net/modelmanagement/v1.0/subscriptions/3e42d11f-d64d-4173-af9b-12ecaa1030b3/resourceGroups/aml-quickstarts-178231/providers/Microsoft.MachineLearningServices/workspaces/quick-starts-ws-178231/services/palsy-classification2/listkeys",
            "\nDuring handling of the above exception, another exception occurred:\n",
            "\u001b[0;31mWebserviceException\u001b[0m                       Traceback (most recent call last)",
            "\u001b[0;32m<ipython-input-26-80931ab15002>\u001b[0m in \u001b[0;36m<module>\u001b[0;34m\u001b[0m\n\u001b[0;32m----> 1\u001b[0;31m \u001b[0mprint\u001b[0m\u001b[0;34m(\u001b[0m\u001b[0;34m\"Key: \"\u001b[0m \u001b[0;34m+\u001b[0m \u001b[0maci_service\u001b[0m\u001b[0;34m.\u001b[0m\u001b[0mget_keys\u001b[0m\u001b[0;34m(\u001b[0m\u001b[0;34m)\u001b[0m\u001b[0;34m[\u001b[0m\u001b[0;36m0\u001b[0m\u001b[0;34m]\u001b[0m\u001b[0;34m)\u001b[0m \u001b[0;31m#[0]\u001b[0m\u001b[0;34m\u001b[0m\u001b[0;34m\u001b[0m\u001b[0m\n\u001b[0m",
            "\u001b[0;32m/anaconda/envs/azureml_py36/lib/python3.6/site-packages/azureml/core/webservice/webservice.py\u001b[0m in \u001b[0;36mget_keys\u001b[0;34m(self)\u001b[0m\n\u001b[1;32m   1288\u001b[0m                                       \u001b[0;34m'Headers: {}\\n'\u001b[0m\u001b[0;34m\u001b[0m\u001b[0;34m\u001b[0m\u001b[0m\n\u001b[1;32m   1289\u001b[0m                                       \u001b[0;34m'Content: {}'\u001b[0m\u001b[0;34m.\u001b[0m\u001b[0mformat\u001b[0m\u001b[0;34m(\u001b[0m\u001b[0mresp\u001b[0m\u001b[0;34m.\u001b[0m\u001b[0mstatus_code\u001b[0m\u001b[0;34m,\u001b[0m \u001b[0mresp\u001b[0m\u001b[0;34m.\u001b[0m\u001b[0mheaders\u001b[0m\u001b[0;34m,\u001b[0m \u001b[0mresp\u001b[0m\u001b[0;34m.\u001b[0m\u001b[0mcontent\u001b[0m\u001b[0;34m)\u001b[0m\u001b[0;34m,\u001b[0m\u001b[0;34m\u001b[0m\u001b[0;34m\u001b[0m\u001b[0m\n\u001b[0;32m-> 1290\u001b[0;31m                                       logger=module_logger)\n\u001b[0m\u001b[1;32m   1291\u001b[0m \u001b[0;34m\u001b[0m\u001b[0m\n\u001b[1;32m   1292\u001b[0m         \u001b[0mcontent\u001b[0m \u001b[0;34m=\u001b[0m \u001b[0mresp\u001b[0m\u001b[0;34m.\u001b[0m\u001b[0mcontent\u001b[0m\u001b[0;34m\u001b[0m\u001b[0;34m\u001b[0m\u001b[0m\n",
            "\u001b[0;31mWebserviceException\u001b[0m: WebserviceException:\n\tMessage: Received bad response from Model Management Service:\nResponse Code: 400\nHeaders: {'Date': 'Mon, 24 Jan 2022 15:27:33 GMT', 'Content-Type': 'application/json', 'Transfer-Encoding': 'chunked', 'Connection': 'keep-alive', 'x-ms-client-request-id': '45c5fe1b-a5b4-4371-ac88-00d533f75af6', 'x-ms-client-session-id': 'c9511016-310e-4a3b-a4c8-553d6cd35f66', 'api-supported-versions': '1.0, 2018-03-01-preview, 2018-11-19', 'Strict-Transport-Security': 'max-age=15724800; includeSubDomains; preload', 'X-Content-Type-Options': 'nosniff', 'x-request-time': '0.097'}\nContent: b'{\"code\":\"BadRequest\",\"statusCode\":400,\"message\":\"The request is invalid.\",\"details\":[{\"code\":\"AuthDisabled\",\"message\":\"Authentication is disabled (authEnabled set to false). Enable service authentication to list/regenerate keys. Subscription: 3e42d11f-d64d-4173-af9b-12ecaa1030b3, ResourceGroup: aml-quickstarts-178231, Workspace: quick-starts-ws-178231, ACR: /subscriptions/3e42d11f-d64d-4173-af9b-12ecaa1030b3/resourceGroups/aml-quickstarts-178231/providers/Microsoft.ContainerRegistry/registries/cd8617183a2e44378e809ed0c5877274\"}],\"correlation\":{\"RequestId\":\"45c5fe1b-a5b4-4371-ac88-00d533f75af6\"}}'\n\tInnerException None\n\tErrorResponse \n{\n    \"error\": {\n        \"message\": \"Received bad response from Model Management Service:\\nResponse Code: 400\\nHeaders: {'Date': 'Mon, 24 Jan 2022 15:27:33 GMT', 'Content-Type': 'application/json', 'Transfer-Encoding': 'chunked', 'Connection': 'keep-alive', 'x-ms-client-request-id': '45c5fe1b-a5b4-4371-ac88-00d533f75af6', 'x-ms-client-session-id': 'c9511016-310e-4a3b-a4c8-553d6cd35f66', 'api-supported-versions': '1.0, 2018-03-01-preview, 2018-11-19', 'Strict-Transport-Security': 'max-age=15724800; includeSubDomains; preload', 'X-Content-Type-Options': 'nosniff', 'x-request-time': '0.097'}\\nContent: b'{\\\"code\\\":\\\"BadRequest\\\",\\\"statusCode\\\":400,\\\"message\\\":\\\"The request is invalid.\\\",\\\"details\\\":[{\\\"code\\\":\\\"AuthDisabled\\\",\\\"message\\\":\\\"Authentication is disabled (authEnabled set to false). Enable service authentication to list/regenerate keys. Subscription: 3e42d11f-d64d-4173-af9b-12ecaa1030b3, ResourceGroup: aml-quickstarts-178231, Workspace: quick-starts-ws-178231, ACR: /subscriptions/3e42d11f-d64d-4173-af9b-12ecaa1030b3/resourceGroups/aml-quickstarts-178231/providers/Microsoft.ContainerRegistry/registries/cd8617183a2e44378e809ed0c5877274\\\"}],\\\"correlation\\\":{\\\"RequestId\\\":\\\"45c5fe1b-a5b4-4371-ac88-00d533f75af6\\\"}}'\"\n    }\n}"
          ]
        }
      ],
      "execution_count": 26,
      "metadata": {}
    },
    {
      "cell_type": "code",
      "source": [
        "x_test.iloc[16].to_dict() #0,2,16 - helathy peripheral central"
      ],
      "outputs": [
        {
          "output_type": "execute_result",
          "execution_count": 40,
          "data": {
            "text/plain": "{'x_1': 124,\n 'y_1': 348,\n 'x_2': 134,\n 'y_2': 415,\n 'x_3': 154,\n 'y_3': 494,\n 'x_4': 179,\n 'y_4': 568,\n 'x_5': 219,\n 'y_5': 617,\n 'x_6': 263,\n 'y_6': 663,\n 'x_7': 323,\n 'y_7': 696,\n 'x_8': 385,\n 'y_8': 711,\n 'x_9': 466,\n 'y_9': 713,\n 'x_10': 550,\n 'y_10': 710,\n 'x_11': 609,\n 'y_11': 681,\n 'x_12': 674,\n 'y_12': 631,\n 'x_13': 724,\n 'y_13': 584,\n 'x_14': 756,\n 'y_14': 538,\n 'x_15': 778,\n 'y_15': 489,\n 'x_16': 789,\n 'y_16': 426,\n 'x_17': 786,\n 'y_17': 356,\n 'x_18': 172,\n 'y_18': 257,\n 'x_19': 221,\n 'y_19': 224,\n 'x_20': 284,\n 'y_20': 220,\n 'x_21': 341,\n 'y_21': 230,\n 'x_22': 392,\n 'y_22': 265,\n 'x_23': 533,\n 'y_23': 246,\n 'x_24': 593,\n 'y_24': 217,\n 'x_25': 634,\n 'y_25': 218,\n 'x_26': 685,\n 'y_26': 224,\n 'x_27': 729,\n 'y_27': 245,\n 'x_28': 453,\n 'y_28': 283,\n 'x_29': 455,\n 'y_29': 336,\n 'x_30': 459,\n 'y_30': 387,\n 'x_31': 463,\n 'y_31': 454,\n 'x_32': 367,\n 'y_32': 457,\n 'x_33': 413,\n 'y_33': 466,\n 'x_34': 470,\n 'y_34': 485,\n 'x_35': 522,\n 'y_35': 466,\n 'x_36': 568,\n 'y_36': 444,\n 'x_37': 228,\n 'y_37': 313,\n 'x_38': 271,\n 'y_38': 291,\n 'x_39': 323,\n 'y_39': 288,\n 'x_40': 361,\n 'y_40': 308,\n 'x_41': 315,\n 'y_41': 327,\n 'x_42': 265,\n 'y_42': 322,\n 'x_43': 550,\n 'y_43': 304,\n 'x_44': 605,\n 'y_44': 277,\n 'x_45': 663,\n 'y_45': 280,\n 'x_46': 703,\n 'y_46': 297,\n 'x_47': 655,\n 'y_47': 312,\n 'x_48': 594,\n 'y_48': 312,\n 'x_49': 326,\n 'y_49': 547,\n 'x_50': 377,\n 'y_50': 529,\n 'x_51': 425,\n 'y_51': 525,\n 'x_52': 478,\n 'y_52': 524,\n 'x_53': 535,\n 'y_53': 517,\n 'x_54': 585,\n 'y_54': 512,\n 'x_55': 644,\n 'y_55': 518,\n 'x_56': 609,\n 'y_56': 551,\n 'x_57': 557,\n 'y_57': 579,\n 'x_58': 483,\n 'y_58': 594,\n 'x_59': 424,\n 'y_59': 596,\n 'x_60': 377,\n 'y_60': 588,\n 'x_61': 342,\n 'y_61': 551,\n 'x_62': 427,\n 'y_62': 542,\n 'x_63': 484,\n 'y_63': 540,\n 'x_64': 558,\n 'y_64': 527,\n 'x_65': 624,\n 'y_65': 527,\n 'x_66': 545,\n 'y_66': 566,\n 'x_67': 478,\n 'y_67': 577,\n 'x_68': 400,\n 'y_68': 578,\n 'diagnosis': 'central'}"
          },
          "metadata": {}
        }
      ],
      "execution_count": 40,
      "metadata": {
        "gather": {
          "logged": 1643038710688
        }
      }
    },
    {
      "cell_type": "code",
      "source": [
        "# aci_service.get_keys()"
      ],
      "outputs": [
        {
          "output_type": "stream",
          "name": "stderr",
          "text": "2022-01-24:15:41:58,388 ERROR    [_azureml_exception.py:273] Received bad response from Model Management Service:\nResponse Code: 400\nHeaders: {'Date': 'Mon, 24 Jan 2022 15:41:58 GMT', 'Content-Type': 'application/json', 'Transfer-Encoding': 'chunked', 'Connection': 'keep-alive', 'x-ms-client-request-id': 'ae46255b-9452-44be-a32a-60db5ab86a67', 'x-ms-client-session-id': 'c9511016-310e-4a3b-a4c8-553d6cd35f66', 'api-supported-versions': '1.0, 2018-03-01-preview, 2018-11-19', 'Strict-Transport-Security': 'max-age=15724800; includeSubDomains; preload', 'X-Content-Type-Options': 'nosniff', 'x-request-time': '0.138'}\nContent: b'{\"code\":\"BadRequest\",\"statusCode\":400,\"message\":\"The request is invalid.\",\"details\":[{\"code\":\"AuthDisabled\",\"message\":\"Authentication is disabled (authEnabled set to false). Enable service authentication to list/regenerate keys. Subscription: 3e42d11f-d64d-4173-af9b-12ecaa1030b3, ResourceGroup: aml-quickstarts-178231, Workspace: quick-starts-ws-178231, ACR: /subscriptions/3e42d11f-d64d-4173-af9b-12ecaa1030b3/resourceGroups/aml-quickstarts-178231/providers/Microsoft.ContainerRegistry/registries/cd8617183a2e44378e809ed0c5877274\"}],\"correlation\":{\"RequestId\":\"ae46255b-9452-44be-a32a-60db5ab86a67\"}}'\n\n"
        },
        {
          "output_type": "error",
          "ename": "WebserviceException",
          "evalue": "WebserviceException:\n\tMessage: Received bad response from Model Management Service:\nResponse Code: 400\nHeaders: {'Date': 'Mon, 24 Jan 2022 15:41:58 GMT', 'Content-Type': 'application/json', 'Transfer-Encoding': 'chunked', 'Connection': 'keep-alive', 'x-ms-client-request-id': 'ae46255b-9452-44be-a32a-60db5ab86a67', 'x-ms-client-session-id': 'c9511016-310e-4a3b-a4c8-553d6cd35f66', 'api-supported-versions': '1.0, 2018-03-01-preview, 2018-11-19', 'Strict-Transport-Security': 'max-age=15724800; includeSubDomains; preload', 'X-Content-Type-Options': 'nosniff', 'x-request-time': '0.138'}\nContent: b'{\"code\":\"BadRequest\",\"statusCode\":400,\"message\":\"The request is invalid.\",\"details\":[{\"code\":\"AuthDisabled\",\"message\":\"Authentication is disabled (authEnabled set to false). Enable service authentication to list/regenerate keys. Subscription: 3e42d11f-d64d-4173-af9b-12ecaa1030b3, ResourceGroup: aml-quickstarts-178231, Workspace: quick-starts-ws-178231, ACR: /subscriptions/3e42d11f-d64d-4173-af9b-12ecaa1030b3/resourceGroups/aml-quickstarts-178231/providers/Microsoft.ContainerRegistry/registries/cd8617183a2e44378e809ed0c5877274\"}],\"correlation\":{\"RequestId\":\"ae46255b-9452-44be-a32a-60db5ab86a67\"}}'\n\tInnerException None\n\tErrorResponse \n{\n    \"error\": {\n        \"message\": \"Received bad response from Model Management Service:\\nResponse Code: 400\\nHeaders: {'Date': 'Mon, 24 Jan 2022 15:41:58 GMT', 'Content-Type': 'application/json', 'Transfer-Encoding': 'chunked', 'Connection': 'keep-alive', 'x-ms-client-request-id': 'ae46255b-9452-44be-a32a-60db5ab86a67', 'x-ms-client-session-id': 'c9511016-310e-4a3b-a4c8-553d6cd35f66', 'api-supported-versions': '1.0, 2018-03-01-preview, 2018-11-19', 'Strict-Transport-Security': 'max-age=15724800; includeSubDomains; preload', 'X-Content-Type-Options': 'nosniff', 'x-request-time': '0.138'}\\nContent: b'{\\\"code\\\":\\\"BadRequest\\\",\\\"statusCode\\\":400,\\\"message\\\":\\\"The request is invalid.\\\",\\\"details\\\":[{\\\"code\\\":\\\"AuthDisabled\\\",\\\"message\\\":\\\"Authentication is disabled (authEnabled set to false). Enable service authentication to list/regenerate keys. Subscription: 3e42d11f-d64d-4173-af9b-12ecaa1030b3, ResourceGroup: aml-quickstarts-178231, Workspace: quick-starts-ws-178231, ACR: /subscriptions/3e42d11f-d64d-4173-af9b-12ecaa1030b3/resourceGroups/aml-quickstarts-178231/providers/Microsoft.ContainerRegistry/registries/cd8617183a2e44378e809ed0c5877274\\\"}],\\\"correlation\\\":{\\\"RequestId\\\":\\\"ae46255b-9452-44be-a32a-60db5ab86a67\\\"}}'\"\n    }\n}",
          "traceback": [
            "\u001b[0;31m---------------------------------------------------------------------------\u001b[0m",
            "\u001b[0;31mHTTPError\u001b[0m                                 Traceback (most recent call last)",
            "\u001b[0;32m/anaconda/envs/azureml_py36/lib/python3.6/site-packages/azureml/core/webservice/webservice.py\u001b[0m in \u001b[0;36mget_keys\u001b[0;34m(self)\u001b[0m\n\u001b[1;32m   1283\u001b[0m             \u001b[0mresp\u001b[0m \u001b[0;34m=\u001b[0m \u001b[0mClientBase\u001b[0m\u001b[0;34m.\u001b[0m\u001b[0m_execute_func\u001b[0m\u001b[0;34m(\u001b[0m\u001b[0mget_requests_session\u001b[0m\u001b[0;34m(\u001b[0m\u001b[0;34m)\u001b[0m\u001b[0;34m.\u001b[0m\u001b[0mpost\u001b[0m\u001b[0;34m,\u001b[0m \u001b[0mlist_keys_url\u001b[0m\u001b[0;34m,\u001b[0m \u001b[0mparams\u001b[0m\u001b[0;34m=\u001b[0m\u001b[0mparams\u001b[0m\u001b[0;34m,\u001b[0m \u001b[0mheaders\u001b[0m\u001b[0;34m=\u001b[0m\u001b[0mheaders\u001b[0m\u001b[0;34m)\u001b[0m\u001b[0;34m\u001b[0m\u001b[0;34m\u001b[0m\u001b[0m\n\u001b[0;32m-> 1284\u001b[0;31m             \u001b[0mresp\u001b[0m\u001b[0;34m.\u001b[0m\u001b[0mraise_for_status\u001b[0m\u001b[0;34m(\u001b[0m\u001b[0;34m)\u001b[0m\u001b[0;34m\u001b[0m\u001b[0;34m\u001b[0m\u001b[0m\n\u001b[0m\u001b[1;32m   1285\u001b[0m         \u001b[0;32mexcept\u001b[0m \u001b[0mrequests\u001b[0m\u001b[0;34m.\u001b[0m\u001b[0mexceptions\u001b[0m\u001b[0;34m.\u001b[0m\u001b[0mHTTPError\u001b[0m\u001b[0;34m:\u001b[0m\u001b[0;34m\u001b[0m\u001b[0;34m\u001b[0m\u001b[0m\n",
            "\u001b[0;32m/anaconda/envs/azureml_py36/lib/python3.6/site-packages/requests/models.py\u001b[0m in \u001b[0;36mraise_for_status\u001b[0;34m(self)\u001b[0m\n\u001b[1;32m    952\u001b[0m         \u001b[0;32mif\u001b[0m \u001b[0mhttp_error_msg\u001b[0m\u001b[0;34m:\u001b[0m\u001b[0;34m\u001b[0m\u001b[0;34m\u001b[0m\u001b[0m\n\u001b[0;32m--> 953\u001b[0;31m             \u001b[0;32mraise\u001b[0m \u001b[0mHTTPError\u001b[0m\u001b[0;34m(\u001b[0m\u001b[0mhttp_error_msg\u001b[0m\u001b[0;34m,\u001b[0m \u001b[0mresponse\u001b[0m\u001b[0;34m=\u001b[0m\u001b[0mself\u001b[0m\u001b[0;34m)\u001b[0m\u001b[0;34m\u001b[0m\u001b[0;34m\u001b[0m\u001b[0m\n\u001b[0m\u001b[1;32m    954\u001b[0m \u001b[0;34m\u001b[0m\u001b[0m\n",
            "\u001b[0;31mHTTPError\u001b[0m: 400 Client Error: Bad Request for url: https://southcentralus.modelmanagement.azureml.net/modelmanagement/v1.0/subscriptions/3e42d11f-d64d-4173-af9b-12ecaa1030b3/resourceGroups/aml-quickstarts-178231/providers/Microsoft.MachineLearningServices/workspaces/quick-starts-ws-178231/services/palsy-classification2/listkeys",
            "\nDuring handling of the above exception, another exception occurred:\n",
            "\u001b[0;31mWebserviceException\u001b[0m                       Traceback (most recent call last)",
            "\u001b[0;32m<ipython-input-44-c2c40cadf8b1>\u001b[0m in \u001b[0;36m<module>\u001b[0;34m\u001b[0m\n\u001b[0;32m----> 1\u001b[0;31m \u001b[0maci_service\u001b[0m\u001b[0;34m.\u001b[0m\u001b[0mget_keys\u001b[0m\u001b[0;34m(\u001b[0m\u001b[0;34m)\u001b[0m\u001b[0;34m\u001b[0m\u001b[0;34m\u001b[0m\u001b[0m\n\u001b[0m",
            "\u001b[0;32m/anaconda/envs/azureml_py36/lib/python3.6/site-packages/azureml/core/webservice/webservice.py\u001b[0m in \u001b[0;36mget_keys\u001b[0;34m(self)\u001b[0m\n\u001b[1;32m   1288\u001b[0m                                       \u001b[0;34m'Headers: {}\\n'\u001b[0m\u001b[0;34m\u001b[0m\u001b[0;34m\u001b[0m\u001b[0m\n\u001b[1;32m   1289\u001b[0m                                       \u001b[0;34m'Content: {}'\u001b[0m\u001b[0;34m.\u001b[0m\u001b[0mformat\u001b[0m\u001b[0;34m(\u001b[0m\u001b[0mresp\u001b[0m\u001b[0;34m.\u001b[0m\u001b[0mstatus_code\u001b[0m\u001b[0;34m,\u001b[0m \u001b[0mresp\u001b[0m\u001b[0;34m.\u001b[0m\u001b[0mheaders\u001b[0m\u001b[0;34m,\u001b[0m \u001b[0mresp\u001b[0m\u001b[0;34m.\u001b[0m\u001b[0mcontent\u001b[0m\u001b[0;34m)\u001b[0m\u001b[0;34m,\u001b[0m\u001b[0;34m\u001b[0m\u001b[0;34m\u001b[0m\u001b[0m\n\u001b[0;32m-> 1290\u001b[0;31m                                       logger=module_logger)\n\u001b[0m\u001b[1;32m   1291\u001b[0m \u001b[0;34m\u001b[0m\u001b[0m\n\u001b[1;32m   1292\u001b[0m         \u001b[0mcontent\u001b[0m \u001b[0;34m=\u001b[0m \u001b[0mresp\u001b[0m\u001b[0;34m.\u001b[0m\u001b[0mcontent\u001b[0m\u001b[0;34m\u001b[0m\u001b[0;34m\u001b[0m\u001b[0m\n",
            "\u001b[0;31mWebserviceException\u001b[0m: WebserviceException:\n\tMessage: Received bad response from Model Management Service:\nResponse Code: 400\nHeaders: {'Date': 'Mon, 24 Jan 2022 15:41:58 GMT', 'Content-Type': 'application/json', 'Transfer-Encoding': 'chunked', 'Connection': 'keep-alive', 'x-ms-client-request-id': 'ae46255b-9452-44be-a32a-60db5ab86a67', 'x-ms-client-session-id': 'c9511016-310e-4a3b-a4c8-553d6cd35f66', 'api-supported-versions': '1.0, 2018-03-01-preview, 2018-11-19', 'Strict-Transport-Security': 'max-age=15724800; includeSubDomains; preload', 'X-Content-Type-Options': 'nosniff', 'x-request-time': '0.138'}\nContent: b'{\"code\":\"BadRequest\",\"statusCode\":400,\"message\":\"The request is invalid.\",\"details\":[{\"code\":\"AuthDisabled\",\"message\":\"Authentication is disabled (authEnabled set to false). Enable service authentication to list/regenerate keys. Subscription: 3e42d11f-d64d-4173-af9b-12ecaa1030b3, ResourceGroup: aml-quickstarts-178231, Workspace: quick-starts-ws-178231, ACR: /subscriptions/3e42d11f-d64d-4173-af9b-12ecaa1030b3/resourceGroups/aml-quickstarts-178231/providers/Microsoft.ContainerRegistry/registries/cd8617183a2e44378e809ed0c5877274\"}],\"correlation\":{\"RequestId\":\"ae46255b-9452-44be-a32a-60db5ab86a67\"}}'\n\tInnerException None\n\tErrorResponse \n{\n    \"error\": {\n        \"message\": \"Received bad response from Model Management Service:\\nResponse Code: 400\\nHeaders: {'Date': 'Mon, 24 Jan 2022 15:41:58 GMT', 'Content-Type': 'application/json', 'Transfer-Encoding': 'chunked', 'Connection': 'keep-alive', 'x-ms-client-request-id': 'ae46255b-9452-44be-a32a-60db5ab86a67', 'x-ms-client-session-id': 'c9511016-310e-4a3b-a4c8-553d6cd35f66', 'api-supported-versions': '1.0, 2018-03-01-preview, 2018-11-19', 'Strict-Transport-Security': 'max-age=15724800; includeSubDomains; preload', 'X-Content-Type-Options': 'nosniff', 'x-request-time': '0.138'}\\nContent: b'{\\\"code\\\":\\\"BadRequest\\\",\\\"statusCode\\\":400,\\\"message\\\":\\\"The request is invalid.\\\",\\\"details\\\":[{\\\"code\\\":\\\"AuthDisabled\\\",\\\"message\\\":\\\"Authentication is disabled (authEnabled set to false). Enable service authentication to list/regenerate keys. Subscription: 3e42d11f-d64d-4173-af9b-12ecaa1030b3, ResourceGroup: aml-quickstarts-178231, Workspace: quick-starts-ws-178231, ACR: /subscriptions/3e42d11f-d64d-4173-af9b-12ecaa1030b3/resourceGroups/aml-quickstarts-178231/providers/Microsoft.ContainerRegistry/registries/cd8617183a2e44378e809ed0c5877274\\\"}],\\\"correlation\\\":{\\\"RequestId\\\":\\\"ae46255b-9452-44be-a32a-60db5ab86a67\\\"}}'\"\n    }\n}"
          ]
        }
      ],
      "execution_count": 44,
      "metadata": {
        "jupyter": {
          "source_hidden": false,
          "outputs_hidden": false
        },
        "nteract": {
          "transient": {
            "deleting": false
          }
        },
        "gather": {
          "logged": 1643038893915
        }
      }
    },
    {
      "cell_type": "code",
      "source": [
        "#endpoint.py file\n",
        "import requests\n",
        "import json\n",
        "\n",
        "# URL for the web service, should be similar to:\n",
        "# 'http://8530a665-66f3-49c8-a953-b82a2d312917.eastus.azurecontainer.io/score'\n",
        "# scoring_uri = 'http://7bbc8877-700c-4035-8097-c35c896039a2.southcentralus.azurecontainer.io/score'\n",
        "scoring_uri=aci_service.scoring_uri\n",
        "# If the service is authenticated, set the key or token\n",
        "# key = 'Y9bgMCp5O0geM74pEThdQVLiaRMHBjrB'\n",
        "# key=aci_service.get_keys()[0]\n",
        "\n",
        "# Two sets of data to score, so we get two results back\n",
        "data = {\"data\":\n",
        "        [\n",
        "          {'x_1': 38,\n",
        "            'y_1': 88,\n",
        "            'x_2': 42,\n",
        "            'y_2': 125,\n",
        "            'x_3': 50,\n",
        "            'y_3': 161,\n",
        "            'x_4': 57,\n",
        "            'y_4': 195,\n",
        "            'x_5': 69,\n",
        "            'y_5': 228,\n",
        "            'x_6': 89,\n",
        "            'y_6': 259,\n",
        "            'x_7': 113,\n",
        "            'y_7': 285,\n",
        "            'x_8': 144,\n",
        "            'y_8': 306,\n",
        "            'x_9': 177,\n",
        "            'y_9': 311,\n",
        "            'x_10': 209,\n",
        "            'y_10': 303,\n",
        "            'x_11': 238,\n",
        "            'y_11': 281,\n",
        "            'x_12': 262,\n",
        "            'y_12': 253,\n",
        "            'x_13': 281,\n",
        "            'y_13': 222,\n",
        "            'x_14': 292,\n",
        "            'y_14': 188,\n",
        "            'x_15': 297,\n",
        "            'y_15': 152,\n",
        "            'x_16': 301,\n",
        "            'y_16': 117,\n",
        "            'x_17': 301,\n",
        "            'y_17': 81,\n",
        "            'x_18': 55,\n",
        "            'y_18': 60,\n",
        "            'x_19': 69,\n",
        "            'y_19': 42,\n",
        "            'x_20': 93,\n",
        "            'y_20': 32,\n",
        "            'x_21': 117,\n",
        "            'y_21': 35,\n",
        "            'x_22': 139,\n",
        "            'y_22': 46,\n",
        "            'x_23': 197,\n",
        "            'y_23': 43,\n",
        "            'x_24': 218,\n",
        "            'y_24': 31,\n",
        "            'x_25': 241,\n",
        "            'y_25': 26,\n",
        "            'x_26': 266,\n",
        "            'y_26': 30,\n",
        "            'x_27': 283,\n",
        "            'y_27': 46,\n",
        "            'x_28': 169,\n",
        "            'y_28': 78,\n",
        "            'x_29': 171,\n",
        "            'y_29': 100,\n",
        "            'x_30': 172,\n",
        "            'y_30': 123,\n",
        "            'x_31': 173,\n",
        "            'y_31': 146,\n",
        "            'x_32': 147,\n",
        "            'y_32': 164,\n",
        "            'x_33': 160,\n",
        "            'y_33': 168,\n",
        "            'x_34': 173,\n",
        "            'y_34': 172,\n",
        "            'x_35': 187,\n",
        "            'y_35': 167,\n",
        "            'x_36': 199,\n",
        "            'y_36': 163,\n",
        "            'x_37': 81,\n",
        "            'y_37': 89,\n",
        "            'x_38': 96,\n",
        "            'y_38': 81,\n",
        "            'x_39': 114,\n",
        "            'y_39': 82,\n",
        "            'x_40': 131,\n",
        "            'y_40': 92,\n",
        "            'x_41': 113,\n",
        "            'y_41': 93,\n",
        "            'x_42': 96,\n",
        "            'y_42': 93,\n",
        "            'x_43': 207,\n",
        "            'y_43': 89,\n",
        "            'x_44': 224,\n",
        "            'y_44': 76,\n",
        "            'x_45': 241,\n",
        "            'y_45': 73,\n",
        "            'x_46': 258,\n",
        "            'y_46': 81,\n",
        "            'x_47': 244,\n",
        "            'y_47': 86,\n",
        "            'x_48': 226,\n",
        "            'y_48': 88,\n",
        "            'x_49': 105,\n",
        "            'y_49': 201,\n",
        "            'x_50': 128,\n",
        "            'y_50': 190,\n",
        "            'x_51': 154,\n",
        "            'y_51': 186,\n",
        "            'x_52': 173,\n",
        "            'y_52': 188,\n",
        "            'x_53': 192,\n",
        "            'y_53': 185,\n",
        "            'x_54': 216,\n",
        "            'y_54': 187,\n",
        "            'x_55': 239,\n",
        "            'y_55': 197,\n",
        "            'x_56': 220,\n",
        "            'y_56': 237,\n",
        "            'x_57': 195,\n",
        "            'y_57': 254,\n",
        "            'x_58': 173,\n",
        "            'y_58': 257,\n",
        "            'x_59': 152,\n",
        "            'y_59': 256,\n",
        "            'x_60': 126,\n",
        "            'y_60': 240,\n",
        "            'x_61': 114,\n",
        "            'y_61': 204,\n",
        "            'x_62': 154,\n",
        "            'y_62': 197,\n",
        "            'x_63': 173,\n",
        "            'y_63': 198,\n",
        "            'x_64': 192,\n",
        "            'y_64': 196,\n",
        "            'x_65': 231,\n",
        "            'y_65': 200,\n",
        "            'x_66': 193,\n",
        "            'y_66': 235,\n",
        "            'x_67': 173,\n",
        "            'y_67': 238,\n",
        "            'x_68': 153,\n",
        "            'y_68': 237     \n",
        "          },\n",
        "          {\n",
        "            'x_1': 209,\n",
        "            'y_1': 238,\n",
        "            'x_2': 208,\n",
        "            'y_2': 300,\n",
        "            'x_3': 208,\n",
        "            'y_3': 354,\n",
        "            'x_4': 211,\n",
        "            'y_4': 403,\n",
        "            'x_5': 218,\n",
        "            'y_5': 463,\n",
        "            'x_6': 236,\n",
        "            'y_6': 558,\n",
        "            'x_7': 286,\n",
        "            'y_7': 623,\n",
        "            'x_8': 348,\n",
        "            'y_8': 667,\n",
        "            'x_9': 429,\n",
        "            'y_9': 689,\n",
        "            'x_10': 502,\n",
        "            'y_10': 691,\n",
        "            'x_11': 574,\n",
        "            'y_11': 662,\n",
        "            'x_12': 626,\n",
        "            'y_12': 599,\n",
        "            'x_13': 672,\n",
        "            'y_13': 556,\n",
        "            'x_14': 696,\n",
        "            'y_14': 513,\n",
        "            'x_15': 696,\n",
        "            'y_15': 463,\n",
        "            'x_16': 709,\n",
        "            'y_16': 405,\n",
        "            'x_17': 728,\n",
        "            'y_17': 311,\n",
        "            'x_18': 258,\n",
        "            'y_18': 138,\n",
        "            'x_19': 300,\n",
        "            'y_19': 101,\n",
        "            'x_20': 342,\n",
        "            'y_20': 90,\n",
        "            'x_21': 387,\n",
        "            'y_21': 90,\n",
        "            'x_22': 424,\n",
        "            'y_22': 112,\n",
        "            'x_23': 521,\n",
        "            'y_23': 114,\n",
        "            'x_24': 569,\n",
        "            'y_24': 93,\n",
        "            'x_25': 614,\n",
        "            'y_25': 91,\n",
        "            'x_26': 668,\n",
        "            'y_26': 104,\n",
        "            'x_27': 702,\n",
        "            'y_27': 144,\n",
        "            'x_28': 476,\n",
        "            'y_28': 159,\n",
        "            'x_29': 476,\n",
        "            'y_29': 215,\n",
        "            'x_30': 473,\n",
        "            'y_30': 269,\n",
        "            'x_31': 459,\n",
        "            'y_31': 342,\n",
        "            'x_32': 389,\n",
        "            'y_32': 373,\n",
        "            'x_33': 415,\n",
        "            'y_33': 386,\n",
        "            'x_34': 450,\n",
        "            'y_34': 392,\n",
        "            'x_35': 493,\n",
        "            'y_35': 392,\n",
        "            'x_36': 527,\n",
        "            'y_36': 390,\n",
        "            'x_37': 291,\n",
        "            'y_37': 197,\n",
        "            'x_38': 324,\n",
        "            'y_38': 176,\n",
        "            'x_39': 379,\n",
        "            'y_39': 171,\n",
        "            'x_40': 411,\n",
        "            'y_40': 196,\n",
        "            'x_41': 364,\n",
        "            'y_41': 211,\n",
        "            'x_42': 321,\n",
        "            'y_42': 210,\n",
        "            'x_43': 543,\n",
        "            'y_43': 212,\n",
        "            'x_44': 577,\n",
        "            'y_44': 181,\n",
        "            'x_45': 635,\n",
        "            'y_45': 193,\n",
        "            'x_46': 661,\n",
        "            'y_46': 221,\n",
        "            'x_47': 616,\n",
        "            'y_47': 233,\n",
        "            'x_48': 568,\n",
        "            'y_48': 228,\n",
        "            'x_49': 341,\n",
        "            'y_49': 471,\n",
        "            'x_50': 364,\n",
        "            'y_50': 451,\n",
        "            'x_51': 403,\n",
        "            'y_51': 445,\n",
        "            'x_52': 440,\n",
        "            'y_52': 453,\n",
        "            'x_53': 471,\n",
        "            'y_53': 469,\n",
        "            'x_54': 506,\n",
        "            'y_54': 489,\n",
        "            'x_55': 535,\n",
        "            'y_55': 523,\n",
        "            'x_56': 506,\n",
        "            'y_56': 544,\n",
        "            'x_57': 467,\n",
        "            'y_57': 541,\n",
        "            'x_58': 428,\n",
        "            'y_58': 529,\n",
        "            'x_59': 400,\n",
        "            'y_59': 516,\n",
        "            'x_60': 366,\n",
        "            'y_60': 498,\n",
        "            'x_61': 356,\n",
        "            'y_61': 473,\n",
        "            'x_62': 395,\n",
        "            'y_62': 475,\n",
        "            'x_63': 429,\n",
        "            'y_63': 486,\n",
        "            'x_64': 470,\n",
        "            'y_64': 499,\n",
        "            'x_65': 511,\n",
        "            'y_65': 513,\n",
        "            'x_66': 469,\n",
        "            'y_66': 508,\n",
        "            'x_67': 430,\n",
        "            'y_67': 501,\n",
        "            'x_68': 377,\n",
        "            'y_68': 482,   \n",
        "          },\n",
        "           \n",
        "           {'x_1': 124,\n",
        "            'y_1': 348,\n",
        "            'x_2': 134,\n",
        "            'y_2': 415,\n",
        "            'x_3': 154,\n",
        "            'y_3': 494,\n",
        "            'x_4': 179,\n",
        "            'y_4': 568,\n",
        "            'x_5': 219,\n",
        "            'y_5': 617,\n",
        "            'x_6': 263,\n",
        "            'y_6': 663,\n",
        "            'x_7': 323,\n",
        "            'y_7': 696,\n",
        "            'x_8': 385,\n",
        "            'y_8': 711,\n",
        "            'x_9': 466,\n",
        "            'y_9': 713,\n",
        "            'x_10': 550,\n",
        "            'y_10': 710,\n",
        "            'x_11': 609,\n",
        "            'y_11': 681,\n",
        "            'x_12': 674,\n",
        "            'y_12': 631,\n",
        "            'x_13': 724,\n",
        "            'y_13': 584,\n",
        "            'x_14': 756,\n",
        "            'y_14': 538,\n",
        "            'x_15': 778,\n",
        "            'y_15': 489,\n",
        "            'x_16': 789,\n",
        "            'y_16': 426,\n",
        "            'x_17': 786,\n",
        "            'y_17': 356,\n",
        "            'x_18': 172,\n",
        "            'y_18': 257,\n",
        "            'x_19': 221,\n",
        "            'y_19': 224,\n",
        "            'x_20': 284,\n",
        "            'y_20': 220,\n",
        "            'x_21': 341,\n",
        "            'y_21': 230,\n",
        "            'x_22': 392,\n",
        "            'y_22': 265,\n",
        "            'x_23': 533,\n",
        "            'y_23': 246,\n",
        "            'x_24': 593,\n",
        "            'y_24': 217,\n",
        "            'x_25': 634,\n",
        "            'y_25': 218,\n",
        "            'x_26': 685,\n",
        "            'y_26': 224,\n",
        "            'x_27': 729,\n",
        "            'y_27': 245,\n",
        "            'x_28': 453,\n",
        "            'y_28': 283,\n",
        "            'x_29': 455,\n",
        "            'y_29': 336,\n",
        "            'x_30': 459,\n",
        "            'y_30': 387,\n",
        "            'x_31': 463,\n",
        "            'y_31': 454,\n",
        "            'x_32': 367,\n",
        "            'y_32': 457,\n",
        "            'x_33': 413,\n",
        "            'y_33': 466,\n",
        "            'x_34': 470,\n",
        "            'y_34': 485,\n",
        "            'x_35': 522,\n",
        "            'y_35': 466,\n",
        "            'x_36': 568,\n",
        "            'y_36': 444,\n",
        "            'x_37': 228,\n",
        "            'y_37': 313,\n",
        "            'x_38': 271,\n",
        "            'y_38': 291,\n",
        "            'x_39': 323,\n",
        "            'y_39': 288,\n",
        "            'x_40': 361,\n",
        "            'y_40': 308,\n",
        "            'x_41': 315,\n",
        "            'y_41': 327,\n",
        "            'x_42': 265,\n",
        "            'y_42': 322,\n",
        "            'x_43': 550,\n",
        "            'y_43': 304,\n",
        "            'x_44': 605,\n",
        "            'y_44': 277,\n",
        "            'x_45': 663,\n",
        "            'y_45': 280,\n",
        "            'x_46': 703,\n",
        "            'y_46': 297,\n",
        "            'x_47': 655,\n",
        "            'y_47': 312,\n",
        "            'x_48': 594,\n",
        "            'y_48': 312,\n",
        "            'x_49': 326,\n",
        "            'y_49': 547,\n",
        "            'x_50': 377,\n",
        "            'y_50': 529,\n",
        "            'x_51': 425,\n",
        "            'y_51': 525,\n",
        "            'x_52': 478,\n",
        "            'y_52': 524,\n",
        "            'x_53': 535,\n",
        "            'y_53': 517,\n",
        "            'x_54': 585,\n",
        "            'y_54': 512,\n",
        "            'x_55': 644,\n",
        "            'y_55': 518,\n",
        "            'x_56': 609,\n",
        "            'y_56': 551,\n",
        "            'x_57': 557,\n",
        "            'y_57': 579,\n",
        "            'x_58': 483,\n",
        "            'y_58': 594,\n",
        "            'x_59': 424,\n",
        "            'y_59': 596,\n",
        "            'x_60': 377,\n",
        "            'y_60': 588,\n",
        "            'x_61': 342,\n",
        "            'y_61': 551,\n",
        "            'x_62': 427,\n",
        "            'y_62': 542,\n",
        "            'x_63': 484,\n",
        "            'y_63': 540,\n",
        "            'x_64': 558,\n",
        "            'y_64': 527,\n",
        "            'x_65': 624,\n",
        "            'y_65': 527,\n",
        "            'x_66': 545,\n",
        "            'y_66': 566,\n",
        "            'x_67': 478,\n",
        "            'y_67': 577,\n",
        "            'x_68': 400,\n",
        "            'y_68': 578,  \n",
        "          },\n",
        "      ]\n",
        "    }\n",
        "# Convert to JSON string\n",
        "input_data = json.dumps(data)\n",
        "with open(\"data.json\", \"w\") as _f:\n",
        "    _f.write(input_data)\n",
        "\n",
        "# Set the content type\n",
        "headers = {'Content-Type': 'application/json'}\n",
        "# If authentication is enabled, set the authorization header\n",
        "headers['Authorization'] = f'Bearer {key}'\n",
        "\n",
        "# Make the request and display the response\n",
        "resp = requests.post(scoring_uri, input_data, headers=headers)\n",
        "#print(resp)\n",
        "print(resp.json())\n"
      ],
      "outputs": [
        {
          "output_type": "stream",
          "name": "stdout",
          "text": "{\"result\": [\"Healthy\", \"peripheral\", \"central\"]}\n"
        }
      ],
      "execution_count": 45,
      "metadata": {
        "gather": {
          "logged": 1643038994933
        },
        "jupyter": {
          "outputs_hidden": false,
          "source_hidden": false
        },
        "nteract": {
          "transient": {
            "deleting": false
          }
        }
      }
    },
    {
      "cell_type": "markdown",
      "source": [
        "TODO: In the cell below, print the logs of the web service and delete the service"
      ],
      "metadata": {
        "collapsed": true,
        "gather": {
          "logged": 1598432765711
        },
        "jupyter": {
          "outputs_hidden": false,
          "source_hidden": false
        },
        "nteract": {
          "transient": {
            "deleting": false
          }
        }
      }
    },
    {
      "cell_type": "code",
      "source": [
        "aci_service.get_logs()"
      ],
      "outputs": [
        {
          "output_type": "execute_result",
          "execution_count": 48,
          "data": {
            "text/plain": "'2022-01-24T15:09:51,154600900+00:00 - iot-server/run \\n2022-01-24T15:09:51,158574400+00:00 - gunicorn/run \\nDynamic Python package installation is disabled.\\nStarting HTTP server\\n2022-01-24T15:09:51,178697200+00:00 - rsyslog/run \\n2022-01-24T15:09:51,372806900+00:00 - nginx/run \\nEdgeHubConnectionString and IOTEDGE_IOTHUBHOSTNAME are not set. Exiting...\\n2022-01-24T15:09:51,715660000+00:00 - iot-server/finish 1 0\\n2022-01-24T15:09:51,749829000+00:00 - Exit code 1 is normal. Not restarting iot-server.\\nrsyslogd: /azureml-envs/azureml_0f7f18983f8fadd52db7ab2a1965cfbb/lib/libuuid.so.1: no version information available (required by rsyslogd)\\nStarting gunicorn 20.1.0\\nListening at: http://127.0.0.1:31311 (67)\\nUsing worker: sync\\nworker timeout is set to 300\\nBooting worker with pid: 98\\nSPARK_HOME not set. Skipping PySpark Initialization.\\nGenerating new fontManager, this may take some time...\\nInitializing logger\\n2022-01-24 15:09:54,937 | root | INFO | Starting up app insights client\\nlogging socket was found. logging is available.\\nlogging socket was found. logging is available.\\n2022-01-24 15:09:54,942 | root | INFO | Starting up request id generator\\n2022-01-24 15:09:54,942 | root | INFO | Starting up app insight hooks\\n2022-01-24 15:09:54,942 | root | INFO | Invoking user\\'s init function\\n2022-01-24 15:09:59,863 | azureml.core | WARNING | Failure while loading azureml_run_type_providers. Failed to load entrypoint hyperdrive = azureml.train.hyperdrive:HyperDriveRun._from_run_dto with exception The \\'PySocks!=1.5.7,>=1.5.6; extra == \"socks\"\\' distribution was not found and is required by requests.\\nFailure while loading azureml_run_type_providers. Failed to load entrypoint hyperdrive = azureml.train.hyperdrive:HyperDriveRun._from_run_dto with exception The \\'PySocks!=1.5.7,>=1.5.6; extra == \"socks\"\\' distribution was not found and is required by requests.\\n2022-01-24 15:09:59,952 | azureml.core | WARNING | Failure while loading azureml_run_type_providers. Failed to load entrypoint automl = azureml.train.automl.run:AutoMLRun._from_run_dto with exception (cloudpickle 2.0.0 (/azureml-envs/azureml_0f7f18983f8fadd52db7ab2a1965cfbb/lib/python3.6/site-packages), Requirement.parse(\\'cloudpickle<2.0.0,>=1.1.0\\'), {\\'azureml-dataprep\\'}).\\nFailure while loading azureml_run_type_providers. Failed to load entrypoint automl = azureml.train.automl.run:AutoMLRun._from_run_dto with exception (cloudpickle 2.0.0 (/azureml-envs/azureml_0f7f18983f8fadd52db7ab2a1965cfbb/lib/python3.6/site-packages), Requirement.parse(\\'cloudpickle<2.0.0,>=1.1.0\\'), {\\'azureml-dataprep\\'}).\\n2022-01-24 15:10:00,076 | azureml.core | WARNING | Failure while loading azureml_run_type_providers. Failed to load entrypoint azureml.scriptrun = azureml.core.script_run:ScriptRun._from_run_dto with exception The \\'PySocks!=1.5.7,>=1.5.6; extra == \"socks\"\\' distribution was not found and is required by requests.\\nFailure while loading azureml_run_type_providers. Failed to load entrypoint azureml.scriptrun = azureml.core.script_run:ScriptRun._from_run_dto with exception The \\'PySocks!=1.5.7,>=1.5.6; extra == \"socks\"\\' distribution was not found and is required by requests.\\n2022-01-24 15:10:01,048 | root | INFO | Users\\'s init has completed successfully\\n2022-01-24 15:10:01,067 | root | INFO | Skipping middleware: dbg_model_info as it\\'s not enabled.\\n2022-01-24 15:10:01,067 | root | INFO | Skipping middleware: dbg_resource_usage as it\\'s not enabled.\\nGenerating swagger file: /tmp/tmpcgucrtvt\\n2022-01-24 15:10:01,078 | root | INFO | Scoring timeout is found from os.environ: 60000 ms\\n2022-01-24 15:10:08,466 | root | INFO | 200\\n127.0.0.1 - - [24/Jan/2022:15:10:08 +0000] \"GET /swagger.json HTTP/1.0\" 200 11160 \"-\" \"Go-http-client/1.1\"\\n2022-01-24 15:10:12,023 | root | INFO | 200\\n127.0.0.1 - - [24/Jan/2022:15:10:12 +0000] \"GET /swagger.json HTTP/1.0\" 200 11160 \"-\" \"Go-http-client/1.1\"\\n2022-01-24 15:40:18,531 | root | INFO | 200\\n127.0.0.1 - - [24/Jan/2022:15:40:18 +0000] \"GET /swagger.json HTTP/1.0\" 200 11160 \"-\" \"Go-http-client/1.1\"\\n2022-01-24 15:40:23,443 | root | INFO | 200\\n127.0.0.1 - - [24/Jan/2022:15:40:23 +0000] \"GET /swagger.json HTTP/1.0\" 200 11160 \"-\" \"Mozilla/5.0 (Windows NT 10.0; Win64; x64) AppleWebKit/537.36 (KHTML, like Gecko) Chrome/87.0.4280.88 Safari/537.36\"\\n127.0.0.1 - - [24/Jan/2022:15:40:23 +0000] \"GET /favicon.ico HTTP/1.0\" 404 232 \"http://ac4b733f-e5b7-4486-84a5-ca8432f8c820.southcentralus.azurecontainer.io/swagger.json\" \"Mozilla/5.0 (Windows NT 10.0; Win64; x64) AppleWebKit/537.36 (KHTML, like Gecko) Chrome/87.0.4280.88 Safari/537.36\"\\n2022-01-24 15:40:28,703 | root | INFO | 200\\n127.0.0.1 - - [24/Jan/2022:15:40:28 +0000] \"GET /swagger.json HTTP/1.0\" 200 11160 \"-\" \"Go-http-client/1.1\"\\n2022-01-24 15:43:13,749 | root | INFO | Validation Request Content-Type\\n2022-01-24 15:43:13,750 | root | INFO | Scoring Timer is set to 60.0 seconds\\n2022-01-24 15:43:14,683 | root | INFO | 200\\n127.0.0.1 - - [24/Jan/2022:15:43:14 +0000] \"POST /score HTTP/1.0\" 200 58 \"-\" \"python-requests/2.26.0\"\\n2022-01-24 15:44:56,552 | root | INFO | 200\\n127.0.0.1 - - [24/Jan/2022:15:44:56 +0000] \"GET /swagger.json HTTP/1.0\" 200 11160 \"-\" \"Go-http-client/1.1\"\\n2022-01-24 15:44:58,013 | root | INFO | 200\\n127.0.0.1 - - [24/Jan/2022:15:44:58 +0000] \"GET /swagger.json HTTP/1.0\" 200 11160 \"-\" \"Go-http-client/1.1\"\\n'"
          },
          "metadata": {}
        }
      ],
      "execution_count": 48,
      "metadata": {
        "gather": {
          "logged": 1643039121843
        }
      }
    },
    {
      "cell_type": "code",
      "source": [
        "#logs.py file\n",
        "# from azureml.core.webservice import Webservice\n",
        "\n",
        "# # Set with the deployment name\n",
        "# name = \"palsy-classification2\"\n",
        "\n",
        "# # load existing web service\n",
        "# service = Webservice(name=name, workspace=ws)\n",
        "# logs = service.get_logs()\n",
        "\n",
        "# for line in logs.split('\\n'):\n",
        "#     print(line)\n",
        "\n",
        "# service.update(enable_app_insights=True)"
      ],
      "outputs": [
        {
          "output_type": "stream",
          "name": "stdout",
          "text": "2022-01-24T15:09:51,154600900+00:00 - iot-server/run \n2022-01-24T15:09:51,158574400+00:00 - gunicorn/run \nDynamic Python package installation is disabled.\nStarting HTTP server\n2022-01-24T15:09:51,178697200+00:00 - rsyslog/run \n2022-01-24T15:09:51,372806900+00:00 - nginx/run \nEdgeHubConnectionString and IOTEDGE_IOTHUBHOSTNAME are not set. Exiting...\n2022-01-24T15:09:51,715660000+00:00 - iot-server/finish 1 0\n2022-01-24T15:09:51,749829000+00:00 - Exit code 1 is normal. Not restarting iot-server.\nrsyslogd: /azureml-envs/azureml_0f7f18983f8fadd52db7ab2a1965cfbb/lib/libuuid.so.1: no version information available (required by rsyslogd)\nStarting gunicorn 20.1.0\nListening at: http://127.0.0.1:31311 (67)\nUsing worker: sync\nworker timeout is set to 300\nBooting worker with pid: 98\nSPARK_HOME not set. Skipping PySpark Initialization.\nGenerating new fontManager, this may take some time...\nInitializing logger\n2022-01-24 15:09:54,937 | root | INFO | Starting up app insights client\nlogging socket was found. logging is available.\nlogging socket was found. logging is available.\n2022-01-24 15:09:54,942 | root | INFO | Starting up request id generator\n2022-01-24 15:09:54,942 | root | INFO | Starting up app insight hooks\n2022-01-24 15:09:54,942 | root | INFO | Invoking user's init function\n2022-01-24 15:09:59,863 | azureml.core | WARNING | Failure while loading azureml_run_type_providers. Failed to load entrypoint hyperdrive = azureml.train.hyperdrive:HyperDriveRun._from_run_dto with exception The 'PySocks!=1.5.7,>=1.5.6; extra == \"socks\"' distribution was not found and is required by requests.\nFailure while loading azureml_run_type_providers. Failed to load entrypoint hyperdrive = azureml.train.hyperdrive:HyperDriveRun._from_run_dto with exception The 'PySocks!=1.5.7,>=1.5.6; extra == \"socks\"' distribution was not found and is required by requests.\n2022-01-24 15:09:59,952 | azureml.core | WARNING | Failure while loading azureml_run_type_providers. Failed to load entrypoint automl = azureml.train.automl.run:AutoMLRun._from_run_dto with exception (cloudpickle 2.0.0 (/azureml-envs/azureml_0f7f18983f8fadd52db7ab2a1965cfbb/lib/python3.6/site-packages), Requirement.parse('cloudpickle<2.0.0,>=1.1.0'), {'azureml-dataprep'}).\nFailure while loading azureml_run_type_providers. Failed to load entrypoint automl = azureml.train.automl.run:AutoMLRun._from_run_dto with exception (cloudpickle 2.0.0 (/azureml-envs/azureml_0f7f18983f8fadd52db7ab2a1965cfbb/lib/python3.6/site-packages), Requirement.parse('cloudpickle<2.0.0,>=1.1.0'), {'azureml-dataprep'}).\n2022-01-24 15:10:00,076 | azureml.core | WARNING | Failure while loading azureml_run_type_providers. Failed to load entrypoint azureml.scriptrun = azureml.core.script_run:ScriptRun._from_run_dto with exception The 'PySocks!=1.5.7,>=1.5.6; extra == \"socks\"' distribution was not found and is required by requests.\nFailure while loading azureml_run_type_providers. Failed to load entrypoint azureml.scriptrun = azureml.core.script_run:ScriptRun._from_run_dto with exception The 'PySocks!=1.5.7,>=1.5.6; extra == \"socks\"' distribution was not found and is required by requests.\n2022-01-24 15:10:01,048 | root | INFO | Users's init has completed successfully\n2022-01-24 15:10:01,067 | root | INFO | Skipping middleware: dbg_model_info as it's not enabled.\n2022-01-24 15:10:01,067 | root | INFO | Skipping middleware: dbg_resource_usage as it's not enabled.\nGenerating swagger file: /tmp/tmpcgucrtvt\n2022-01-24 15:10:01,078 | root | INFO | Scoring timeout is found from os.environ: 60000 ms\n2022-01-24 15:10:08,466 | root | INFO | 200\n127.0.0.1 - - [24/Jan/2022:15:10:08 +0000] \"GET /swagger.json HTTP/1.0\" 200 11160 \"-\" \"Go-http-client/1.1\"\n2022-01-24 15:10:12,023 | root | INFO | 200\n127.0.0.1 - - [24/Jan/2022:15:10:12 +0000] \"GET /swagger.json HTTP/1.0\" 200 11160 \"-\" \"Go-http-client/1.1\"\n2022-01-24 15:40:18,531 | root | INFO | 200\n127.0.0.1 - - [24/Jan/2022:15:40:18 +0000] \"GET /swagger.json HTTP/1.0\" 200 11160 \"-\" \"Go-http-client/1.1\"\n2022-01-24 15:40:23,443 | root | INFO | 200\n127.0.0.1 - - [24/Jan/2022:15:40:23 +0000] \"GET /swagger.json HTTP/1.0\" 200 11160 \"-\" \"Mozilla/5.0 (Windows NT 10.0; Win64; x64) AppleWebKit/537.36 (KHTML, like Gecko) Chrome/87.0.4280.88 Safari/537.36\"\n127.0.0.1 - - [24/Jan/2022:15:40:23 +0000] \"GET /favicon.ico HTTP/1.0\" 404 232 \"http://ac4b733f-e5b7-4486-84a5-ca8432f8c820.southcentralus.azurecontainer.io/swagger.json\" \"Mozilla/5.0 (Windows NT 10.0; Win64; x64) AppleWebKit/537.36 (KHTML, like Gecko) Chrome/87.0.4280.88 Safari/537.36\"\n2022-01-24 15:40:28,703 | root | INFO | 200\n127.0.0.1 - - [24/Jan/2022:15:40:28 +0000] \"GET /swagger.json HTTP/1.0\" 200 11160 \"-\" \"Go-http-client/1.1\"\n2022-01-24 15:43:13,749 | root | INFO | Validation Request Content-Type\n2022-01-24 15:43:13,750 | root | INFO | Scoring Timer is set to 60.0 seconds\n2022-01-24 15:43:14,683 | root | INFO | 200\n127.0.0.1 - - [24/Jan/2022:15:43:14 +0000] \"POST /score HTTP/1.0\" 200 58 \"-\" \"python-requests/2.26.0\"\n2022-01-24 15:44:56,552 | root | INFO | 200\n127.0.0.1 - - [24/Jan/2022:15:44:56 +0000] \"GET /swagger.json HTTP/1.0\" 200 11160 \"-\" \"Go-http-client/1.1\"\n\n"
        }
      ],
      "execution_count": 47,
      "metadata": {
        "jupyter": {
          "outputs_hidden": false,
          "source_hidden": false
        },
        "nteract": {
          "transient": {
            "deleting": false
          }
        },
        "gather": {
          "logged": 1643039098405
        }
      }
    },
    {
      "cell_type": "markdown",
      "source": [
        "**Submission Checklist**\n",
        "- I have registered the model.\n",
        "- I have deployed the model with the best accuracy as a webservice.\n",
        "- I have tested the webservice by sending a request to the model endpoint.\n",
        "- I have deleted the webservice and shutdown all the computes that I have used.\n",
        "- I have taken a screenshot showing the model endpoint as active.\n",
        "- The project includes a file containing the environment details.\n"
      ],
      "metadata": {}
    },
    {
      "cell_type": "code",
      "source": [
        "aci_service.delete()\n",
        "\n",
        "# service.delete()\n",
        "\n",
        "compute_target.delete()\n"
      ],
      "outputs": [
        {
          "output_type": "stream",
          "name": "stdout",
          "text": "Current provisioning state of AmlCompute is \"Deleting\"\n\n"
        }
      ],
      "execution_count": 51,
      "metadata": {
        "gather": {
          "logged": 1643041443224
        }
      }
    }
  ],
  "metadata": {
    "kernel_info": {
      "name": "python3"
    },
    "kernelspec": {
      "name": "python3",
      "language": "python",
      "display_name": "Python 3"
    },
    "language_info": {
      "name": "python",
      "version": "3.6.9",
      "mimetype": "text/x-python",
      "codemirror_mode": {
        "name": "ipython",
        "version": 3
      },
      "pygments_lexer": "ipython3",
      "nbconvert_exporter": "python",
      "file_extension": ".py"
    },
    "nteract": {
      "version": "nteract-front-end@1.0.0"
    },
    "microsoft": {
      "host": {
        "AzureML": {
          "notebookHasBeenCompleted": true
        }
      }
    }
  },
  "nbformat": 4,
  "nbformat_minor": 2
}